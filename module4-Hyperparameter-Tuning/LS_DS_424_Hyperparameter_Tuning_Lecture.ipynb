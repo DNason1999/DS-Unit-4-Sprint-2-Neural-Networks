{
 "cells": [
  {
   "cell_type": "markdown",
   "metadata": {
    "colab_type": "text",
    "id": "41TS0Sa0rDNx"
   },
   "source": [
    "Lambda School Data Science\n",
    "\n",
    "*Unit 4, Sprint 2, Module 4*\n",
    "\n",
    "---"
   ]
  },
  {
   "cell_type": "markdown",
   "metadata": {
    "colab_type": "text",
    "id": "41TS0Sa0rDNx"
   },
   "source": [
    "# Neural Networks & GPUs (Prepare)\n",
    "*aka Hyperparameter Tuning*\n",
    "\n",
    "*aka Big Servers for Big Problems*"
   ]
  },
  {
   "cell_type": "markdown",
   "metadata": {
    "colab_type": "text",
    "id": "41TS0Sa0rDNx"
   },
   "source": [
    "## Learning Objectives\n",
    "* <a href=\"#p1\">Part 1</a>: Describe the major hyperparemeters to tune\n",
    "* <a href=\"#p2\">Part 2</a>: Implement an experiment tracking framework\n",
    "* <a href=\"#p3\">Part 3</a>: Search the hyperparameter space using RandomSearch (Optional)"
   ]
  },
  {
   "cell_type": "code",
   "execution_count": 1,
   "metadata": {},
   "outputs": [],
   "source": [
    "wandb_group = \"ds8\"\n",
    "wandb_project = \"inclass\""
   ]
  },
  {
   "cell_type": "markdown",
   "metadata": {},
   "source": [
    "# Hyperparameter Options (Learn)\n",
    "<a id=\"p1\"></a>"
   ]
  },
  {
   "cell_type": "markdown",
   "metadata": {},
   "source": [
    "## Overview\n",
    "\n",
    "Hyperparameter tuning is much more important with neural networks than it has been with any other models that we have considered up to this point. Other supervised learning models might have a couple of parameters, but neural networks can have dozens. These can substantially affect the accuracy of our models and although it can be a time consuming process is a necessary step when working with neural networks.\n",
    "​\n",
    "Hyperparameter tuning comes with a challenge. How can we compare models specified with different hyperparameters if our model's final error metric can vary somewhat erratically? How do we avoid just getting unlucky and selecting the wrong hyperparameter? This is a problem that to a certain degree we just have to live with as we test and test again. However, we can minimize it somewhat by pairing our experiments with Cross Validation to reduce the variance of our final accuracy values."
   ]
  },
  {
   "cell_type": "markdown",
   "metadata": {
    "colab_type": "text",
    "id": "0s0o2pqBs88q"
   },
   "source": [
    "### Load Boston Housing Data"
   ]
  },
  {
   "cell_type": "code",
   "execution_count": 2,
   "metadata": {},
   "outputs": [],
   "source": [
    "from tensorflow.keras.datasets import boston_housing\n",
    "\n",
    "(x_train, y_train), (x_test, y_test) = boston_housing.load_data()"
   ]
  },
  {
   "cell_type": "markdown",
   "metadata": {
    "colab_type": "text",
    "id": "Pm7zow5IvaTt"
   },
   "source": [
    "### Normalizing Input Data\n",
    "\n",
    "It's not 100% necessary to normalize/scale your input data before feeding it to a neural network, the network can learn the appropriate weights to deal with data of as long as it is numerically represented,  but it is recommended as it can help **make training faster** and **reduces the chances that gradient descent might get stuck in a local optimum**.\n",
    "\n",
    "<https://stackoverflow.com/questions/4674623/why-do-we-have-to-normalize-the-input-for-an-artificial-neural-network>"
   ]
  },
  {
   "cell_type": "code",
   "execution_count": 3,
   "metadata": {
    "scrolled": true
   },
   "outputs": [
    {
     "name": "stdout",
     "output_type": "stream",
     "text": [
      "[[-0.27224633 -0.48361547 -0.43576161 -0.25683275 -0.1652266  -0.1764426\n",
      "   0.81306188  0.1166983  -0.62624905 -0.59517003  1.14850044  0.44807713\n",
      "   0.8252202 ]\n",
      " [-0.40342651  2.99178419 -1.33391162 -0.25683275 -1.21518188  1.89434613\n",
      "  -1.91036058  1.24758524 -0.85646254 -0.34843254 -1.71818909  0.43190599\n",
      "  -1.32920239]\n",
      " [ 0.1249402  -0.48361547  1.0283258  -0.25683275  0.62864202 -1.82968811\n",
      "   1.11048828 -1.18743907  1.67588577  1.5652875   0.78447637  0.22061726\n",
      "  -1.30850006]\n",
      " [-0.40149354 -0.48361547 -0.86940196 -0.25683275 -0.3615597  -0.3245576\n",
      "  -1.23667187  1.10717989 -0.51114231 -1.094663    0.78447637  0.44807713\n",
      "  -0.65292624]\n",
      " [-0.0056343  -0.48361547  1.0283258  -0.25683275  1.32861221  0.15364225\n",
      "   0.69480801 -0.57857203  1.67588577  1.5652875   0.78447637  0.3898823\n",
      "   0.26349695]\n",
      " [-0.37502238 -0.48361547 -0.54747912 -0.25683275 -0.54935658 -0.78865126\n",
      "   0.18954148  0.48371503 -0.51114231 -0.71552978  0.51145832  0.38669063\n",
      "  -0.13812828]\n",
      " [ 0.58963463 -0.48361547  1.0283258  -0.25683275  1.21764133 -1.03127774\n",
      "   1.11048828 -1.06518235  1.67588577  1.5652875   0.78447637  0.44807713\n",
      "   1.49873604]\n",
      " [ 0.0381708  -0.48361547  1.24588095 -0.25683275  2.67733525 -1.12719983\n",
      "   1.11048828 -1.14833073 -0.51114231 -0.01744323 -1.71818909  0.44807713\n",
      "   1.88793986]\n",
      " [-0.17228416 -0.48361547  1.24588095 -0.25683275  2.67733525 -0.90150078\n",
      "   1.11048828 -1.09664657 -0.51114231 -0.01744323 -1.71818909 -1.97365769\n",
      "   0.53952803]\n",
      " [-0.22932104 -0.48361547  1.58544339 -0.25683275  0.56888847 -1.76056777\n",
      "   1.11048828 -1.13471925 -0.62624905  0.18716835  1.23950646  0.44807713\n",
      "   2.99068404]]\n"
     ]
    }
   ],
   "source": [
    "from sklearn.preprocessing import StandardScaler\n",
    "\n",
    "scaler = StandardScaler()\n",
    "\n",
    "x_train = scaler.fit_transform(x_train)\n",
    "x_test = scaler.transform(x_test)\n",
    "print(x_train[:10])"
   ]
  },
  {
   "cell_type": "markdown",
   "metadata": {
    "colab_type": "text",
    "id": "l6hgCWbir90R"
   },
   "source": [
    "### Model Validation using an automatic verification Dataset\n",
    "\n",
    "Instead of doing seperate train test split class, Keras has a really nice feature that you can set the validation.data argument when fitting your model and Keras will take that portion of your test data and use it as a validation dataset. "
   ]
  },
  {
   "cell_type": "code",
   "execution_count": 4,
   "metadata": {
    "colab": {
     "base_uri": "https://localhost:8080/",
     "height": 1750
    },
    "colab_type": "code",
    "id": "GMXVfmzXp1Oo",
    "outputId": "b05e251e-508f-46e6-865b-f869ae2a5dc4",
    "scrolled": true
   },
   "outputs": [
    {
     "name": "stderr",
     "output_type": "stream",
     "text": [
      "WARNING: Logging before flag parsing goes to stderr.\n",
      "W0123 11:30:06.944479 14504 deprecation.py:506] From c:\\users\\dylan nason\\anaconda3\\envs\\u4-s2-nn\\lib\\site-packages\\tensorflow\\python\\ops\\init_ops.py:1251: calling VarianceScaling.__init__ (from tensorflow.python.ops.init_ops) with dtype is deprecated and will be removed in a future version.\n",
      "Instructions for updating:\n",
      "Call initializer instance with the dtype argument instead of passing it to the constructor\n"
     ]
    },
    {
     "name": "stdout",
     "output_type": "stream",
     "text": [
      "Train on 404 samples, validate on 102 samples\n",
      "Epoch 1/75\n",
      "404/404 [==============================] - 0s 1ms/sample - loss: 536.4968 - mean_squared_error: 536.4967 - mean_absolute_error: 21.2430 - val_loss: 465.2204 - val_mean_squared_error: 465.2204 - val_mean_absolute_error: 19.6217\n",
      "Epoch 2/75\n",
      "404/404 [==============================] - 0s 339us/sample - loss: 322.0969 - mean_squared_error: 322.0970 - mean_absolute_error: 15.5412 - val_loss: 185.9712 - val_mean_squared_error: 185.9712 - val_mean_absolute_error: 11.4784\n",
      "Epoch 3/75\n",
      "404/404 [==============================] - 0s 302us/sample - loss: 101.4072 - mean_squared_error: 101.4072 - mean_absolute_error: 7.5943 - val_loss: 58.5079 - val_mean_squared_error: 58.5079 - val_mean_absolute_error: 5.8440\n",
      "Epoch 4/75\n",
      "404/404 [==============================] - 0s 366us/sample - loss: 41.8721 - mean_squared_error: 41.8721 - mean_absolute_error: 4.6951 - val_loss: 35.4818 - val_mean_squared_error: 35.4818 - val_mean_absolute_error: 4.7196\n",
      "Epoch 5/75\n",
      "404/404 [==============================] - 0s 290us/sample - loss: 27.8669 - mean_squared_error: 27.8669 - mean_absolute_error: 3.8892 - val_loss: 27.7670 - val_mean_squared_error: 27.7670 - val_mean_absolute_error: 4.1649\n",
      "Epoch 6/75\n",
      "404/404 [==============================] - 0s 347us/sample - loss: 22.6597 - mean_squared_error: 22.6597 - mean_absolute_error: 3.4532 - val_loss: 24.5994 - val_mean_squared_error: 24.5994 - val_mean_absolute_error: 3.9310\n",
      "Epoch 7/75\n",
      "404/404 [==============================] - 0s 309us/sample - loss: 20.0145 - mean_squared_error: 20.0145 - mean_absolute_error: 3.2436 - val_loss: 22.4845 - val_mean_squared_error: 22.4845 - val_mean_absolute_error: 3.7049\n",
      "Epoch 8/75\n",
      "404/404 [==============================] - 0s 309us/sample - loss: 18.3365 - mean_squared_error: 18.3365 - mean_absolute_error: 3.0935 - val_loss: 22.0071 - val_mean_squared_error: 22.0071 - val_mean_absolute_error: 3.6150\n",
      "Epoch 9/75\n",
      "404/404 [==============================] - 0s 287us/sample - loss: 16.8498 - mean_squared_error: 16.8498 - mean_absolute_error: 2.9553 - val_loss: 21.1915 - val_mean_squared_error: 21.1915 - val_mean_absolute_error: 3.5068\n",
      "Epoch 10/75\n",
      "404/404 [==============================] - 0s 309us/sample - loss: 15.7179 - mean_squared_error: 15.7179 - mean_absolute_error: 2.8371 - val_loss: 20.6002 - val_mean_squared_error: 20.6002 - val_mean_absolute_error: 3.4345\n",
      "Epoch 11/75\n",
      "404/404 [==============================] - 0s 537us/sample - loss: 14.6533 - mean_squared_error: 14.6533 - mean_absolute_error: 2.7692 - val_loss: 21.7539 - val_mean_squared_error: 21.7539 - val_mean_absolute_error: 3.4720\n",
      "Epoch 12/75\n",
      "404/404 [==============================] - 0s 280us/sample - loss: 13.7688 - mean_squared_error: 13.7688 - mean_absolute_error: 2.6548 - val_loss: 21.2343 - val_mean_squared_error: 21.2343 - val_mean_absolute_error: 3.3533\n",
      "Epoch 13/75\n",
      "404/404 [==============================] - 0s 369us/sample - loss: 13.0021 - mean_squared_error: 13.0021 - mean_absolute_error: 2.5821 - val_loss: 20.5494 - val_mean_squared_error: 20.5494 - val_mean_absolute_error: 3.2950\n",
      "Epoch 14/75\n",
      "404/404 [==============================] - 0s 282us/sample - loss: 12.3197 - mean_squared_error: 12.3197 - mean_absolute_error: 2.4970 - val_loss: 20.9500 - val_mean_squared_error: 20.9500 - val_mean_absolute_error: 3.2624\n",
      "Epoch 15/75\n",
      "404/404 [==============================] - 0s 468us/sample - loss: 11.8941 - mean_squared_error: 11.8941 - mean_absolute_error: 2.4371 - val_loss: 20.7046 - val_mean_squared_error: 20.7046 - val_mean_absolute_error: 3.2106\n",
      "Epoch 16/75\n",
      "404/404 [==============================] - 0s 396us/sample - loss: 11.3326 - mean_squared_error: 11.3326 - mean_absolute_error: 2.4131 - val_loss: 20.8569 - val_mean_squared_error: 20.8569 - val_mean_absolute_error: 3.1821\n",
      "Epoch 17/75\n",
      "404/404 [==============================] - 0s 488us/sample - loss: 10.8622 - mean_squared_error: 10.8622 - mean_absolute_error: 2.3451 - val_loss: 20.9079 - val_mean_squared_error: 20.9079 - val_mean_absolute_error: 3.1608\n",
      "Epoch 18/75\n",
      "404/404 [==============================] - 0s 329us/sample - loss: 10.5009 - mean_squared_error: 10.5009 - mean_absolute_error: 2.2990 - val_loss: 21.5869 - val_mean_squared_error: 21.5869 - val_mean_absolute_error: 3.1685\n",
      "Epoch 19/75\n",
      "404/404 [==============================] - 0s 369us/sample - loss: 10.3178 - mean_squared_error: 10.3178 - mean_absolute_error: 2.3070 - val_loss: 21.3252 - val_mean_squared_error: 21.3252 - val_mean_absolute_error: 3.1262\n",
      "Epoch 20/75\n",
      "404/404 [==============================] - 0s 275us/sample - loss: 9.9266 - mean_squared_error: 9.9266 - mean_absolute_error: 2.2592 - val_loss: 20.7417 - val_mean_squared_error: 20.7417 - val_mean_absolute_error: 3.0633\n",
      "Epoch 21/75\n",
      "404/404 [==============================] - 0s 287us/sample - loss: 9.7916 - mean_squared_error: 9.7916 - mean_absolute_error: 2.2346 - val_loss: 22.8229 - val_mean_squared_error: 22.8230 - val_mean_absolute_error: 3.1786\n",
      "Epoch 22/75\n",
      "404/404 [==============================] - 0s 337us/sample - loss: 9.6924 - mean_squared_error: 9.6924 - mean_absolute_error: 2.2857 - val_loss: 20.0761 - val_mean_squared_error: 20.0761 - val_mean_absolute_error: 2.9753\n",
      "Epoch 23/75\n",
      "404/404 [==============================] - 0s 401us/sample - loss: 9.3372 - mean_squared_error: 9.3372 - mean_absolute_error: 2.1837 - val_loss: 22.6186 - val_mean_squared_error: 22.6186 - val_mean_absolute_error: 3.1320\n",
      "Epoch 24/75\n",
      "404/404 [==============================] - 0s 347us/sample - loss: 9.2939 - mean_squared_error: 9.2939 - mean_absolute_error: 2.1980 - val_loss: 21.6396 - val_mean_squared_error: 21.6396 - val_mean_absolute_error: 3.0657\n",
      "Epoch 25/75\n",
      "404/404 [==============================] - 0s 342us/sample - loss: 9.2066 - mean_squared_error: 9.2066 - mean_absolute_error: 2.1684 - val_loss: 20.8142 - val_mean_squared_error: 20.8142 - val_mean_absolute_error: 2.9758\n",
      "Epoch 26/75\n",
      "404/404 [==============================] - 0s 300us/sample - loss: 8.8994 - mean_squared_error: 8.8994 - mean_absolute_error: 2.1377 - val_loss: 20.8869 - val_mean_squared_error: 20.8869 - val_mean_absolute_error: 2.9659\n",
      "Epoch 27/75\n",
      "404/404 [==============================] - 0s 272us/sample - loss: 8.9400 - mean_squared_error: 8.9400 - mean_absolute_error: 2.1338 - val_loss: 21.5570 - val_mean_squared_error: 21.5570 - val_mean_absolute_error: 2.9932\n",
      "Epoch 28/75\n",
      "404/404 [==============================] - 0s 285us/sample - loss: 8.8388 - mean_squared_error: 8.8388 - mean_absolute_error: 2.1328 - val_loss: 19.7749 - val_mean_squared_error: 19.7749 - val_mean_absolute_error: 2.8785\n",
      "Epoch 29/75\n",
      "404/404 [==============================] - ETA: 0s - loss: 7.5513 - mean_squared_error: 7.5513 - mean_absolute_error: 2.01 - 0s 297us/sample - loss: 8.6279 - mean_squared_error: 8.6279 - mean_absolute_error: 2.1033 - val_loss: 20.8022 - val_mean_squared_error: 20.8022 - val_mean_absolute_error: 2.9037\n",
      "Epoch 30/75\n",
      "404/404 [==============================] - 0s 324us/sample - loss: 8.4881 - mean_squared_error: 8.4881 - mean_absolute_error: 2.0731 - val_loss: 21.5317 - val_mean_squared_error: 21.5317 - val_mean_absolute_error: 2.9962\n",
      "Epoch 31/75\n",
      "404/404 [==============================] - 0s 322us/sample - loss: 8.4260 - mean_squared_error: 8.4260 - mean_absolute_error: 2.0731 - val_loss: 21.6005 - val_mean_squared_error: 21.6005 - val_mean_absolute_error: 2.9844\n",
      "Epoch 32/75\n",
      "404/404 [==============================] - 0s 364us/sample - loss: 8.4082 - mean_squared_error: 8.4082 - mean_absolute_error: 2.0791 - val_loss: 20.6357 - val_mean_squared_error: 20.6357 - val_mean_absolute_error: 2.8718\n",
      "Epoch 33/75\n",
      "404/404 [==============================] - 0s 282us/sample - loss: 8.1920 - mean_squared_error: 8.1920 - mean_absolute_error: 2.0361 - val_loss: 21.1987 - val_mean_squared_error: 21.1987 - val_mean_absolute_error: 2.9261\n",
      "Epoch 34/75\n",
      "404/404 [==============================] - 0s 361us/sample - loss: 8.2517 - mean_squared_error: 8.2517 - mean_absolute_error: 2.0712 - val_loss: 20.7417 - val_mean_squared_error: 20.7417 - val_mean_absolute_error: 2.8910\n",
      "Epoch 35/75\n",
      "404/404 [==============================] - 0s 371us/sample - loss: 8.2172 - mean_squared_error: 8.2172 - mean_absolute_error: 2.0205 - val_loss: 19.9045 - val_mean_squared_error: 19.9045 - val_mean_absolute_error: 2.8949\n",
      "Epoch 36/75\n",
      "404/404 [==============================] - 0s 277us/sample - loss: 7.9302 - mean_squared_error: 7.9302 - mean_absolute_error: 2.0060 - val_loss: 19.9214 - val_mean_squared_error: 19.9214 - val_mean_absolute_error: 2.8218\n",
      "Epoch 37/75\n",
      "404/404 [==============================] - 0s 314us/sample - loss: 7.9508 - mean_squared_error: 7.9508 - mean_absolute_error: 2.0042 - val_loss: 21.1146 - val_mean_squared_error: 21.1146 - val_mean_absolute_error: 2.9623\n",
      "Epoch 38/75\n",
      "404/404 [==============================] - 0s 413us/sample - loss: 7.9389 - mean_squared_error: 7.9389 - mean_absolute_error: 2.0087 - val_loss: 20.8627 - val_mean_squared_error: 20.8627 - val_mean_absolute_error: 2.9024\n",
      "Epoch 39/75\n",
      "404/404 [==============================] - 0s 302us/sample - loss: 7.5926 - mean_squared_error: 7.5926 - mean_absolute_error: 1.9774 - val_loss: 18.8381 - val_mean_squared_error: 18.8381 - val_mean_absolute_error: 2.7411\n",
      "Epoch 40/75\n",
      "404/404 [==============================] - 0s 267us/sample - loss: 7.4956 - mean_squared_error: 7.4956 - mean_absolute_error: 1.9479 - val_loss: 19.8258 - val_mean_squared_error: 19.8258 - val_mean_absolute_error: 2.8586\n",
      "Epoch 41/75\n",
      "404/404 [==============================] - 0s 282us/sample - loss: 7.4795 - mean_squared_error: 7.4795 - mean_absolute_error: 1.9623 - val_loss: 18.7815 - val_mean_squared_error: 18.7815 - val_mean_absolute_error: 2.7334\n",
      "Epoch 42/75\n",
      "404/404 [==============================] - 0s 324us/sample - loss: 7.4374 - mean_squared_error: 7.4374 - mean_absolute_error: 1.9551 - val_loss: 19.3372 - val_mean_squared_error: 19.3372 - val_mean_absolute_error: 2.8408\n",
      "Epoch 43/75\n",
      "404/404 [==============================] - 0s 379us/sample - loss: 7.3337 - mean_squared_error: 7.3337 - mean_absolute_error: 1.9280 - val_loss: 19.3447 - val_mean_squared_error: 19.3447 - val_mean_absolute_error: 2.7645\n",
      "Epoch 44/75\n",
      "404/404 [==============================] - 0s 493us/sample - loss: 7.1962 - mean_squared_error: 7.1962 - mean_absolute_error: 1.9088 - val_loss: 19.0174 - val_mean_squared_error: 19.0174 - val_mean_absolute_error: 2.7384\n",
      "Epoch 45/75\n",
      "404/404 [==============================] - 0s 342us/sample - loss: 7.3025 - mean_squared_error: 7.3025 - mean_absolute_error: 1.9122 - val_loss: 20.0392 - val_mean_squared_error: 20.0392 - val_mean_absolute_error: 2.7864\n",
      "Epoch 46/75\n",
      "404/404 [==============================] - 0s 290us/sample - loss: 7.2765 - mean_squared_error: 7.2765 - mean_absolute_error: 1.9249 - val_loss: 18.5413 - val_mean_squared_error: 18.5413 - val_mean_absolute_error: 2.7202\n",
      "Epoch 47/75\n",
      "404/404 [==============================] - 0s 351us/sample - loss: 6.9277 - mean_squared_error: 6.9277 - mean_absolute_error: 1.8870 - val_loss: 19.5178 - val_mean_squared_error: 19.5178 - val_mean_absolute_error: 2.7811\n",
      "Epoch 48/75\n",
      "404/404 [==============================] - 0s 309us/sample - loss: 7.0634 - mean_squared_error: 7.0634 - mean_absolute_error: 1.8996 - val_loss: 19.1365 - val_mean_squared_error: 19.1365 - val_mean_absolute_error: 2.7368\n",
      "Epoch 49/75\n",
      "404/404 [==============================] - 0s 292us/sample - loss: 7.0163 - mean_squared_error: 7.0163 - mean_absolute_error: 1.9217 - val_loss: 18.1088 - val_mean_squared_error: 18.1088 - val_mean_absolute_error: 2.6665\n",
      "Epoch 50/75\n",
      "404/404 [==============================] - 0s 238us/sample - loss: 6.7714 - mean_squared_error: 6.7714 - mean_absolute_error: 1.8495 - val_loss: 18.3339 - val_mean_squared_error: 18.3339 - val_mean_absolute_error: 2.6654\n",
      "Epoch 51/75\n",
      "404/404 [==============================] - 0s 275us/sample - loss: 6.8408 - mean_squared_error: 6.8408 - mean_absolute_error: 1.8765 - val_loss: 18.1822 - val_mean_squared_error: 18.1822 - val_mean_absolute_error: 2.6606\n",
      "Epoch 52/75\n",
      "404/404 [==============================] - 0s 295us/sample - loss: 6.7274 - mean_squared_error: 6.7274 - mean_absolute_error: 1.8758 - val_loss: 18.5839 - val_mean_squared_error: 18.5839 - val_mean_absolute_error: 2.8323\n",
      "Epoch 53/75\n",
      "404/404 [==============================] - 0s 257us/sample - loss: 6.8505 - mean_squared_error: 6.8505 - mean_absolute_error: 1.8605 - val_loss: 17.9909 - val_mean_squared_error: 17.9909 - val_mean_absolute_error: 2.6570\n",
      "Epoch 54/75\n",
      "404/404 [==============================] - 0s 292us/sample - loss: 6.7227 - mean_squared_error: 6.7227 - mean_absolute_error: 1.8600 - val_loss: 17.9869 - val_mean_squared_error: 17.9869 - val_mean_absolute_error: 2.6747\n",
      "Epoch 55/75\n",
      "404/404 [==============================] - 0s 287us/sample - loss: 6.5098 - mean_squared_error: 6.5098 - mean_absolute_error: 1.8127 - val_loss: 17.5622 - val_mean_squared_error: 17.5622 - val_mean_absolute_error: 2.6536\n",
      "Epoch 56/75\n",
      "404/404 [==============================] - 0s 490us/sample - loss: 6.3950 - mean_squared_error: 6.3950 - mean_absolute_error: 1.8020 - val_loss: 17.9352 - val_mean_squared_error: 17.9352 - val_mean_absolute_error: 2.6979\n",
      "Epoch 57/75\n",
      "404/404 [==============================] - 0s 272us/sample - loss: 6.4665 - mean_squared_error: 6.4665 - mean_absolute_error: 1.8302 - val_loss: 19.1009 - val_mean_squared_error: 19.1009 - val_mean_absolute_error: 2.7784\n",
      "Epoch 58/75\n",
      "404/404 [==============================] - 0s 401us/sample - loss: 6.6402 - mean_squared_error: 6.6402 - mean_absolute_error: 1.8157 - val_loss: 20.4263 - val_mean_squared_error: 20.4263 - val_mean_absolute_error: 2.8389\n",
      "Epoch 59/75\n",
      "404/404 [==============================] - 0s 344us/sample - loss: 6.3960 - mean_squared_error: 6.3960 - mean_absolute_error: 1.8180 - val_loss: 18.2078 - val_mean_squared_error: 18.2078 - val_mean_absolute_error: 2.6723\n",
      "Epoch 60/75\n",
      "404/404 [==============================] - 0s 297us/sample - loss: 6.2889 - mean_squared_error: 6.2889 - mean_absolute_error: 1.7976 - val_loss: 17.7830 - val_mean_squared_error: 17.7830 - val_mean_absolute_error: 2.6105\n",
      "Epoch 61/75\n",
      "404/404 [==============================] - 0s 252us/sample - loss: 6.2136 - mean_squared_error: 6.2136 - mean_absolute_error: 1.7709 - val_loss: 17.4642 - val_mean_squared_error: 17.4642 - val_mean_absolute_error: 2.6374\n",
      "Epoch 62/75\n",
      "404/404 [==============================] - 0s 260us/sample - loss: 6.1899 - mean_squared_error: 6.1899 - mean_absolute_error: 1.7781 - val_loss: 17.1257 - val_mean_squared_error: 17.1257 - val_mean_absolute_error: 2.6142\n",
      "Epoch 63/75\n",
      "404/404 [==============================] - 0s 262us/sample - loss: 6.1419 - mean_squared_error: 6.1419 - mean_absolute_error: 1.7454 - val_loss: 17.2346 - val_mean_squared_error: 17.2346 - val_mean_absolute_error: 2.6150\n",
      "Epoch 64/75\n",
      "404/404 [==============================] - 0s 270us/sample - loss: 5.9873 - mean_squared_error: 5.9873 - mean_absolute_error: 1.7458 - val_loss: 18.0254 - val_mean_squared_error: 18.0254 - val_mean_absolute_error: 2.6624\n",
      "Epoch 65/75\n",
      "404/404 [==============================] - 0s 280us/sample - loss: 5.9340 - mean_squared_error: 5.9340 - mean_absolute_error: 1.7556 - val_loss: 17.4238 - val_mean_squared_error: 17.4238 - val_mean_absolute_error: 2.6214\n",
      "Epoch 66/75\n",
      "404/404 [==============================] - 0s 344us/sample - loss: 5.8748 - mean_squared_error: 5.8748 - mean_absolute_error: 1.7572 - val_loss: 16.7454 - val_mean_squared_error: 16.7454 - val_mean_absolute_error: 2.6092\n",
      "Epoch 67/75\n",
      "404/404 [==============================] - 0s 418us/sample - loss: 5.8800 - mean_squared_error: 5.8800 - mean_absolute_error: 1.7092 - val_loss: 17.9095 - val_mean_squared_error: 17.9095 - val_mean_absolute_error: 2.6443\n",
      "Epoch 68/75\n",
      "404/404 [==============================] - 0s 275us/sample - loss: 6.0959 - mean_squared_error: 6.0959 - mean_absolute_error: 1.7797 - val_loss: 18.2926 - val_mean_squared_error: 18.2926 - val_mean_absolute_error: 2.7197\n",
      "Epoch 69/75\n",
      "404/404 [==============================] - 0s 292us/sample - loss: 5.6329 - mean_squared_error: 5.6329 - mean_absolute_error: 1.7001 - val_loss: 16.5536 - val_mean_squared_error: 16.5536 - val_mean_absolute_error: 2.5814\n",
      "Epoch 70/75\n",
      "404/404 [==============================] - 0s 290us/sample - loss: 6.0823 - mean_squared_error: 6.0823 - mean_absolute_error: 1.8030 - val_loss: 16.2182 - val_mean_squared_error: 16.2182 - val_mean_absolute_error: 2.5534\n",
      "Epoch 71/75\n",
      "404/404 [==============================] - 0s 260us/sample - loss: 5.8797 - mean_squared_error: 5.8797 - mean_absolute_error: 1.7172 - val_loss: 16.6467 - val_mean_squared_error: 16.6467 - val_mean_absolute_error: 2.5838\n",
      "Epoch 72/75\n",
      "404/404 [==============================] - 0s 282us/sample - loss: 5.7774 - mean_squared_error: 5.7774 - mean_absolute_error: 1.7272 - val_loss: 16.8440 - val_mean_squared_error: 16.8440 - val_mean_absolute_error: 2.5964\n",
      "Epoch 73/75\n",
      "404/404 [==============================] - 0s 267us/sample - loss: 5.7134 - mean_squared_error: 5.7134 - mean_absolute_error: 1.6812 - val_loss: 15.9260 - val_mean_squared_error: 15.9260 - val_mean_absolute_error: 2.5561\n",
      "Epoch 74/75\n",
      "404/404 [==============================] - 0s 248us/sample - loss: 5.6973 - mean_squared_error: 5.6973 - mean_absolute_error: 1.7109 - val_loss: 16.7615 - val_mean_squared_error: 16.7615 - val_mean_absolute_error: 2.5733\n",
      "Epoch 75/75\n",
      "404/404 [==============================] - 0s 243us/sample - loss: 5.5851 - mean_squared_error: 5.5851 - mean_absolute_error: 1.7336 - val_loss: 15.9814 - val_mean_squared_error: 15.9814 - val_mean_absolute_error: 2.6062\n"
     ]
    },
    {
     "data": {
      "text/plain": [
       "<tensorflow.python.keras.callbacks.History at 0x157f81157c8>"
      ]
     },
     "execution_count": 4,
     "metadata": {},
     "output_type": "execute_result"
    }
   ],
   "source": [
    "from tensorflow import keras\n",
    "from tensorflow.keras.models import Sequential\n",
    "from tensorflow.keras.layers import Dense\n",
    "\n",
    "# Important Hyperparameters\n",
    "inputs = x_train.shape[1]\n",
    "epochs = 75\n",
    "batch_size = 10\n",
    "\n",
    "\n",
    "# Create Model\n",
    "model = Sequential()\n",
    "model.add(Dense(64, activation='relu', input_shape=(inputs,)))\n",
    "model.add(Dense(64, activation='relu'))\n",
    "model.add(Dense(1))\n",
    "\n",
    "# Compile Model\n",
    "model.compile(optimizer='adam', loss='mse', metrics=['mse', 'mae'])\n",
    "\n",
    "# Fit Model\n",
    "model.fit(x_train, y_train, \n",
    "          validation_data=(x_test,y_test), \n",
    "          epochs=epochs, \n",
    "          batch_size=batch_size\n",
    "         )"
   ]
  },
  {
   "cell_type": "markdown",
   "metadata": {
    "colab_type": "text",
    "id": "sYJ8t_ezHP4W"
   },
   "source": [
    "### Hyperparameter Tuning Approaches:\n",
    "\n",
    "#### 1) Babysitting AKA \"Grad Student Descent\".\n",
    "\n",
    "If you fiddled with any hyperparameters yesterday, this is basically what you did. This approach is 100% manual and is pretty common among researchers where finding that 1 exact specification that jumps your model to a level of accuracy never seen before is the difference between publishing and not publishing a paper. Of course the professors don't do this themselves, that's grunt work. This is also known as the fiddle with hyperparameters until you run out of time method.\n",
    "\n",
    "#### 2) Grid Search\n",
    "\n",
    "Grid Search is the Grad Student galaxy brain realization of: why don't I just specify all the experiments I want to run and let the computer try every possible combination of them while I go and grab lunch. This has a specific downside in that if I specify 5 hyperparameters with 5 options each then I've just created 5^5 combinations of hyperparameters to check. Which means that I have to train 3125 different versions of my model Then if I use 5-fold Cross Validation on that then my model has to run 15,525 times. This is the brute-force method of hyperparameter tuning, but it can be very profitable if done wisely. \n",
    "\n",
    "When using Grid Search here's what I suggest: don't use it to test combinations of different hyperparameters, only use it to test different specifications of **a single** hyperparameter. It's rare that combinations between different hyperparameters lead to big performance gains. You'll get 90-95% of the way there if you just Grid Search one parameter and take the best result, then retain that best result while you test another, and then retain the best specification from that while you train another. This at least makes the situation much more manageable and leads to pretty good results. \n",
    "\n",
    "#### 3) Random Search\n",
    "\n",
    "Do Grid Search for a couple of hours and you'll say to yourself - \"There's got to be a better way.\" Enter Random Search. For Random search you specify a hyperparameter space and it picks specifications from that randomly, tries them out, gives you the best results and says - That's going to have to be good enough, go home and spend time with your family. \n",
    "\n",
    "Grid Search treats every parameter as if it was equally important, but this just isn't the case, some are known to move the needle a lot more than others (we'll talk about that in a minute). Random Search allows searching to be specified along the most important parameter and experiments less along the dimensions of less important hyperparameters. The downside of Random search is that it won't find the absolute best hyperparameters, but it is much less costly to perform than Grid Search. \n",
    "\n",
    "#### 4) Bayesian Methods\n",
    "\n",
    "One thing that can make more manual methods like babysitting and gridsearch effective is that as the experimenter sees results he can then make updates to his future searches taking into account the results of past specifications. If only we could hyperparameter tune our hyperparameter tuning. Well, we kind of can. Enter Bayesian Optimization. Neural Networks are like an optimization problem within an optimization problem, and Bayesian Optimization is a search strategy that tries to take into account the results of past searches in order to improve future ones. This is the most advanced method but can be a little bit tricky to implement, but there are some early steps with `hyperas` which is Bayesian optimization wrapper for `keras`. "
   ]
  },
  {
   "cell_type": "markdown",
   "metadata": {
    "colab_type": "text",
    "id": "HfQ7D043OMMn"
   },
   "source": [
    "## What Hyperparameters are there to test?\n",
    "\n",
    "- batch_size\n",
    "- training epochs\n",
    "- optimization algorithms\n",
    "- learning rate\n",
    "- momentum\n",
    "- activation functions\n",
    "- dropout regularization\n",
    "- number of neurons in the hidden layer\n",
    "\n",
    "There are more, but these are the most important."
   ]
  },
  {
   "cell_type": "markdown",
   "metadata": {},
   "source": [
    "## Follow Along"
   ]
  },
  {
   "cell_type": "markdown",
   "metadata": {
    "colab_type": "text",
    "id": "Mri5-kXzVKAa"
   },
   "source": [
    "## Batch Size\n",
    "\n",
    "Batch size determines how many observations the model is shown before it calculates loss/error and updates the model weights via gradient descent. You're looking for a sweet spot here where you're showing it enough observations that you have enough information to updates the weights, but not such a large batch size that you don't get a lot of weight update iterations performed in a given epoch. Feed-forward Neural Networks aren't as sensitive to bach_size as other networks, but it is still an important hyperparameter to tune. Smaller batch sizes will also take longer to train. "
   ]
  },
  {
   "cell_type": "code",
   "execution_count": 7,
   "metadata": {
    "colab": {
     "base_uri": "https://localhost:8080/",
     "height": 13561
    },
    "colab_type": "code",
    "id": "2smXfriNAGn7",
    "outputId": "ae996575-78e2-43fb-9dbe-5d44aaf0b430",
    "scrolled": true
   },
   "outputs": [
    {
     "name": "stderr",
     "output_type": "stream",
     "text": [
      "c:\\users\\dylan nason\\anaconda3\\envs\\u4-s2-nn\\lib\\site-packages\\sklearn\\model_selection\\_split.py:1978: FutureWarning: The default value of cv will change from 3 to 5 in version 0.22. Specify it explicitly to silence this warning.\n",
      "  warnings.warn(CV_WARNING, FutureWarning)\n"
     ]
    },
    {
     "name": "stdout",
     "output_type": "stream",
     "text": [
      "Best: 0.6197916666666666 using {'batch_size': 20, 'epochs': 5}\n",
      "Means: 0.6158854166666666, Stdev: 0.030313663351101083 with: {'batch_size': 10, 'epochs': 5}\n",
      "Means: 0.6197916666666666, Stdev: 0.0018414239093399675 with: {'batch_size': 20, 'epochs': 5}\n",
      "Means: 0.5104166666666666, Stdev: 0.03380404944204992 with: {'batch_size': 40, 'epochs': 5}\n",
      "Means: 0.58984375, Stdev: 0.07293991444875478 with: {'batch_size': 60, 'epochs': 5}\n",
      "Means: 0.4466145833333333, Stdev: 0.09863227533544597 with: {'batch_size': 80, 'epochs': 5}\n",
      "Means: 0.609375, Stdev: 0.03866990209613932 with: {'batch_size': 100, 'epochs': 5}\n"
     ]
    }
   ],
   "source": [
    "import numpy\n",
    "import pandas as pd\n",
    "from sklearn.model_selection import GridSearchCV\n",
    "from tensorflow.keras.models import Sequential\n",
    "from tensorflow.keras.layers import Dense\n",
    "from tensorflow.keras.wrappers.scikit_learn import KerasClassifier\n",
    "\n",
    "# fix random seed for reproducibility\n",
    "seed = 7\n",
    "numpy.random.seed(seed)\n",
    "\n",
    "# load dataset\n",
    "url =\"https://raw.githubusercontent.com/jbrownlee/Datasets/master/pima-indians-diabetes.data.csv\"\n",
    "\n",
    "dataset = pd.read_csv(url, header=None).values\n",
    "\n",
    "# split into input (X) and output (Y) variables\n",
    "X = dataset[:,0:8]\n",
    "Y = dataset[:,8]\n",
    "\n",
    "# Function to create model, required for KerasClassifier\n",
    "def create_model():\n",
    "    # create model\n",
    "    model = Sequential()\n",
    "    model.add(Dense(12, input_dim=8, activation='relu'))\n",
    "    model.add(Dense(1, activation='sigmoid'))\n",
    "    # Compile model\n",
    "    model.compile(loss='binary_crossentropy', optimizer='adam', metrics=['accuracy'])\n",
    "    return model\n",
    "\n",
    "# create model\n",
    "model = KerasClassifier(build_fn=create_model, verbose=0)\n",
    "\n",
    "# define the grid search parameters\n",
    "# batch_size = [10, 20, 40, 60, 80, 100]\n",
    "# param_grid = dict(batch_size=batch_size, epochs=epochs)\n",
    "\n",
    "# define the grid search parameters\n",
    "param_grid = {'batch_size': [10, 20, 40, 60, 80, 100],\n",
    "              'epochs': [5]}\n",
    "\n",
    "# Create Grid Search\n",
    "grid = GridSearchCV(estimator=model, param_grid=param_grid, n_jobs=1)\n",
    "grid_result = grid.fit(X, Y)\n",
    "\n",
    "# Report Results\n",
    "print(f\"Best: {grid_result.best_score_} using {grid_result.best_params_}\")\n",
    "means = grid_result.cv_results_['mean_test_score']\n",
    "stds = grid_result.cv_results_['std_test_score']\n",
    "params = grid_result.cv_results_['params']\n",
    "for mean, stdev, param in zip(means, stds, params):\n",
    "    print(f\"Means: {mean}, Stdev: {stdev} with: {param}\") "
   ]
  },
  {
   "cell_type": "markdown",
   "metadata": {
    "colab_type": "text",
    "id": "pmABfjlvXbqi"
   },
   "source": [
    "## Epochs\n",
    "\n",
    "The number of training epochs has a large and direct affect on the accuracy, However, more epochs is almost always goign to better than less epochs. This means that if you tune this parameter at the beginning and try and maintain the same value all throughout your training, you're going to be waiting a long time for each iteration of GridSearch. I suggest picking a fixed moderat # of epochs all throughout your training and then Grid Searching this parameter at the very end. "
   ]
  },
  {
   "cell_type": "code",
   "execution_count": 8,
   "metadata": {
    "colab": {
     "base_uri": "https://localhost:8080/",
     "height": 26329
    },
    "colab_type": "code",
    "id": "bAmxP3N7TmFh",
    "outputId": "3ddb08c4-51ac-4eaa-ff39-143397024544"
   },
   "outputs": [
    {
     "name": "stdout",
     "output_type": "stream",
     "text": [
      "Best: 0.70703125 using {'batch_size': 20, 'epochs': 200}\n",
      "Means: 0.6328125, Stdev: 0.036225072248030094 with: {'batch_size': 20, 'epochs': 20}\n",
      "Means: 0.66015625, Stdev: 0.00318943976924893 with: {'batch_size': 20, 'epochs': 40}\n",
      "Means: 0.6705729166666666, Stdev: 0.017566064535458385 with: {'batch_size': 20, 'epochs': 60}\n",
      "Means: 0.70703125, Stdev: 0.0 with: {'batch_size': 20, 'epochs': 200}\n"
     ]
    }
   ],
   "source": [
    "# define the grid search parameters\n",
    "param_grid = {'batch_size': [20],\n",
    "              'epochs': [20, 40, 60,200]}\n",
    "\n",
    "# Create Grid Search\n",
    "grid = GridSearchCV(estimator=model, param_grid=param_grid, n_jobs=1)\n",
    "grid_result = grid.fit(X, Y)\n",
    "\n",
    "# Report Results\n",
    "print(f\"Best: {grid_result.best_score_} using {grid_result.best_params_}\")\n",
    "means = grid_result.cv_results_['mean_test_score']\n",
    "stds = grid_result.cv_results_['std_test_score']\n",
    "params = grid_result.cv_results_['params']\n",
    "for mean, stdev, param in zip(means, stds, params):\n",
    "    print(f\"Means: {mean}, Stdev: {stdev} with: {param}\")"
   ]
  },
  {
   "cell_type": "markdown",
   "metadata": {
    "colab_type": "text",
    "id": "EKcuY6OiaLfz"
   },
   "source": [
    "## Optimizer\n",
    "\n",
    "Remember that there's a different optimizers [optimizers](https://keras.io/optimizers/). At some point, take some time to read up on them a little bit. \"adam\" usually gives the best results. The thing to know about choosing an optimizer is that different optimizers have different hyperparameters like learning rate, momentum, etc. So based on the optimizer you choose you might also have to tune the learning rate and momentum of those optimizers after that. "
   ]
  },
  {
   "cell_type": "markdown",
   "metadata": {
    "colab_type": "text",
    "id": "DG3wq5iOaLig"
   },
   "source": [
    "## Learning Rate\n",
    "\n",
    "Remember that the Learning Rate is a hyperparameter that is specific to your gradient-descent based optimizer selection. A learning rate that is too high will cause divergent behavior, but a Learning Rate that is too low will fail to converge, again, you're looking for the sweet spot. I would start out tuning learning rates by orders of magnitude: [.001, .01, .1, .2, .3, .5] etc. I wouldn't go above .5, but you can try it and see what the behavior is like. \n",
    "\n",
    "Once you have narrowed it down, make the window even smaller and try it again. If after running the above specification your model reports that .1 is the best optimizer, then you should probably try things like [.05, .08, .1, .12, .15] to try and narrow it down. \n",
    "\n",
    "It can also be good to tune the number of epochs in combination with the learning rate since the number of iterations that you allow the learning rate to reach the minimum can determine if you have let it run long enough to converge to the minimum. "
   ]
  },
  {
   "cell_type": "markdown",
   "metadata": {
    "colab_type": "text",
    "id": "gNTBUWd1aLlA"
   },
   "source": [
    "## Momentum\n",
    "\n",
    "Momentum is a hyperparameter that is more commonly associated with Stochastic Gradient Descent. SGD is a common optimizer because it's what people understand and know, but I doubt it will get you the best results, you can try hyperparameter tuning its attributes and see if you can beat the performance from adam. Momentum is a property that decides the willingness of an optimizer to overshoot the minimum. Imagine a ball rolling down one side of a bowl and then up the opposite side a little bit before settling back to the bottom. The purpose of momentum is to try and escale local minima."
   ]
  },
  {
   "cell_type": "markdown",
   "metadata": {
    "colab_type": "text",
    "id": "xnEG-bCJaLnZ"
   },
   "source": [
    "## Activation Functions\n",
    "\n",
    "We've talked about this a little bit, typically you'l want to use ReLU for hidden layers and either Sigmoid, or Softmax for output layers of binary and multi-class classification implementations respectively, but try other activation functions and see if you can get any better results with sigmoid or tanh or something. There are a lot of activation functions that we haven't really talked about. Maybe you'll get good results with them. Maybe you won't. :) <https://keras.io/activations/>"
   ]
  },
  {
   "cell_type": "markdown",
   "metadata": {
    "colab_type": "text",
    "id": "oul9sPq-dU-h"
   },
   "source": [
    "## Network Weight Initialization\n",
    "\n",
    "You saw how big of an effect the way that we initialize our network's weights can have on our results. There are **a lot** of what are called initialization modes. I don't understand all of them, but they can have a big affect on your model's initial accuracy. Your model will get further with less epochs if you initialize it with weights that are well suited to the problem you're trying to solve.\n",
    "\n",
    "`init_mode = ['uniform', 'lecun_uniform', 'normal', 'zero', 'glorot_normal', 'glorot_uniform', 'he_normal', 'he_uniform']`"
   ]
  },
  {
   "cell_type": "markdown",
   "metadata": {
    "colab_type": "text",
    "id": "bqtEuxeQaLqE"
   },
   "source": [
    "## Dropout Regularization and the Weight Constraint\n",
    "\n",
    "the Dropout Regularization value is a percentage of neurons that you want to be randomly deactivated during training. The weight constraint is a second regularization parameter that works in tandem with dropout regularization. You should tune these two values at the same time. \n",
    "\n",
    "Using dropout on visible vs hidden layers might have a different effect. Using dropout on hidden layers might not have any effect while using dropout on hidden layers might have a substantial effect. You don't necessarily need to turn use dropout unless you see that your model has overfitting and generalizability problems."
   ]
  },
  {
   "cell_type": "markdown",
   "metadata": {
    "colab_type": "text",
    "id": "P2c5Cv6oaLtO"
   },
   "source": [
    "## Neurons in Hidden Layer \n",
    "\n",
    "Remember that when we only had a single perceptron our model was only able to fit to linearly separable data, but as we have added layers and nodes to those layers our network has become a powerhouse of fitting nonlinearity in data. The larger the network and the more nodes generally the stronger the network's capacity to fit nonlinear patterns in data. The more nodes and layers the longer it will take to train a network, and higher the probability of overfitting. The larger your network gets the more you'll need dropout regularization or other regularization techniques to keep it in check. \n",
    "\n",
    "Typically depth (more layers) is more important than width (more nodes) for neural networks. This is part of why Deep Learning is so highly touted. Certain deep learning architectures have truly been huge breakthroughs for certain machine learning tasks. \n",
    "\n",
    "You might borrow ideas from other network architectures. For example if I was doing image recognition and I wasn't taking cues from state of the art architectures like resnet, alexnet, googlenet, etc. Then I'm probably going to have to do a lot more experimentation on my own before I find something that works.\n",
    "\n",
    "There are some heuristics, but I am highly skeptical of them. I think you're better off experimenting on your own and forming your own intuition for these kinds of problems. \n",
    "\n",
    "- https://machinelearningmastery.com/how-to-configure-the-number-of-layers-and-nodes-in-a-neural-network/"
   ]
  },
  {
   "cell_type": "markdown",
   "metadata": {},
   "source": [
    "## Challenge\n",
    "You will be expected to tune several hyperparameters in today's module project. "
   ]
  },
  {
   "cell_type": "markdown",
   "metadata": {},
   "source": [
    "# Experiment Tracking Framework (Learn)\n",
    "<a id=\"p2\"></a>"
   ]
  },
  {
   "cell_type": "markdown",
   "metadata": {},
   "source": [
    "## Overview\n",
    "\n",
    "You will notice quickly that managing the results of all the experiments you are running becomes challenging. Which set of parameters did the best? Are my results today different than my results yesterday? Although we use Ipython Notebooks to work, the format is not well suited to logging experimental results. Enter experiment tracking frameworks like [Comet.ml](https://comet.ml) and [Weights and Biases](https://wandb.ai/).\n",
    "\n",
    "Those tools will help you track your experiments, store the results, and the code associated with those experiments. Experimental results can also be readily visualized to see changes in performance across any metric you care about. Data is sent to the tool as each epoch is completed, so you can also see if your model is converging. Let's check out Weights & Biases today. "
   ]
  },
  {
   "cell_type": "markdown",
   "metadata": {},
   "source": [
    "## Follow Along\n",
    "\n",
    "Make sure you login into `wandb` in the terminal before running the next cell. "
   ]
  },
  {
   "cell_type": "code",
   "execution_count": null,
   "metadata": {},
   "outputs": [],
   "source": [
    "import wandb\n",
    "from wandb.keras import WandbCallback\n",
    "wandb.init(project=\"ds9-boston\", entity=\"ds10\") #Initializes and Experiment"
   ]
  },
  {
   "cell_type": "code",
   "execution_count": null,
   "metadata": {
    "colab": {
     "base_uri": "https://localhost:8080/",
     "height": 1750
    },
    "colab_type": "code",
    "id": "GMXVfmzXp1Oo",
    "outputId": "b05e251e-508f-46e6-865b-f869ae2a5dc4"
   },
   "outputs": [],
   "source": [
    "# Important Hyperparameters\n",
    "X =  x_train\n",
    "y =  y_train\n",
    "\n",
    "# Important Hyperparameters\n",
    "inputs = x_train.shape[1]\n",
    "wandb.config.epochs = 50\n",
    "wandb.config.batch_size = 10\n",
    "# Create Model\n",
    "model = Sequential()\n",
    "model.add(Dense(64, activation='relu', input_shape=(inputs,)))\n",
    "model.add(Dense(64, activation='relu'))\n",
    "model.add(Dense(1))\n",
    "# Compile Model\n",
    "model.compile(optimizer='adam', loss='mse', metrics=['mse'])\n",
    "# Fit Model\n",
    "model.fit(x_train, y_train, \n",
    "          validation_split=0.33, \n",
    "          epochs=wandb.config.epochs, \n",
    "          batch_size=wandb.config.epochs, \n",
    "          callbacks=[WandbCallback()]\n",
    "         )"
   ]
  },
  {
   "cell_type": "markdown",
   "metadata": {},
   "source": [
    "## Challenge\n",
    "\n",
    "You will be expected to use Weights & Biases to try to tune your model during your module assignment today. "
   ]
  },
  {
   "cell_type": "markdown",
   "metadata": {},
   "source": [
    "# Hyperparameters with RandomSearchCV (Learn)"
   ]
  },
  {
   "cell_type": "markdown",
   "metadata": {},
   "source": [
    "## Overview\n",
    "\n",
    "Basically `GridSearchCV` takes forever. You'll want to adopt a slightly more sophiscated strategy."
   ]
  },
  {
   "cell_type": "markdown",
   "metadata": {},
   "source": [
    "## Follow Along"
   ]
  },
  {
   "cell_type": "code",
   "execution_count": null,
   "metadata": {},
   "outputs": [],
   "source": [
    "sweep_config = {\n",
    "    'method': 'random',\n",
    "    'parameters': {\n",
    "        'learning_rate': {'distribution': 'normal'},\n",
    "        'epochs': {'distribution': 'uniform',\n",
    "                    'min': 100,\n",
    "                    'max': 1000},\n",
    "        'batch_size': {'distribution': 'uniform',\n",
    "            'min': 10,\n",
    "            'max': 400}\n",
    "    }\n",
    "}"
   ]
  },
  {
   "cell_type": "code",
   "execution_count": null,
   "metadata": {},
   "outputs": [],
   "source": [
    "sweep_id = wandb.sweep(sweep_config)"
   ]
  },
  {
   "cell_type": "code",
   "execution_count": null,
   "metadata": {},
   "outputs": [],
   "source": [
    "import wandb\n",
    "from wandb.keras import WandbCallback\n",
    "#Initializes and Experiment\n",
    "\n",
    "from tensorflow.keras.optimizers import Adam\n",
    "\n",
    "# Important Hyperparameters\n",
    "X =  x_train\n",
    "y =  y_train\n",
    "\n",
    "inputs = X.shape[1]\n",
    "\n",
    "def train():\n",
    "    \n",
    "    wandb.init(project=\"boston\", entity=\"lambda-ds7\") \n",
    "    \n",
    "    config = wandb.config\n",
    "\n",
    "    # Create Model\n",
    "    model = Sequential()\n",
    "    model.add(Dense(64, activation='relu', input_shape=(inputs,)))\n",
    "    model.add(Dense(64, activation='relu'))\n",
    "    model.add(Dense(64, activation='relu'))\n",
    "    model.add(Dense(1))\n",
    "\n",
    "    # Optimizer \n",
    "    adam = Adam(learning_rate=config.learning_rate)\n",
    "\n",
    "    # Compile Model\n",
    "    model.compile(optimizer=adam, loss='mse', metrics=['mse', 'mae'])\n",
    "\n",
    "    # Fit Model\n",
    "    model.fit(X, y, \n",
    "              validation_split=0.33, \n",
    "              epochs=config.epochs, \n",
    "              batch_size=config.batch_size, \n",
    "              callbacks=[WandbCallback()]\n",
    "             )"
   ]
  },
  {
   "cell_type": "code",
   "execution_count": null,
   "metadata": {},
   "outputs": [],
   "source": [
    "wandb.agent(sweep_id, function=train)"
   ]
  },
  {
   "cell_type": "markdown",
   "metadata": {},
   "source": [
    "## Challenge\n",
    "\n",
    "Try to apply RandomSearchCV to your module project today. "
   ]
  },
  {
   "cell_type": "markdown",
   "metadata": {},
   "source": [
    "# Review\n",
    "* <a href=\"#p1\">Part 1</a>: Describe the major hyperparemeters to tune\n",
    "    - Activation Functions\n",
    "    - Optimizer\n",
    "    - Number of Layers\n",
    "    - Number of Neurons\n",
    "    - Batch Size\n",
    "    - Dropout Regulaization\n",
    "    - Learning Rate\n",
    "    - Number of Epochs\n",
    "    - and many more\n",
    "* <a href=\"#p2\">Part 2</a>: Implement an experiment tracking framework\n",
    "    - Weights & Biases\n",
    "    - Comet.ml\n",
    "    - By Hand / GridSearch\n",
    "* <a href=\"#p3\">Part 3</a>: Search the hyperparameter space using RandomSearch\n",
    "    - Sklearn still useful (haha)\n",
    "    - Integration with Wieghts & Biases\n",
    "* <a href=\"#p4\">Part 4</a>: Discuss emerging hyperparameter tuning strategies\n",
    "    - Bayesian Optimization\n",
    "    - Hyperopt\n",
    "    - Genetic Evolution"
   ]
  },
  {
   "cell_type": "markdown",
   "metadata": {},
   "source": [
    "# Sources"
   ]
  },
  {
   "cell_type": "markdown",
   "metadata": {},
   "source": [
    "## Additional Reading\n",
    "- https://machinelearningmastery.com/grid-search-hyperparameters-deep-learning-models-python-keras/\n",
    "- https://blog.floydhub.com/guide-to-hyperparameters-search-for-deep-learning-models/\n",
    "- https://machinelearningmastery.com/dropout-regularization-deep-learning-models-keras/\n",
    "- https://machinelearningmastery.com/introduction-to-weight-constraints-to-reduce-generalization-error-in-deep-learning/\n",
    "- https://machinelearningmastery.com/how-to-configure-the-number-of-layers-and-nodes-in-a-neural-network/"
   ]
  }
 ],
 "metadata": {
  "kernelspec": {
   "display_name": "Python 3",
   "language": "python",
   "name": "python3"
  },
  "language_info": {
   "codemirror_mode": {
    "name": "ipython",
    "version": 3
   },
   "file_extension": ".py",
   "mimetype": "text/x-python",
   "name": "python",
   "nbconvert_exporter": "python",
   "pygments_lexer": "ipython3",
   "version": "3.7.6"
  }
 },
 "nbformat": 4,
 "nbformat_minor": 4
}
