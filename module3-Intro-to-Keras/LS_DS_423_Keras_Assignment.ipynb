{
 "cells": [
  {
   "cell_type": "markdown",
   "metadata": {
    "colab_type": "text",
    "id": "pBQsZEJmubLs"
   },
   "source": [
    "<img align=\"left\" src=\"https://lever-client-logos.s3.amazonaws.com/864372b1-534c-480e-acd5-9711f850815c-1524247202159.png\" width=200>\n",
    "<br></br>\n",
    "\n",
    "# Neural Network Framework (Keras)\n",
    "\n",
    "## *Data Science Unit 4 Sprint 2 Assignmnet 3*\n",
    "\n",
    "## Use the Keras Library to build a Multi-Layer Perceptron Model on the Boston Housing dataset\n",
    "\n",
    "- The Boston Housing dataset comes with the Keras library so use Keras to import it into your notebook. \n",
    "- Normalize the data (all features should have roughly the same scale)\n",
    "- Import the type of model and layers that you will need from Keras.\n",
    "- Instantiate a model object and use `model.add()` to add layers to your model\n",
    "- Since this is a regression model you will have a single output node in the final layer.\n",
    "- Use activation functions that are appropriate for this task\n",
    "- Compile your model\n",
    "- Fit your model and report its accuracy in terms of Mean Squared Error\n",
    "- Use the history object that is returned from model.fit to make graphs of the model's loss or train/validation accuracies by epoch. \n",
    "- Run this same data through a linear regression model. Which achieves higher accuracy?\n",
    "- Do a little bit of feature engineering and see how that affects your neural network model. (you will need to change your model to accept more inputs)\n",
    "- After feature engineering, which model sees a greater accuracy boost due to the new features?"
   ]
  },
  {
   "cell_type": "code",
   "execution_count": 2,
   "metadata": {
    "colab": {},
    "colab_type": "code",
    "id": "8NLTAR87uYJ-"
   },
   "outputs": [],
   "source": [
    "from tensorflow import keras\n",
    "from tensorflow.keras.datasets import boston_housing\n",
    "(X_train, y_train), (X_test, y_test) = boston_housing.load_data()"
   ]
  },
  {
   "cell_type": "code",
   "execution_count": 3,
   "metadata": {},
   "outputs": [],
   "source": [
    "from sklearn.preprocessing import Normalizer\n",
    "\n",
    "scaler = Normalizer()\n",
    "\n",
    "X_train = scaler.fit_transform(X_train)\n",
    "X_test = scaler.transform(X_test)"
   ]
  },
  {
   "cell_type": "code",
   "execution_count": 4,
   "metadata": {},
   "outputs": [
    {
     "data": {
      "text/plain": [
       "(404, 13)"
      ]
     },
     "execution_count": 4,
     "metadata": {},
     "output_type": "execute_result"
    }
   ],
   "source": [
    "X_train.shape"
   ]
  },
  {
   "cell_type": "code",
   "execution_count": 5,
   "metadata": {},
   "outputs": [
    {
     "data": {
      "text/plain": [
       "42.3"
      ]
     },
     "execution_count": 5,
     "metadata": {},
     "output_type": "execute_result"
    }
   ],
   "source": [
    "y_train[1]"
   ]
  },
  {
   "cell_type": "code",
   "execution_count": 6,
   "metadata": {},
   "outputs": [],
   "source": [
    "from tensorflow.keras.models import Sequential\n",
    "from tensorflow.keras.layers import Dense\n",
    "from tensorflow.keras.metrics import MeanAbsoluteError as MAE"
   ]
  },
  {
   "cell_type": "code",
   "execution_count": 7,
   "metadata": {
    "scrolled": true
   },
   "outputs": [
    {
     "name": "stderr",
     "output_type": "stream",
     "text": [
      "WARNING: Logging before flag parsing goes to stderr.\n",
      "W0123 12:57:57.961188  6632 deprecation.py:506] From c:\\users\\dylan nason\\anaconda3\\envs\\u4-s2-nn\\lib\\site-packages\\tensorflow\\python\\ops\\init_ops.py:1251: calling VarianceScaling.__init__ (from tensorflow.python.ops.init_ops) with dtype is deprecated and will be removed in a future version.\n",
      "Instructions for updating:\n",
      "Call initializer instance with the dtype argument instead of passing it to the constructor\n"
     ]
    },
    {
     "name": "stdout",
     "output_type": "stream",
     "text": [
      "Epoch 1/150\n",
      "404/404 [==============================] - 0s 646us/sample - loss: 571.4045 - mean_absolute_error: 22.0773 - mean_squared_error: 571.4045\n",
      "Epoch 2/150\n",
      "404/404 [==============================] - 0s 69us/sample - loss: 561.1293 - mean_absolute_error: 21.8431 - mean_squared_error: 561.1293\n",
      "Epoch 3/150\n",
      "404/404 [==============================] - 0s 92us/sample - loss: 550.0164 - mean_absolute_error: 21.5872 - mean_squared_error: 550.0164\n",
      "Epoch 4/150\n",
      "404/404 [==============================] - 0s 82us/sample - loss: 537.7692 - mean_absolute_error: 21.3084 - mean_squared_error: 537.7692\n",
      "Epoch 5/150\n",
      "404/404 [==============================] - 0s 74us/sample - loss: 524.3968 - mean_absolute_error: 20.9933 - mean_squared_error: 524.3968\n",
      "Epoch 6/150\n",
      "404/404 [==============================] - 0s 77us/sample - loss: 509.7112 - mean_absolute_error: 20.6402 - mean_squared_error: 509.7112\n",
      "Epoch 7/150\n",
      "404/404 [==============================] - 0s 119us/sample - loss: 493.9084 - mean_absolute_error: 20.2606 - mean_squared_error: 493.9084\n",
      "Epoch 8/150\n",
      "404/404 [==============================] - 0s 89us/sample - loss: 478.3982 - mean_absolute_error: 19.8731 - mean_squared_error: 478.3982\n",
      "Epoch 9/150\n",
      "404/404 [==============================] - 0s 82us/sample - loss: 463.5945 - mean_absolute_error: 19.4973 - mean_squared_error: 463.5945\n",
      "Epoch 10/150\n",
      "404/404 [==============================] - 0s 64us/sample - loss: 450.5071 - mean_absolute_error: 19.1519 - mean_squared_error: 450.5071\n",
      "Epoch 11/150\n",
      "404/404 [==============================] - 0s 79us/sample - loss: 439.1350 - mean_absolute_error: 18.8528 - mean_squared_error: 439.1350\n",
      "Epoch 12/150\n",
      "404/404 [==============================] - 0s 69us/sample - loss: 429.7461 - mean_absolute_error: 18.5990 - mean_squared_error: 429.7461\n",
      "Epoch 13/150\n",
      "404/404 [==============================] - 0s 69us/sample - loss: 422.0118 - mean_absolute_error: 18.3866 - mean_squared_error: 422.0118\n",
      "Epoch 14/150\n",
      "404/404 [==============================] - 0s 72us/sample - loss: 415.6254 - mean_absolute_error: 18.2072 - mean_squared_error: 415.6254\n",
      "Epoch 15/150\n",
      "404/404 [==============================] - 0s 62us/sample - loss: 410.1283 - mean_absolute_error: 18.0549 - mean_squared_error: 410.1283\n",
      "Epoch 16/150\n",
      "404/404 [==============================] - 0s 74us/sample - loss: 405.3975 - mean_absolute_error: 17.9216 - mean_squared_error: 405.3976\n",
      "Epoch 17/150\n",
      "404/404 [==============================] - 0s 69us/sample - loss: 401.1811 - mean_absolute_error: 17.8034 - mean_squared_error: 401.1811\n",
      "Epoch 18/150\n",
      "404/404 [==============================] - 0s 69us/sample - loss: 397.3613 - mean_absolute_error: 17.6957 - mean_squared_error: 397.3613\n",
      "Epoch 19/150\n",
      "404/404 [==============================] - 0s 67us/sample - loss: 393.9024 - mean_absolute_error: 17.5941 - mean_squared_error: 393.9024\n",
      "Epoch 20/150\n",
      "404/404 [==============================] - 0s 74us/sample - loss: 390.5772 - mean_absolute_error: 17.4988 - mean_squared_error: 390.5771\n",
      "Epoch 21/150\n",
      "404/404 [==============================] - 0s 89us/sample - loss: 387.4621 - mean_absolute_error: 17.4092 - mean_squared_error: 387.4621\n",
      "Epoch 22/150\n",
      "404/404 [==============================] - 0s 79us/sample - loss: 384.4843 - mean_absolute_error: 17.3240 - mean_squared_error: 384.4843\n",
      "Epoch 23/150\n",
      "404/404 [==============================] - 0s 74us/sample - loss: 381.6592 - mean_absolute_error: 17.2418 - mean_squared_error: 381.6592\n",
      "Epoch 24/150\n",
      "404/404 [==============================] - 0s 82us/sample - loss: 378.8991 - mean_absolute_error: 17.1611 - mean_squared_error: 378.8992\n",
      "Epoch 25/150\n",
      "404/404 [==============================] - 0s 74us/sample - loss: 376.1890 - mean_absolute_error: 17.0834 - mean_squared_error: 376.1890\n",
      "Epoch 26/150\n",
      "404/404 [==============================] - 0s 77us/sample - loss: 373.5751 - mean_absolute_error: 17.0072 - mean_squared_error: 373.5751\n",
      "Epoch 27/150\n",
      "404/404 [==============================] - 0s 72us/sample - loss: 371.0572 - mean_absolute_error: 16.9322 - mean_squared_error: 371.0572\n",
      "Epoch 28/150\n",
      "404/404 [==============================] - 0s 69us/sample - loss: 368.5195 - mean_absolute_error: 16.8587 - mean_squared_error: 368.5195\n",
      "Epoch 29/150\n",
      "404/404 [==============================] - 0s 79us/sample - loss: 366.0797 - mean_absolute_error: 16.7859 - mean_squared_error: 366.0797\n",
      "Epoch 30/150\n",
      "404/404 [==============================] - 0s 74us/sample - loss: 363.6635 - mean_absolute_error: 16.7147 - mean_squared_error: 363.6635\n",
      "Epoch 31/150\n",
      "404/404 [==============================] - 0s 69us/sample - loss: 361.3157 - mean_absolute_error: 16.6439 - mean_squared_error: 361.3157\n",
      "Epoch 32/150\n",
      "404/404 [==============================] - 0s 94us/sample - loss: 358.9633 - mean_absolute_error: 16.5742 - mean_squared_error: 358.9633\n",
      "Epoch 33/150\n",
      "404/404 [==============================] - 0s 77us/sample - loss: 356.6480 - mean_absolute_error: 16.5053 - mean_squared_error: 356.6480\n",
      "Epoch 34/150\n",
      "404/404 [==============================] - 0s 79us/sample - loss: 354.3966 - mean_absolute_error: 16.4368 - mean_squared_error: 354.3967\n",
      "Epoch 35/150\n",
      "404/404 [==============================] - 0s 97us/sample - loss: 352.1260 - mean_absolute_error: 16.3685 - mean_squared_error: 352.1260\n",
      "Epoch 36/150\n",
      "404/404 [==============================] - 0s 84us/sample - loss: 349.8988 - mean_absolute_error: 16.3013 - mean_squared_error: 349.8987\n",
      "Epoch 37/150\n",
      "404/404 [==============================] - 0s 72us/sample - loss: 347.7018 - mean_absolute_error: 16.2340 - mean_squared_error: 347.7018\n",
      "Epoch 38/150\n",
      "404/404 [==============================] - 0s 69us/sample - loss: 345.5252 - mean_absolute_error: 16.1670 - mean_squared_error: 345.5253\n",
      "Epoch 39/150\n",
      "404/404 [==============================] - 0s 67us/sample - loss: 343.3664 - mean_absolute_error: 16.1003 - mean_squared_error: 343.3663\n",
      "Epoch 40/150\n",
      "404/404 [==============================] - 0s 77us/sample - loss: 341.2223 - mean_absolute_error: 16.0349 - mean_squared_error: 341.2224\n",
      "Epoch 41/150\n",
      "404/404 [==============================] - 0s 82us/sample - loss: 339.1153 - mean_absolute_error: 15.9699 - mean_squared_error: 339.1153\n",
      "Epoch 42/150\n",
      "404/404 [==============================] - 0s 74us/sample - loss: 337.0462 - mean_absolute_error: 15.9045 - mean_squared_error: 337.0462\n",
      "Epoch 43/150\n",
      "404/404 [==============================] - 0s 74us/sample - loss: 334.9507 - mean_absolute_error: 15.8404 - mean_squared_error: 334.9507\n",
      "Epoch 44/150\n",
      "404/404 [==============================] - 0s 74us/sample - loss: 332.8986 - mean_absolute_error: 15.7766 - mean_squared_error: 332.8986\n",
      "Epoch 45/150\n",
      "404/404 [==============================] - 0s 74us/sample - loss: 330.8689 - mean_absolute_error: 15.7137 - mean_squared_error: 330.8690\n",
      "Epoch 46/150\n",
      "404/404 [==============================] - 0s 205us/sample - loss: 328.8735 - mean_absolute_error: 15.6501 - mean_squared_error: 328.8735\n",
      "Epoch 47/150\n",
      "404/404 [==============================] - 0s 245us/sample - loss: 326.8711 - mean_absolute_error: 15.5860 - mean_squared_error: 326.8711\n",
      "Epoch 48/150\n",
      "404/404 [==============================] - 0s 139us/sample - loss: 324.8691 - mean_absolute_error: 15.5233 - mean_squared_error: 324.8690\n",
      "Epoch 49/150\n",
      "404/404 [==============================] - 0s 166us/sample - loss: 322.8987 - mean_absolute_error: 15.4605 - mean_squared_error: 322.8987\n",
      "Epoch 50/150\n",
      "404/404 [==============================] - 0s 178us/sample - loss: 320.9527 - mean_absolute_error: 15.3976 - mean_squared_error: 320.9527\n",
      "Epoch 51/150\n",
      "404/404 [==============================] - 0s 121us/sample - loss: 319.0008 - mean_absolute_error: 15.3360 - mean_squared_error: 319.0008\n",
      "Epoch 52/150\n",
      "404/404 [==============================] - 0s 106us/sample - loss: 317.0762 - mean_absolute_error: 15.2742 - mean_squared_error: 317.0763\n",
      "Epoch 53/150\n",
      "404/404 [==============================] - 0s 84us/sample - loss: 315.1663 - mean_absolute_error: 15.2131 - mean_squared_error: 315.1663\n",
      "Epoch 54/150\n",
      "404/404 [==============================] - 0s 228us/sample - loss: 313.2936 - mean_absolute_error: 15.1516 - mean_squared_error: 313.2937\n",
      "Epoch 55/150\n",
      "404/404 [==============================] - 0s 153us/sample - loss: 311.3964 - mean_absolute_error: 15.0903 - mean_squared_error: 311.3965\n",
      "Epoch 56/150\n",
      "404/404 [==============================] - 0s 186us/sample - loss: 309.4988 - mean_absolute_error: 15.0300 - mean_squared_error: 309.4987\n",
      "Epoch 57/150\n",
      "404/404 [==============================] - 0s 94us/sample - loss: 307.6499 - mean_absolute_error: 14.9694 - mean_squared_error: 307.6499\n",
      "Epoch 58/150\n",
      "404/404 [==============================] - 0s 97us/sample - loss: 305.8111 - mean_absolute_error: 14.9091 - mean_squared_error: 305.8111\n",
      "Epoch 59/150\n",
      "404/404 [==============================] - 0s 114us/sample - loss: 303.9738 - mean_absolute_error: 14.8491 - mean_squared_error: 303.9738\n",
      "Epoch 60/150\n",
      "404/404 [==============================] - 0s 136us/sample - loss: 302.1544 - mean_absolute_error: 14.7894 - mean_squared_error: 302.1544\n",
      "Epoch 61/150\n",
      "404/404 [==============================] - 0s 84us/sample - loss: 300.3764 - mean_absolute_error: 14.7299 - mean_squared_error: 300.3764\n",
      "Epoch 62/150\n",
      "404/404 [==============================] - 0s 102us/sample - loss: 298.5574 - mean_absolute_error: 14.6707 - mean_squared_error: 298.5574\n",
      "Epoch 63/150\n",
      "404/404 [==============================] - 0s 82us/sample - loss: 296.7900 - mean_absolute_error: 14.6111 - mean_squared_error: 296.7900\n",
      "Epoch 64/150\n",
      "404/404 [==============================] - 0s 74us/sample - loss: 295.0426 - mean_absolute_error: 14.5526 - mean_squared_error: 295.0426\n",
      "Epoch 65/150\n",
      "404/404 [==============================] - 0s 90us/sample - loss: 293.2711 - mean_absolute_error: 14.4937 - mean_squared_error: 293.2711\n",
      "Epoch 66/150\n",
      "404/404 [==============================] - 0s 92us/sample - loss: 291.5569 - mean_absolute_error: 14.4353 - mean_squared_error: 291.5569\n",
      "Epoch 67/150\n",
      "404/404 [==============================] - 0s 134us/sample - loss: 289.8340 - mean_absolute_error: 14.3774 - mean_squared_error: 289.8340\n",
      "Epoch 68/150\n",
      "404/404 [==============================] - 0s 300us/sample - loss: 288.1288 - mean_absolute_error: 14.3192 - mean_squared_error: 288.1288\n",
      "Epoch 69/150\n",
      "404/404 [==============================] - 0s 181us/sample - loss: 286.4310 - mean_absolute_error: 14.2615 - mean_squared_error: 286.4310\n",
      "Epoch 70/150\n",
      "404/404 [==============================] - 0s 97us/sample - loss: 284.7427 - mean_absolute_error: 14.2036 - mean_squared_error: 284.7427\n",
      "Epoch 71/150\n",
      "404/404 [==============================] - 0s 79us/sample - loss: 283.0617 - mean_absolute_error: 14.1468 - mean_squared_error: 283.0617\n",
      "Epoch 72/150\n",
      "404/404 [==============================] - 0s 106us/sample - loss: 281.3851 - mean_absolute_error: 14.0898 - mean_squared_error: 281.3851\n",
      "Epoch 73/150\n",
      "404/404 [==============================] - 0s 131us/sample - loss: 279.7435 - mean_absolute_error: 14.0334 - mean_squared_error: 279.7435\n",
      "Epoch 74/150\n",
      "404/404 [==============================] - 0s 104us/sample - loss: 278.0989 - mean_absolute_error: 13.9771 - mean_squared_error: 278.0989\n",
      "Epoch 75/150\n",
      "404/404 [==============================] - 0s 101us/sample - loss: 276.4602 - mean_absolute_error: 13.9208 - mean_squared_error: 276.4602\n",
      "Epoch 76/150\n",
      "404/404 [==============================] - 0s 94us/sample - loss: 274.8411 - mean_absolute_error: 13.8658 - mean_squared_error: 274.8411\n",
      "Epoch 77/150\n",
      "404/404 [==============================] - 0s 82us/sample - loss: 273.2217 - mean_absolute_error: 13.8106 - mean_squared_error: 273.2217\n",
      "Epoch 78/150\n",
      "404/404 [==============================] - 0s 72us/sample - loss: 271.6209 - mean_absolute_error: 13.7556 - mean_squared_error: 271.6208\n",
      "Epoch 79/150\n",
      "404/404 [==============================] - 0s 74us/sample - loss: 270.0268 - mean_absolute_error: 13.7012 - mean_squared_error: 270.0268\n",
      "Epoch 80/150\n",
      "404/404 [==============================] - 0s 69us/sample - loss: 268.4281 - mean_absolute_error: 13.6468 - mean_squared_error: 268.4281\n",
      "Epoch 81/150\n",
      "404/404 [==============================] - 0s 74us/sample - loss: 266.8963 - mean_absolute_error: 13.5933 - mean_squared_error: 266.8963\n",
      "Epoch 82/150\n",
      "404/404 [==============================] - 0s 87us/sample - loss: 265.3055 - mean_absolute_error: 13.5394 - mean_squared_error: 265.3055\n",
      "Epoch 83/150\n",
      "404/404 [==============================] - 0s 82us/sample - loss: 263.7646 - mean_absolute_error: 13.4861 - mean_squared_error: 263.7646\n",
      "Epoch 84/150\n",
      "404/404 [==============================] - 0s 84us/sample - loss: 262.2282 - mean_absolute_error: 13.4333 - mean_squared_error: 262.2282\n",
      "Epoch 85/150\n",
      "404/404 [==============================] - 0s 74us/sample - loss: 260.7055 - mean_absolute_error: 13.3787 - mean_squared_error: 260.7055\n",
      "Epoch 86/150\n",
      "404/404 [==============================] - 0s 77us/sample - loss: 259.1648 - mean_absolute_error: 13.3261 - mean_squared_error: 259.1648\n",
      "Epoch 87/150\n",
      "404/404 [==============================] - 0s 84us/sample - loss: 257.6698 - mean_absolute_error: 13.2731 - mean_squared_error: 257.6698\n",
      "Epoch 88/150\n",
      "404/404 [==============================] - 0s 92us/sample - loss: 256.1568 - mean_absolute_error: 13.2212 - mean_squared_error: 256.1568\n",
      "Epoch 89/150\n",
      "404/404 [==============================] - 0s 94us/sample - loss: 254.6802 - mean_absolute_error: 13.1680 - mean_squared_error: 254.6802\n",
      "Epoch 90/150\n",
      "404/404 [==============================] - 0s 79us/sample - loss: 253.1835 - mean_absolute_error: 13.1157 - mean_squared_error: 253.1835\n",
      "Epoch 91/150\n",
      "404/404 [==============================] - 0s 69us/sample - loss: 251.7400 - mean_absolute_error: 13.0630 - mean_squared_error: 251.7400\n",
      "Epoch 92/150\n",
      "404/404 [==============================] - 0s 77us/sample - loss: 250.2664 - mean_absolute_error: 13.0102 - mean_squared_error: 250.2664\n",
      "Epoch 93/150\n",
      "404/404 [==============================] - 0s 77us/sample - loss: 248.8062 - mean_absolute_error: 12.9572 - mean_squared_error: 248.8062\n",
      "Epoch 94/150\n",
      "404/404 [==============================] - 0s 72us/sample - loss: 247.3568 - mean_absolute_error: 12.9054 - mean_squared_error: 247.3568\n",
      "Epoch 95/150\n",
      "404/404 [==============================] - 0s 74us/sample - loss: 245.9429 - mean_absolute_error: 12.8541 - mean_squared_error: 245.9429\n",
      "Epoch 96/150\n",
      "404/404 [==============================] - 0s 77us/sample - loss: 244.5002 - mean_absolute_error: 12.8020 - mean_squared_error: 244.5002\n",
      "Epoch 97/150\n",
      "404/404 [==============================] - 0s 84us/sample - loss: 243.0922 - mean_absolute_error: 12.7506 - mean_squared_error: 243.0921\n",
      "Epoch 98/150\n",
      "404/404 [==============================] - 0s 106us/sample - loss: 241.6987 - mean_absolute_error: 12.6987 - mean_squared_error: 241.6987\n",
      "Epoch 99/150\n",
      "404/404 [==============================] - 0s 79us/sample - loss: 240.2947 - mean_absolute_error: 12.6478 - mean_squared_error: 240.2947\n",
      "Epoch 100/150\n",
      "404/404 [==============================] - 0s 77us/sample - loss: 238.9136 - mean_absolute_error: 12.5962 - mean_squared_error: 238.9136\n",
      "Epoch 101/150\n",
      "404/404 [==============================] - 0s 72us/sample - loss: 237.5461 - mean_absolute_error: 12.5450 - mean_squared_error: 237.5461\n",
      "Epoch 102/150\n",
      "404/404 [==============================] - 0s 82us/sample - loss: 236.1822 - mean_absolute_error: 12.4940 - mean_squared_error: 236.1822\n",
      "Epoch 103/150\n",
      "404/404 [==============================] - 0s 89us/sample - loss: 234.8109 - mean_absolute_error: 12.4433 - mean_squared_error: 234.8109\n",
      "Epoch 104/150\n",
      "404/404 [==============================] - 0s 84us/sample - loss: 233.4644 - mean_absolute_error: 12.3927 - mean_squared_error: 233.4644\n",
      "Epoch 105/150\n",
      "404/404 [==============================] - 0s 92us/sample - loss: 232.1472 - mean_absolute_error: 12.3424 - mean_squared_error: 232.1472\n",
      "Epoch 106/150\n",
      "404/404 [==============================] - 0s 77us/sample - loss: 230.8092 - mean_absolute_error: 12.2922 - mean_squared_error: 230.8092\n",
      "Epoch 107/150\n",
      "404/404 [==============================] - 0s 84us/sample - loss: 229.4896 - mean_absolute_error: 12.2423 - mean_squared_error: 229.4896\n",
      "Epoch 108/150\n",
      "404/404 [==============================] - 0s 77us/sample - loss: 228.1735 - mean_absolute_error: 12.1926 - mean_squared_error: 228.1735\n",
      "Epoch 109/150\n",
      "404/404 [==============================] - 0s 69us/sample - loss: 226.8809 - mean_absolute_error: 12.1427 - mean_squared_error: 226.8809\n",
      "Epoch 110/150\n",
      "404/404 [==============================] - 0s 72us/sample - loss: 225.5875 - mean_absolute_error: 12.0939 - mean_squared_error: 225.5875\n",
      "Epoch 111/150\n",
      "404/404 [==============================] - 0s 77us/sample - loss: 224.2892 - mean_absolute_error: 12.0450 - mean_squared_error: 224.2892\n",
      "Epoch 112/150\n",
      "404/404 [==============================] - 0s 72us/sample - loss: 223.0057 - mean_absolute_error: 11.9959 - mean_squared_error: 223.0057\n",
      "Epoch 113/150\n",
      "404/404 [==============================] - 0s 84us/sample - loss: 221.7366 - mean_absolute_error: 11.9481 - mean_squared_error: 221.7365\n",
      "Epoch 114/150\n",
      "404/404 [==============================] - 0s 67us/sample - loss: 220.4932 - mean_absolute_error: 11.8997 - mean_squared_error: 220.4932\n",
      "Epoch 115/150\n",
      "404/404 [==============================] - 0s 69us/sample - loss: 219.2201 - mean_absolute_error: 11.8511 - mean_squared_error: 219.2201\n",
      "Epoch 116/150\n",
      "404/404 [==============================] - 0s 82us/sample - loss: 217.9820 - mean_absolute_error: 11.8035 - mean_squared_error: 217.9820\n",
      "Epoch 117/150\n",
      "404/404 [==============================] - 0s 72us/sample - loss: 216.7697 - mean_absolute_error: 11.7553 - mean_squared_error: 216.7697\n",
      "Epoch 118/150\n",
      "404/404 [==============================] - 0s 69us/sample - loss: 215.5036 - mean_absolute_error: 11.7091 - mean_squared_error: 215.5037\n",
      "Epoch 119/150\n",
      "404/404 [==============================] - 0s 72us/sample - loss: 214.3135 - mean_absolute_error: 11.6614 - mean_squared_error: 214.3135\n",
      "Epoch 120/150\n",
      "404/404 [==============================] - 0s 101us/sample - loss: 213.0779 - mean_absolute_error: 11.6144 - mean_squared_error: 213.0780\n",
      "Epoch 121/150\n",
      "404/404 [==============================] - 0s 191us/sample - loss: 211.8798 - mean_absolute_error: 11.5677 - mean_squared_error: 211.8798\n",
      "Epoch 122/150\n",
      "404/404 [==============================] - 0s 87us/sample - loss: 210.6803 - mean_absolute_error: 11.5208 - mean_squared_error: 210.6803\n",
      "Epoch 123/150\n",
      "404/404 [==============================] - 0s 82us/sample - loss: 209.4935 - mean_absolute_error: 11.4747 - mean_squared_error: 209.4935\n",
      "Epoch 124/150\n",
      "404/404 [==============================] - 0s 92us/sample - loss: 208.3239 - mean_absolute_error: 11.4281 - mean_squared_error: 208.3239\n",
      "Epoch 125/150\n",
      "404/404 [==============================] - 0s 77us/sample - loss: 207.1358 - mean_absolute_error: 11.3822 - mean_squared_error: 207.1358\n",
      "Epoch 126/150\n",
      "404/404 [==============================] - 0s 67us/sample - loss: 205.9834 - mean_absolute_error: 11.3359 - mean_squared_error: 205.9834\n",
      "Epoch 127/150\n",
      "404/404 [==============================] - 0s 74us/sample - loss: 204.8153 - mean_absolute_error: 11.2906 - mean_squared_error: 204.8153\n",
      "Epoch 128/150\n",
      "404/404 [==============================] - 0s 77us/sample - loss: 203.6782 - mean_absolute_error: 11.2442 - mean_squared_error: 203.6782\n",
      "Epoch 129/150\n",
      "404/404 [==============================] - 0s 79us/sample - loss: 202.5411 - mean_absolute_error: 11.1992 - mean_squared_error: 202.5411\n",
      "Epoch 130/150\n",
      "404/404 [==============================] - 0s 77us/sample - loss: 201.3930 - mean_absolute_error: 11.1539 - mean_squared_error: 201.3930\n",
      "Epoch 131/150\n",
      "404/404 [==============================] - 0s 79us/sample - loss: 200.2849 - mean_absolute_error: 11.1097 - mean_squared_error: 200.2849\n",
      "Epoch 132/150\n",
      "404/404 [==============================] - 0s 87us/sample - loss: 199.1440 - mean_absolute_error: 11.0644 - mean_squared_error: 199.1440\n",
      "Epoch 133/150\n",
      "404/404 [==============================] - 0s 82us/sample - loss: 198.0713 - mean_absolute_error: 11.0201 - mean_squared_error: 198.0714\n",
      "Epoch 134/150\n",
      "404/404 [==============================] - 0s 77us/sample - loss: 196.9607 - mean_absolute_error: 10.9749 - mean_squared_error: 196.9607\n",
      "Epoch 135/150\n",
      "404/404 [==============================] - 0s 64us/sample - loss: 195.8629 - mean_absolute_error: 10.9315 - mean_squared_error: 195.8630\n",
      "Epoch 136/150\n",
      "404/404 [==============================] - 0s 67us/sample - loss: 194.7773 - mean_absolute_error: 10.8875 - mean_squared_error: 194.7774\n",
      "Epoch 137/150\n",
      "404/404 [==============================] - 0s 82us/sample - loss: 193.6980 - mean_absolute_error: 10.8452 - mean_squared_error: 193.6980\n",
      "Epoch 138/150\n",
      "404/404 [==============================] - 0s 77us/sample - loss: 192.6268 - mean_absolute_error: 10.8020 - mean_squared_error: 192.6267\n",
      "Epoch 139/150\n",
      "404/404 [==============================] - 0s 72us/sample - loss: 191.5587 - mean_absolute_error: 10.7582 - mean_squared_error: 191.5587\n",
      "Epoch 140/150\n",
      "404/404 [==============================] - 0s 69us/sample - loss: 190.4978 - mean_absolute_error: 10.7152 - mean_squared_error: 190.4978\n",
      "Epoch 141/150\n",
      "404/404 [==============================] - 0s 77us/sample - loss: 189.4387 - mean_absolute_error: 10.6726 - mean_squared_error: 189.4387\n",
      "Epoch 142/150\n",
      "404/404 [==============================] - 0s 67us/sample - loss: 188.4101 - mean_absolute_error: 10.6305 - mean_squared_error: 188.4101\n",
      "Epoch 143/150\n",
      "404/404 [==============================] - 0s 82us/sample - loss: 187.3586 - mean_absolute_error: 10.5881 - mean_squared_error: 187.3586\n",
      "Epoch 144/150\n",
      "404/404 [==============================] - 0s 77us/sample - loss: 186.3618 - mean_absolute_error: 10.5457 - mean_squared_error: 186.3618\n",
      "Epoch 145/150\n",
      "404/404 [==============================] - 0s 72us/sample - loss: 185.3002 - mean_absolute_error: 10.5027 - mean_squared_error: 185.3002\n",
      "Epoch 146/150\n",
      "404/404 [==============================] - 0s 74us/sample - loss: 184.2979 - mean_absolute_error: 10.4611 - mean_squared_error: 184.2979\n",
      "Epoch 147/150\n",
      "404/404 [==============================] - 0s 77us/sample - loss: 183.2968 - mean_absolute_error: 10.4202 - mean_squared_error: 183.2968\n",
      "Epoch 148/150\n",
      "404/404 [==============================] - 0s 77us/sample - loss: 182.2968 - mean_absolute_error: 10.3790 - mean_squared_error: 182.2968\n",
      "Epoch 149/150\n",
      "404/404 [==============================] - 0s 92us/sample - loss: 181.3137 - mean_absolute_error: 10.3381 - mean_squared_error: 181.3137\n",
      "Epoch 150/150\n",
      "404/404 [==============================] - 0s 79us/sample - loss: 180.3444 - mean_absolute_error: 10.2968 - mean_squared_error: 180.3444\n"
     ]
    },
    {
     "data": {
      "text/plain": [
       "<tensorflow.python.keras.callbacks.History at 0x20634429b48>"
      ]
     },
     "execution_count": 7,
     "metadata": {},
     "output_type": "execute_result"
    }
   ],
   "source": [
    "mlp_model_0 = Sequential()\n",
    "mlp_model_0.add(Dense(16,input_dim=13, activation='relu'))\n",
    "mlp_model_0.add(Dense(8, activation='relu'))\n",
    "mlp_model_0.add(Dense(4, activation='tanh'))\n",
    "mlp_model_0.add(Dense(1, activation='relu'))\n",
    "mlp_model_0.compile(loss='mean_squared_error', optimizer='adam', metrics=['MAE', 'MSE'])\n",
    "mlp_model_0.fit(X_train, y_train, epochs=150)"
   ]
  },
  {
   "cell_type": "code",
   "execution_count": 8,
   "metadata": {},
   "outputs": [
    {
     "name": "stdout",
     "output_type": "stream",
     "text": [
      "102/102 [==============================] - 0s 667us/sample - loss: 192.2155 - mean_absolute_error: 11.3199 - mean_squared_error: 192.2155\n",
      "mean_absolute_error: 11.319940567016602\n"
     ]
    }
   ],
   "source": [
    "scores = mlp_model_0.evaluate(X_test, y_test)\n",
    "print(f\"{mlp_model_0.metrics_names[1]}: {scores[1]}\")"
   ]
  },
  {
   "cell_type": "code",
   "execution_count": 25,
   "metadata": {
    "scrolled": true
   },
   "outputs": [
    {
     "name": "stdout",
     "output_type": "stream",
     "text": [
      "Epoch 1/150\n",
      "404/404 [==============================] - 0s 604us/sample - loss: 574.8237 - mean_absolute_error: 22.1499 - mean_squared_error: 574.8237\n",
      "Epoch 2/150\n",
      "404/404 [==============================] - 0s 114us/sample - loss: 568.1059 - mean_absolute_error: 21.9968 - mean_squared_error: 568.1058\n",
      "Epoch 3/150\n",
      "404/404 [==============================] - 0s 114us/sample - loss: 560.4886 - mean_absolute_error: 21.8269 - mean_squared_error: 560.4885\n",
      "Epoch 4/150\n",
      "404/404 [==============================] - 0s 77us/sample - loss: 551.9494 - mean_absolute_error: 21.6283 - mean_squared_error: 551.9493\n",
      "Epoch 5/150\n",
      "404/404 [==============================] - 0s 69us/sample - loss: 541.8731 - mean_absolute_error: 21.3970 - mean_squared_error: 541.8730\n",
      "Epoch 6/150\n",
      "404/404 [==============================] - 0s 67us/sample - loss: 530.2951 - mean_absolute_error: 21.1264 - mean_squared_error: 530.2952\n",
      "Epoch 7/150\n",
      "404/404 [==============================] - 0s 79us/sample - loss: 517.0249 - mean_absolute_error: 20.8094 - mean_squared_error: 517.0248\n",
      "Epoch 8/150\n",
      "404/404 [==============================] - 0s 77us/sample - loss: 501.8146 - mean_absolute_error: 20.4428 - mean_squared_error: 501.8145\n",
      "Epoch 9/150\n",
      "404/404 [==============================] - 0s 101us/sample - loss: 484.7985 - mean_absolute_error: 20.0220 - mean_squared_error: 484.7985\n",
      "Epoch 10/150\n",
      "404/404 [==============================] - 0s 97us/sample - loss: 465.6429 - mean_absolute_error: 19.5404 - mean_squared_error: 465.6429\n",
      "Epoch 11/150\n",
      "404/404 [==============================] - 0s 87us/sample - loss: 444.2894 - mean_absolute_error: 18.9909 - mean_squared_error: 444.2895\n",
      "Epoch 12/150\n",
      "404/404 [==============================] - 0s 67us/sample - loss: 420.7340 - mean_absolute_error: 18.3610 - mean_squared_error: 420.7340\n",
      "Epoch 13/150\n",
      "404/404 [==============================] - 0s 87us/sample - loss: 395.0405 - mean_absolute_error: 17.6492 - mean_squared_error: 395.0405\n",
      "Epoch 14/150\n",
      "404/404 [==============================] - 0s 67us/sample - loss: 368.1342 - mean_absolute_error: 16.8610 - mean_squared_error: 368.1341\n",
      "Epoch 15/150\n",
      "404/404 [==============================] - 0s 69us/sample - loss: 339.2364 - mean_absolute_error: 16.0064 - mean_squared_error: 339.2364\n",
      "Epoch 16/150\n",
      "404/404 [==============================] - 0s 79us/sample - loss: 310.5731 - mean_absolute_error: 15.0951 - mean_squared_error: 310.5732\n",
      "Epoch 17/150\n",
      "404/404 [==============================] - 0s 72us/sample - loss: 281.1257 - mean_absolute_error: 14.1158 - mean_squared_error: 281.1257\n",
      "Epoch 18/150\n",
      "404/404 [==============================] - 0s 87us/sample - loss: 252.6896 - mean_absolute_error: 13.1098 - mean_squared_error: 252.6896\n",
      "Epoch 19/150\n",
      "404/404 [==============================] - 0s 94us/sample - loss: 224.6414 - mean_absolute_error: 12.0833 - mean_squared_error: 224.6414\n",
      "Epoch 20/150\n",
      "404/404 [==============================] - 0s 116us/sample - loss: 199.2682 - mean_absolute_error: 11.0749 - mean_squared_error: 199.2682\n",
      "Epoch 21/150\n",
      "404/404 [==============================] - 0s 134us/sample - loss: 175.2099 - mean_absolute_error: 10.0865 - mean_squared_error: 175.2099\n",
      "Epoch 22/150\n",
      "404/404 [==============================] - 0s 82us/sample - loss: 154.9346 - mean_absolute_error: 9.2270 - mean_squared_error: 154.9346\n",
      "Epoch 23/150\n",
      "404/404 [==============================] - 0s 69us/sample - loss: 136.5099 - mean_absolute_error: 8.4407 - mean_squared_error: 136.5098\n",
      "Epoch 24/150\n",
      "404/404 [==============================] - 0s 74us/sample - loss: 121.4620 - mean_absolute_error: 7.7872 - mean_squared_error: 121.4620\n",
      "Epoch 25/150\n",
      "404/404 [==============================] - 0s 72us/sample - loss: 110.0117 - mean_absolute_error: 7.2778 - mean_squared_error: 110.0117\n",
      "Epoch 26/150\n",
      "404/404 [==============================] - 0s 72us/sample - loss: 101.0658 - mean_absolute_error: 6.9212 - mean_squared_error: 101.0659\n",
      "Epoch 27/150\n",
      "404/404 [==============================] - 0s 72us/sample - loss: 94.2687 - mean_absolute_error: 6.6300 - mean_squared_error: 94.2687\n",
      "Epoch 28/150\n",
      "404/404 [==============================] - 0s 67us/sample - loss: 89.6415 - mean_absolute_error: 6.4642 - mean_squared_error: 89.6415\n",
      "Epoch 29/150\n",
      "404/404 [==============================] - 0s 64us/sample - loss: 86.4434 - mean_absolute_error: 6.3930 - mean_squared_error: 86.4434\n",
      "Epoch 30/150\n",
      "404/404 [==============================] - 0s 62us/sample - loss: 84.2989 - mean_absolute_error: 6.3636 - mean_squared_error: 84.2989\n",
      "Epoch 31/150\n",
      "404/404 [==============================] - 0s 82us/sample - loss: 82.7642 - mean_absolute_error: 6.3500 - mean_squared_error: 82.7642\n",
      "Epoch 32/150\n",
      "404/404 [==============================] - 0s 77us/sample - loss: 81.8813 - mean_absolute_error: 6.3572 - mean_squared_error: 81.8813\n",
      "Epoch 33/150\n",
      "404/404 [==============================] - 0s 67us/sample - loss: 81.2889 - mean_absolute_error: 6.3711 - mean_squared_error: 81.2888\n",
      "Epoch 34/150\n",
      "404/404 [==============================] - 0s 62us/sample - loss: 80.7942 - mean_absolute_error: 6.3744 - mean_squared_error: 80.7942\n",
      "Epoch 35/150\n",
      "404/404 [==============================] - 0s 72us/sample - loss: 80.4980 - mean_absolute_error: 6.3906 - mean_squared_error: 80.4980\n",
      "Epoch 36/150\n",
      "404/404 [==============================] - 0s 67us/sample - loss: 80.1285 - mean_absolute_error: 6.3954 - mean_squared_error: 80.1285\n",
      "Epoch 37/150\n",
      "404/404 [==============================] - 0s 67us/sample - loss: 79.9032 - mean_absolute_error: 6.3842 - mean_squared_error: 79.9032\n",
      "Epoch 38/150\n",
      "404/404 [==============================] - 0s 77us/sample - loss: 79.6092 - mean_absolute_error: 6.3856 - mean_squared_error: 79.6092\n",
      "Epoch 39/150\n",
      "404/404 [==============================] - 0s 64us/sample - loss: 79.3599 - mean_absolute_error: 6.3883 - mean_squared_error: 79.3599\n",
      "Epoch 40/150\n",
      "404/404 [==============================] - 0s 72us/sample - loss: 79.1083 - mean_absolute_error: 6.3818 - mean_squared_error: 79.1083\n",
      "Epoch 41/150\n",
      "404/404 [==============================] - 0s 64us/sample - loss: 78.8487 - mean_absolute_error: 6.3785 - mean_squared_error: 78.8487\n",
      "Epoch 42/150\n",
      "404/404 [==============================] - 0s 89us/sample - loss: 78.6373 - mean_absolute_error: 6.3758 - mean_squared_error: 78.6373\n",
      "Epoch 43/150\n",
      "404/404 [==============================] - 0s 97us/sample - loss: 78.3715 - mean_absolute_error: 6.3635 - mean_squared_error: 78.3715\n",
      "Epoch 44/150\n",
      "404/404 [==============================] - 0s 77us/sample - loss: 78.1282 - mean_absolute_error: 6.3425 - mean_squared_error: 78.1282\n",
      "Epoch 45/150\n",
      "404/404 [==============================] - 0s 102us/sample - loss: 77.8904 - mean_absolute_error: 6.3256 - mean_squared_error: 77.8904\n",
      "Epoch 46/150\n",
      "404/404 [==============================] - 0s 82us/sample - loss: 77.6572 - mean_absolute_error: 6.3169 - mean_squared_error: 77.6572\n",
      "Epoch 47/150\n",
      "404/404 [==============================] - 0s 79us/sample - loss: 77.4576 - mean_absolute_error: 6.2942 - mean_squared_error: 77.4576\n",
      "Epoch 48/150\n",
      "404/404 [==============================] - 0s 72us/sample - loss: 77.1697 - mean_absolute_error: 6.2826 - mean_squared_error: 77.1697\n",
      "Epoch 49/150\n",
      "404/404 [==============================] - 0s 84us/sample - loss: 76.9293 - mean_absolute_error: 6.2736 - mean_squared_error: 76.9293\n",
      "Epoch 50/150\n",
      "404/404 [==============================] - 0s 106us/sample - loss: 76.7100 - mean_absolute_error: 6.2595 - mean_squared_error: 76.7100\n",
      "Epoch 51/150\n",
      "404/404 [==============================] - 0s 99us/sample - loss: 76.4438 - mean_absolute_error: 6.2497 - mean_squared_error: 76.4438\n",
      "Epoch 52/150\n",
      "404/404 [==============================] - 0s 74us/sample - loss: 76.2340 - mean_absolute_error: 6.2548 - mean_squared_error: 76.2340\n",
      "Epoch 53/150\n",
      "404/404 [==============================] - 0s 77us/sample - loss: 75.9870 - mean_absolute_error: 6.2437 - mean_squared_error: 75.9870\n",
      "Epoch 54/150\n",
      "404/404 [==============================] - 0s 74us/sample - loss: 75.7392 - mean_absolute_error: 6.2277 - mean_squared_error: 75.7392\n",
      "Epoch 55/150\n",
      "404/404 [==============================] - 0s 89us/sample - loss: 75.5088 - mean_absolute_error: 6.2167 - mean_squared_error: 75.5088\n",
      "Epoch 56/150\n",
      "404/404 [==============================] - 0s 89us/sample - loss: 75.2592 - mean_absolute_error: 6.1996 - mean_squared_error: 75.2592\n",
      "Epoch 57/150\n",
      "404/404 [==============================] - 0s 84us/sample - loss: 75.0411 - mean_absolute_error: 6.1780 - mean_squared_error: 75.0411\n",
      "Epoch 58/150\n",
      "404/404 [==============================] - 0s 84us/sample - loss: 74.7605 - mean_absolute_error: 6.1695 - mean_squared_error: 74.7605\n",
      "Epoch 59/150\n",
      "404/404 [==============================] - 0s 99us/sample - loss: 74.5365 - mean_absolute_error: 6.1679 - mean_squared_error: 74.5365\n",
      "Epoch 60/150\n",
      "404/404 [==============================] - 0s 77us/sample - loss: 74.3192 - mean_absolute_error: 6.1546 - mean_squared_error: 74.3192\n",
      "Epoch 61/150\n",
      "404/404 [==============================] - 0s 99us/sample - loss: 74.0835 - mean_absolute_error: 6.1447 - mean_squared_error: 74.0835\n",
      "Epoch 62/150\n",
      "404/404 [==============================] - 0s 82us/sample - loss: 73.8494 - mean_absolute_error: 6.1242 - mean_squared_error: 73.8494\n",
      "Epoch 63/150\n",
      "404/404 [==============================] - 0s 82us/sample - loss: 73.7094 - mean_absolute_error: 6.0986 - mean_squared_error: 73.7094\n",
      "Epoch 64/150\n",
      "404/404 [==============================] - 0s 79us/sample - loss: 73.3909 - mean_absolute_error: 6.0716 - mean_squared_error: 73.3909\n",
      "Epoch 65/150\n",
      "404/404 [==============================] - 0s 89us/sample - loss: 73.2506 - mean_absolute_error: 6.0927 - mean_squared_error: 73.2506\n",
      "Epoch 66/150\n",
      "404/404 [==============================] - 0s 77us/sample - loss: 72.9481 - mean_absolute_error: 6.0725 - mean_squared_error: 72.9481\n",
      "Epoch 67/150\n",
      "404/404 [==============================] - 0s 72us/sample - loss: 72.6890 - mean_absolute_error: 6.0547 - mean_squared_error: 72.6890\n",
      "Epoch 68/150\n",
      "404/404 [==============================] - 0s 89us/sample - loss: 72.4935 - mean_absolute_error: 6.0422 - mean_squared_error: 72.4935\n",
      "Epoch 69/150\n",
      "404/404 [==============================] - 0s 111us/sample - loss: 72.2324 - mean_absolute_error: 6.0408 - mean_squared_error: 72.2324\n",
      "Epoch 70/150\n",
      "404/404 [==============================] - 0s 109us/sample - loss: 72.0464 - mean_absolute_error: 6.0477 - mean_squared_error: 72.0464\n",
      "Epoch 71/150\n",
      "404/404 [==============================] - 0s 79us/sample - loss: 71.7970 - mean_absolute_error: 6.0340 - mean_squared_error: 71.7970\n",
      "Epoch 72/150\n",
      "404/404 [==============================] - 0s 74us/sample - loss: 71.5789 - mean_absolute_error: 6.0201 - mean_squared_error: 71.5789\n",
      "Epoch 73/150\n",
      "404/404 [==============================] - 0s 74us/sample - loss: 71.3337 - mean_absolute_error: 6.0058 - mean_squared_error: 71.3337\n",
      "Epoch 74/150\n",
      "404/404 [==============================] - 0s 74us/sample - loss: 71.1214 - mean_absolute_error: 5.9922 - mean_squared_error: 71.1214\n",
      "Epoch 75/150\n",
      "404/404 [==============================] - 0s 77us/sample - loss: 70.9593 - mean_absolute_error: 5.9890 - mean_squared_error: 70.9593\n",
      "Epoch 76/150\n",
      "404/404 [==============================] - 0s 69us/sample - loss: 70.6591 - mean_absolute_error: 5.9622 - mean_squared_error: 70.6590\n",
      "Epoch 77/150\n",
      "404/404 [==============================] - 0s 97us/sample - loss: 70.4783 - mean_absolute_error: 5.9310 - mean_squared_error: 70.4783\n",
      "Epoch 78/150\n",
      "404/404 [==============================] - 0s 109us/sample - loss: 70.2328 - mean_absolute_error: 5.9202 - mean_squared_error: 70.2328\n",
      "Epoch 79/150\n",
      "404/404 [==============================] - 0s 79us/sample - loss: 70.0142 - mean_absolute_error: 5.9169 - mean_squared_error: 70.0142\n",
      "Epoch 80/150\n",
      "404/404 [==============================] - 0s 67us/sample - loss: 69.7966 - mean_absolute_error: 5.9123 - mean_squared_error: 69.7966\n",
      "Epoch 81/150\n",
      "404/404 [==============================] - 0s 79us/sample - loss: 69.5839 - mean_absolute_error: 5.8982 - mean_squared_error: 69.5839\n",
      "Epoch 82/150\n",
      "404/404 [==============================] - 0s 67us/sample - loss: 69.3844 - mean_absolute_error: 5.8917 - mean_squared_error: 69.3844\n",
      "Epoch 83/150\n",
      "404/404 [==============================] - 0s 69us/sample - loss: 69.1383 - mean_absolute_error: 5.8729 - mean_squared_error: 69.1383\n",
      "Epoch 84/150\n",
      "404/404 [==============================] - 0s 87us/sample - loss: 68.9272 - mean_absolute_error: 5.8609 - mean_squared_error: 68.9272\n",
      "Epoch 85/150\n",
      "404/404 [==============================] - 0s 111us/sample - loss: 68.7855 - mean_absolute_error: 5.8669 - mean_squared_error: 68.7855\n",
      "Epoch 86/150\n",
      "404/404 [==============================] - 0s 62us/sample - loss: 68.5252 - mean_absolute_error: 5.8717 - mean_squared_error: 68.5252\n",
      "Epoch 87/150\n",
      "404/404 [==============================] - 0s 72us/sample - loss: 68.3069 - mean_absolute_error: 5.8349 - mean_squared_error: 68.3069\n",
      "Epoch 88/150\n",
      "404/404 [==============================] - 0s 69us/sample - loss: 68.0852 - mean_absolute_error: 5.7935 - mean_squared_error: 68.0852\n",
      "Epoch 89/150\n",
      "404/404 [==============================] - 0s 102us/sample - loss: 67.8845 - mean_absolute_error: 5.7808 - mean_squared_error: 67.8845\n",
      "Epoch 90/150\n",
      "404/404 [==============================] - 0s 62us/sample - loss: 67.6518 - mean_absolute_error: 5.7760 - mean_squared_error: 67.6518\n",
      "Epoch 91/150\n",
      "404/404 [==============================] - 0s 64us/sample - loss: 67.4317 - mean_absolute_error: 5.7809 - mean_squared_error: 67.4317\n",
      "Epoch 92/150\n",
      "404/404 [==============================] - 0s 64us/sample - loss: 67.2470 - mean_absolute_error: 5.7684 - mean_squared_error: 67.2470\n",
      "Epoch 93/150\n",
      "404/404 [==============================] - 0s 74us/sample - loss: 67.0415 - mean_absolute_error: 5.7712 - mean_squared_error: 67.0415\n",
      "Epoch 94/150\n",
      "404/404 [==============================] - 0s 67us/sample - loss: 66.8981 - mean_absolute_error: 5.7544 - mean_squared_error: 66.8981\n",
      "Epoch 95/150\n",
      "404/404 [==============================] - 0s 74us/sample - loss: 66.6907 - mean_absolute_error: 5.7199 - mean_squared_error: 66.6907\n",
      "Epoch 96/150\n",
      "404/404 [==============================] - 0s 72us/sample - loss: 66.4563 - mean_absolute_error: 5.7405 - mean_squared_error: 66.4563\n",
      "Epoch 97/150\n",
      "404/404 [==============================] - 0s 74us/sample - loss: 66.2252 - mean_absolute_error: 5.7386 - mean_squared_error: 66.2252\n",
      "Epoch 98/150\n",
      "404/404 [==============================] - 0s 79us/sample - loss: 66.0003 - mean_absolute_error: 5.7256 - mean_squared_error: 66.0004\n",
      "Epoch 99/150\n",
      "404/404 [==============================] - 0s 104us/sample - loss: 65.7964 - mean_absolute_error: 5.6921 - mean_squared_error: 65.7964\n",
      "Epoch 100/150\n",
      "404/404 [==============================] - 0s 74us/sample - loss: 65.5848 - mean_absolute_error: 5.6700 - mean_squared_error: 65.5847\n",
      "Epoch 101/150\n",
      "404/404 [==============================] - 0s 69us/sample - loss: 65.3786 - mean_absolute_error: 5.6705 - mean_squared_error: 65.3786\n",
      "Epoch 102/150\n",
      "404/404 [==============================] - 0s 64us/sample - loss: 65.1864 - mean_absolute_error: 5.6553 - mean_squared_error: 65.1864\n",
      "Epoch 103/150\n",
      "404/404 [==============================] - 0s 72us/sample - loss: 65.0202 - mean_absolute_error: 5.6619 - mean_squared_error: 65.0202\n",
      "Epoch 104/150\n",
      "404/404 [==============================] - 0s 74us/sample - loss: 64.7835 - mean_absolute_error: 5.6457 - mean_squared_error: 64.7835\n",
      "Epoch 105/150\n",
      "404/404 [==============================] - 0s 72us/sample - loss: 64.6030 - mean_absolute_error: 5.6058 - mean_squared_error: 64.6030\n",
      "Epoch 106/150\n",
      "404/404 [==============================] - 0s 72us/sample - loss: 64.4658 - mean_absolute_error: 5.5815 - mean_squared_error: 64.4658\n",
      "Epoch 107/150\n",
      "404/404 [==============================] - 0s 69us/sample - loss: 64.2104 - mean_absolute_error: 5.5784 - mean_squared_error: 64.2104\n",
      "Epoch 108/150\n",
      "404/404 [==============================] - 0s 74us/sample - loss: 64.0470 - mean_absolute_error: 5.5733 - mean_squared_error: 64.0470\n",
      "Epoch 109/150\n",
      "404/404 [==============================] - 0s 74us/sample - loss: 63.8539 - mean_absolute_error: 5.5756 - mean_squared_error: 63.8539\n",
      "Epoch 110/150\n",
      "404/404 [==============================] - 0s 64us/sample - loss: 63.6406 - mean_absolute_error: 5.5562 - mean_squared_error: 63.6406\n",
      "Epoch 111/150\n",
      "404/404 [==============================] - 0s 77us/sample - loss: 63.4700 - mean_absolute_error: 5.5407 - mean_squared_error: 63.4700\n",
      "Epoch 112/150\n",
      "404/404 [==============================] - 0s 67us/sample - loss: 63.2956 - mean_absolute_error: 5.5142 - mean_squared_error: 63.2957\n",
      "Epoch 113/150\n",
      "404/404 [==============================] - 0s 69us/sample - loss: 63.0822 - mean_absolute_error: 5.5118 - mean_squared_error: 63.0822\n",
      "Epoch 114/150\n",
      "404/404 [==============================] - 0s 87us/sample - loss: 62.9719 - mean_absolute_error: 5.5430 - mean_squared_error: 62.9719\n",
      "Epoch 115/150\n",
      "404/404 [==============================] - 0s 74us/sample - loss: 62.7995 - mean_absolute_error: 5.5282 - mean_squared_error: 62.7995\n",
      "Epoch 116/150\n",
      "404/404 [==============================] - 0s 82us/sample - loss: 62.5927 - mean_absolute_error: 5.5151 - mean_squared_error: 62.5927\n",
      "Epoch 117/150\n",
      "404/404 [==============================] - 0s 69us/sample - loss: 62.4029 - mean_absolute_error: 5.5025 - mean_squared_error: 62.4029\n",
      "Epoch 118/150\n",
      "404/404 [==============================] - 0s 72us/sample - loss: 62.2841 - mean_absolute_error: 5.4633 - mean_squared_error: 62.2841\n",
      "Epoch 119/150\n",
      "404/404 [==============================] - 0s 77us/sample - loss: 62.0584 - mean_absolute_error: 5.4556 - mean_squared_error: 62.0584\n",
      "Epoch 120/150\n",
      "404/404 [==============================] - ETA: 0s - loss: 97.9000 - mean_absolute_error: 6.8760 - mean_squared_error: 97.90 - 0s 79us/sample - loss: 61.9132 - mean_absolute_error: 5.4679 - mean_squared_error: 61.9131\n",
      "Epoch 121/150\n",
      "404/404 [==============================] - 0s 74us/sample - loss: 61.7734 - mean_absolute_error: 5.4433 - mean_squared_error: 61.7734\n",
      "Epoch 122/150\n",
      "404/404 [==============================] - 0s 74us/sample - loss: 61.6065 - mean_absolute_error: 5.4290 - mean_squared_error: 61.6065\n",
      "Epoch 123/150\n",
      "404/404 [==============================] - 0s 72us/sample - loss: 61.4658 - mean_absolute_error: 5.4208 - mean_squared_error: 61.4659\n",
      "Epoch 124/150\n",
      "404/404 [==============================] - 0s 69us/sample - loss: 61.3351 - mean_absolute_error: 5.3981 - mean_squared_error: 61.3351\n",
      "Epoch 125/150\n",
      "404/404 [==============================] - 0s 72us/sample - loss: 61.2722 - mean_absolute_error: 5.4368 - mean_squared_error: 61.2722\n",
      "Epoch 126/150\n",
      "404/404 [==============================] - 0s 72us/sample - loss: 61.0481 - mean_absolute_error: 5.4116 - mean_squared_error: 61.0481\n",
      "Epoch 127/150\n",
      "404/404 [==============================] - 0s 64us/sample - loss: 60.8839 - mean_absolute_error: 5.3848 - mean_squared_error: 60.8839\n",
      "Epoch 128/150\n",
      "404/404 [==============================] - 0s 69us/sample - loss: 60.7682 - mean_absolute_error: 5.3974 - mean_squared_error: 60.7682\n",
      "Epoch 129/150\n",
      "404/404 [==============================] - 0s 77us/sample - loss: 60.6214 - mean_absolute_error: 5.4050 - mean_squared_error: 60.6214\n",
      "Epoch 130/150\n",
      "404/404 [==============================] - 0s 77us/sample - loss: 60.4911 - mean_absolute_error: 5.3804 - mean_squared_error: 60.4911\n",
      "Epoch 131/150\n",
      "404/404 [==============================] - 0s 74us/sample - loss: 60.3977 - mean_absolute_error: 5.3876 - mean_squared_error: 60.3977\n",
      "Epoch 132/150\n",
      "404/404 [==============================] - 0s 72us/sample - loss: 60.2837 - mean_absolute_error: 5.3641 - mean_squared_error: 60.2837\n",
      "Epoch 133/150\n",
      "404/404 [==============================] - 0s 72us/sample - loss: 60.1232 - mean_absolute_error: 5.3501 - mean_squared_error: 60.1232\n",
      "Epoch 134/150\n",
      "404/404 [==============================] - 0s 69us/sample - loss: 60.0075 - mean_absolute_error: 5.3504 - mean_squared_error: 60.0076\n",
      "Epoch 135/150\n",
      "404/404 [==============================] - 0s 69us/sample - loss: 59.9647 - mean_absolute_error: 5.3719 - mean_squared_error: 59.9647\n",
      "Epoch 136/150\n",
      "404/404 [==============================] - 0s 72us/sample - loss: 59.7894 - mean_absolute_error: 5.3431 - mean_squared_error: 59.7894\n",
      "Epoch 137/150\n",
      "404/404 [==============================] - 0s 64us/sample - loss: 59.7262 - mean_absolute_error: 5.3088 - mean_squared_error: 59.7262\n",
      "Epoch 138/150\n",
      "404/404 [==============================] - 0s 69us/sample - loss: 59.5432 - mean_absolute_error: 5.3190 - mean_squared_error: 59.5432\n",
      "Epoch 139/150\n",
      "404/404 [==============================] - 0s 67us/sample - loss: 59.4753 - mean_absolute_error: 5.3436 - mean_squared_error: 59.4753\n",
      "Epoch 140/150\n",
      "404/404 [==============================] - 0s 67us/sample - loss: 59.3649 - mean_absolute_error: 5.3346 - mean_squared_error: 59.3649\n",
      "Epoch 141/150\n",
      "404/404 [==============================] - 0s 74us/sample - loss: 59.2820 - mean_absolute_error: 5.3410 - mean_squared_error: 59.2820\n",
      "Epoch 142/150\n",
      "404/404 [==============================] - 0s 79us/sample - loss: 59.1850 - mean_absolute_error: 5.3007 - mean_squared_error: 59.1850\n",
      "Epoch 143/150\n",
      "404/404 [==============================] - 0s 79us/sample - loss: 59.0966 - mean_absolute_error: 5.2844 - mean_squared_error: 59.0966\n",
      "Epoch 144/150\n",
      "404/404 [==============================] - 0s 69us/sample - loss: 58.9822 - mean_absolute_error: 5.3121 - mean_squared_error: 58.9822\n",
      "Epoch 145/150\n",
      "404/404 [==============================] - 0s 62us/sample - loss: 58.9384 - mean_absolute_error: 5.3160 - mean_squared_error: 58.9384\n",
      "Epoch 146/150\n",
      "404/404 [==============================] - 0s 69us/sample - loss: 58.8267 - mean_absolute_error: 5.3319 - mean_squared_error: 58.8267\n",
      "Epoch 147/150\n",
      "404/404 [==============================] - 0s 64us/sample - loss: 58.8762 - mean_absolute_error: 5.3502 - mean_squared_error: 58.8762\n",
      "Epoch 148/150\n",
      "404/404 [==============================] - 0s 77us/sample - loss: 58.7034 - mean_absolute_error: 5.2811 - mean_squared_error: 58.7034\n",
      "Epoch 149/150\n",
      "404/404 [==============================] - 0s 74us/sample - loss: 58.6410 - mean_absolute_error: 5.2501 - mean_squared_error: 58.6410\n",
      "Epoch 150/150\n",
      "404/404 [==============================] - 0s 64us/sample - loss: 58.6344 - mean_absolute_error: 5.2911 - mean_squared_error: 58.6344\n"
     ]
    }
   ],
   "source": [
    "mlp_model_1 = Sequential()\n",
    "mlp_model_1.add(Dense(16,input_dim=13, activation='relu'))\n",
    "mlp_model_1.add(Dense(8, activation='relu'))\n",
    "mlp_model_1.add(Dense(1, activation='relu'))\n",
    "mlp_model_1.compile(loss='mean_squared_error', optimizer='adam', metrics=['MAE', 'MSE'])\n",
    "best_history = mlp_model_1.fit(X_train, y_train, epochs=150)"
   ]
  },
  {
   "cell_type": "code",
   "execution_count": 10,
   "metadata": {},
   "outputs": [
    {
     "name": "stdout",
     "output_type": "stream",
     "text": [
      "102/102 [==============================] - 0s 716us/sample - loss: 55.1273 - mean_absolute_error: 5.4509 - mean_squared_error: 55.1273\n",
      "mean_absolute_error: 5.450854301452637\n"
     ]
    }
   ],
   "source": [
    "scores = mlp_model_1.evaluate(X_test, y_test)\n",
    "print(f\"{mlp_model_1.metrics_names[1]}: {scores[1]}\")"
   ]
  },
  {
   "cell_type": "code",
   "execution_count": 64,
   "metadata": {
    "scrolled": true
   },
   "outputs": [
    {
     "name": "stdout",
     "output_type": "stream",
     "text": [
      "Epoch 1/100\n",
      "404/404 [==============================] - 1s 1ms/sample - loss: 586.1605 - mean_absolute_error: 22.3951 - mean_squared_error: 586.1606\n",
      "Epoch 2/100\n",
      "404/404 [==============================] - 0s 307us/sample - loss: 586.1605 - mean_absolute_error: 22.3950 - mean_squared_error: 586.1605\n",
      "Epoch 3/100\n",
      "404/404 [==============================] - 0s 114us/sample - loss: 586.1605 - mean_absolute_error: 22.3950 - mean_squared_error: 586.1605\n",
      "Epoch 4/100\n",
      "404/404 [==============================] - 0s 114us/sample - loss: 586.1605 - mean_absolute_error: 22.3951 - mean_squared_error: 586.1605\n",
      "Epoch 5/100\n",
      "404/404 [==============================] - 0s 322us/sample - loss: 586.1605 - mean_absolute_error: 22.3950 - mean_squared_error: 586.1605s - loss: 585.7494 - mean_absolute_error: 22.3462 - mean_squared_error: 585.749\n",
      "Epoch 6/100\n",
      "404/404 [==============================] - 0s 238us/sample - loss: 586.1605 - mean_absolute_error: 22.3950 - mean_squared_error: 586.1605\n",
      "Epoch 7/100\n",
      "404/404 [==============================] - 0s 178us/sample - loss: 586.1605 - mean_absolute_error: 22.3951 - mean_squared_error: 586.1605\n",
      "Epoch 8/100\n",
      "404/404 [==============================] - 0s 327us/sample - loss: 586.1605 - mean_absolute_error: 22.3951 - mean_squared_error: 586.1605\n",
      "Epoch 9/100\n",
      "404/404 [==============================] - 0s 223us/sample - loss: 586.1605 - mean_absolute_error: 22.3951 - mean_squared_error: 586.1605\n",
      "Epoch 10/100\n",
      "404/404 [==============================] - 0s 297us/sample - loss: 586.1605 - mean_absolute_error: 22.3950 - mean_squared_error: 586.1605\n",
      "Epoch 11/100\n",
      "404/404 [==============================] - 0s 272us/sample - loss: 586.1605 - mean_absolute_error: 22.3950 - mean_squared_error: 586.1605\n",
      "Epoch 12/100\n",
      "404/404 [==============================] - 0s 119us/sample - loss: 586.1605 - mean_absolute_error: 22.3951 - mean_squared_error: 586.1605\n",
      "Epoch 13/100\n",
      "404/404 [==============================] - ETA: 0s - loss: 605.5478 - mean_absolute_error: 22.6375 - mean_squared_error: 605.547 - 0s 250us/sample - loss: 586.1605 - mean_absolute_error: 22.3950 - mean_squared_error: 586.1605\n",
      "Epoch 14/100\n",
      "404/404 [==============================] - 0s 121us/sample - loss: 586.1605 - mean_absolute_error: 22.3951 - mean_squared_error: 586.1605\n",
      "Epoch 15/100\n",
      "404/404 [==============================] - 0s 106us/sample - loss: 586.1605 - mean_absolute_error: 22.3950 - mean_squared_error: 586.1605\n",
      "Epoch 16/100\n",
      "404/404 [==============================] - 0s 210us/sample - loss: 586.1605 - mean_absolute_error: 22.3951 - mean_squared_error: 586.1605\n",
      "Epoch 17/100\n",
      "404/404 [==============================] - 0s 119us/sample - loss: 586.1605 - mean_absolute_error: 22.3950 - mean_squared_error: 586.1605\n",
      "Epoch 18/100\n",
      "404/404 [==============================] - 0s 131us/sample - loss: 586.1605 - mean_absolute_error: 22.3950 - mean_squared_error: 586.1605\n",
      "Epoch 19/100\n",
      "404/404 [==============================] - 0s 116us/sample - loss: 586.1605 - mean_absolute_error: 22.3951 - mean_squared_error: 586.1606\n",
      "Epoch 20/100\n",
      "404/404 [==============================] - 0s 149us/sample - loss: 586.1605 - mean_absolute_error: 22.3951 - mean_squared_error: 586.1605\n",
      "Epoch 21/100\n",
      "404/404 [==============================] - 0s 104us/sample - loss: 586.1605 - mean_absolute_error: 22.3951 - mean_squared_error: 586.1605\n",
      "Epoch 22/100\n",
      "404/404 [==============================] - 0s 101us/sample - loss: 586.1605 - mean_absolute_error: 22.3951 - mean_squared_error: 586.1605\n",
      "Epoch 23/100\n",
      "404/404 [==============================] - 0s 106us/sample - loss: 586.1605 - mean_absolute_error: 22.3951 - mean_squared_error: 586.1605\n",
      "Epoch 24/100\n",
      "404/404 [==============================] - 0s 121us/sample - loss: 586.1605 - mean_absolute_error: 22.3950 - mean_squared_error: 586.1605\n",
      "Epoch 25/100\n",
      "404/404 [==============================] - 0s 109us/sample - loss: 586.1605 - mean_absolute_error: 22.3950 - mean_squared_error: 586.1605\n",
      "Epoch 26/100\n",
      "404/404 [==============================] - 0s 119us/sample - loss: 586.1605 - mean_absolute_error: 22.3951 - mean_squared_error: 586.1605\n",
      "Epoch 27/100\n",
      "404/404 [==============================] - 0s 124us/sample - loss: 586.1605 - mean_absolute_error: 22.3951 - mean_squared_error: 586.1605\n",
      "Epoch 28/100\n",
      "404/404 [==============================] - 0s 394us/sample - loss: 586.1605 - mean_absolute_error: 22.3950 - mean_squared_error: 586.1605\n",
      "Epoch 29/100\n",
      "404/404 [==============================] - 0s 295us/sample - loss: 586.1605 - mean_absolute_error: 22.3950 - mean_squared_error: 586.1605\n",
      "Epoch 30/100\n",
      "404/404 [==============================] - 0s 106us/sample - loss: 586.1605 - mean_absolute_error: 22.3950 - mean_squared_error: 586.1605\n",
      "Epoch 31/100\n",
      "404/404 [==============================] - 0s 119us/sample - loss: 586.1605 - mean_absolute_error: 22.3951 - mean_squared_error: 586.1605\n",
      "Epoch 32/100\n",
      "404/404 [==============================] - 0s 101us/sample - loss: 586.1605 - mean_absolute_error: 22.3951 - mean_squared_error: 586.1605\n",
      "Epoch 33/100\n",
      "404/404 [==============================] - 0s 89us/sample - loss: 586.1605 - mean_absolute_error: 22.3950 - mean_squared_error: 586.1605\n",
      "Epoch 34/100\n",
      "404/404 [==============================] - 0s 99us/sample - loss: 586.1605 - mean_absolute_error: 22.3951 - mean_squared_error: 586.1605\n",
      "Epoch 35/100\n",
      "404/404 [==============================] - 0s 126us/sample - loss: 586.1605 - mean_absolute_error: 22.3950 - mean_squared_error: 586.1605\n",
      "Epoch 36/100\n",
      "404/404 [==============================] - 0s 106us/sample - loss: 586.1605 - mean_absolute_error: 22.3951 - mean_squared_error: 586.1605\n",
      "Epoch 37/100\n",
      "404/404 [==============================] - 0s 87us/sample - loss: 586.1605 - mean_absolute_error: 22.3951 - mean_squared_error: 586.1605\n",
      "Epoch 38/100\n",
      "404/404 [==============================] - 0s 92us/sample - loss: 586.1605 - mean_absolute_error: 22.3950 - mean_squared_error: 586.1605\n",
      "Epoch 39/100\n",
      "404/404 [==============================] - 0s 104us/sample - loss: 586.1605 - mean_absolute_error: 22.3951 - mean_squared_error: 586.1605\n",
      "Epoch 40/100\n",
      "404/404 [==============================] - 0s 121us/sample - loss: 586.1605 - mean_absolute_error: 22.3950 - mean_squared_error: 586.1605\n",
      "Epoch 41/100\n",
      "404/404 [==============================] - 0s 99us/sample - loss: 586.1605 - mean_absolute_error: 22.3950 - mean_squared_error: 586.1605\n",
      "Epoch 42/100\n",
      "404/404 [==============================] - 0s 99us/sample - loss: 586.1605 - mean_absolute_error: 22.3950 - mean_squared_error: 586.1605\n",
      "Epoch 43/100\n",
      "404/404 [==============================] - 0s 97us/sample - loss: 586.1605 - mean_absolute_error: 22.3950 - mean_squared_error: 586.1605\n",
      "Epoch 44/100\n",
      "404/404 [==============================] - 0s 141us/sample - loss: 586.1605 - mean_absolute_error: 22.3950 - mean_squared_error: 586.1605\n",
      "Epoch 45/100\n",
      "404/404 [==============================] - 0s 267us/sample - loss: 586.1605 - mean_absolute_error: 22.3950 - mean_squared_error: 586.1605\n",
      "Epoch 46/100\n",
      "404/404 [==============================] - 0s 99us/sample - loss: 586.1605 - mean_absolute_error: 22.3951 - mean_squared_error: 586.1605\n",
      "Epoch 47/100\n",
      "404/404 [==============================] - 0s 131us/sample - loss: 586.1605 - mean_absolute_error: 22.3951 - mean_squared_error: 586.1605\n",
      "Epoch 48/100\n",
      "404/404 [==============================] - 0s 131us/sample - loss: 586.1605 - mean_absolute_error: 22.3950 - mean_squared_error: 586.1605\n",
      "Epoch 49/100\n",
      "404/404 [==============================] - 0s 89us/sample - loss: 586.1605 - mean_absolute_error: 22.3950 - mean_squared_error: 586.1605\n",
      "Epoch 50/100\n",
      "404/404 [==============================] - 0s 119us/sample - loss: 586.1605 - mean_absolute_error: 22.3951 - mean_squared_error: 586.1605\n",
      "Epoch 51/100\n",
      "404/404 [==============================] - 0s 144us/sample - loss: 586.1605 - mean_absolute_error: 22.3951 - mean_squared_error: 586.1605\n",
      "Epoch 52/100\n",
      "404/404 [==============================] - 0s 141us/sample - loss: 586.1605 - mean_absolute_error: 22.3950 - mean_squared_error: 586.1605\n",
      "Epoch 53/100\n",
      "404/404 [==============================] - 0s 198us/sample - loss: 586.1605 - mean_absolute_error: 22.3950 - mean_squared_error: 586.1605\n",
      "Epoch 54/100\n",
      "404/404 [==============================] - 0s 168us/sample - loss: 586.1605 - mean_absolute_error: 22.3950 - mean_squared_error: 586.1605\n",
      "Epoch 55/100\n",
      "404/404 [==============================] - 0s 99us/sample - loss: 586.1605 - mean_absolute_error: 22.3951 - mean_squared_error: 586.1605\n",
      "Epoch 56/100\n",
      "404/404 [==============================] - 0s 203us/sample - loss: 586.1605 - mean_absolute_error: 22.3951 - mean_squared_error: 586.1605\n",
      "Epoch 57/100\n",
      "404/404 [==============================] - 0s 141us/sample - loss: 586.1605 - mean_absolute_error: 22.3950 - mean_squared_error: 586.1605\n",
      "Epoch 58/100\n",
      "404/404 [==============================] - 0s 275us/sample - loss: 586.1605 - mean_absolute_error: 22.3950 - mean_squared_error: 586.1605\n",
      "Epoch 59/100\n",
      "404/404 [==============================] - 0s 101us/sample - loss: 586.1605 - mean_absolute_error: 22.3950 - mean_squared_error: 586.1605\n",
      "Epoch 60/100\n",
      "404/404 [==============================] - 0s 119us/sample - loss: 586.1605 - mean_absolute_error: 22.3950 - mean_squared_error: 586.1605\n",
      "Epoch 61/100\n",
      "404/404 [==============================] - 0s 134us/sample - loss: 586.1605 - mean_absolute_error: 22.3950 - mean_squared_error: 586.1604\n",
      "Epoch 62/100\n",
      "404/404 [==============================] - 0s 141us/sample - loss: 586.1605 - mean_absolute_error: 22.3950 - mean_squared_error: 586.1605\n",
      "Epoch 63/100\n",
      "404/404 [==============================] - 0s 248us/sample - loss: 586.1605 - mean_absolute_error: 22.3950 - mean_squared_error: 586.1605\n",
      "Epoch 64/100\n",
      "404/404 [==============================] - 0s 200us/sample - loss: 586.1605 - mean_absolute_error: 22.3950 - mean_squared_error: 586.1605\n",
      "Epoch 65/100\n",
      "404/404 [==============================] - 0s 99us/sample - loss: 586.1605 - mean_absolute_error: 22.3951 - mean_squared_error: 586.1605\n",
      "Epoch 66/100\n",
      "404/404 [==============================] - 0s 116us/sample - loss: 586.1605 - mean_absolute_error: 22.3950 - mean_squared_error: 586.1605\n",
      "Epoch 67/100\n",
      "404/404 [==============================] - 0s 126us/sample - loss: 586.1605 - mean_absolute_error: 22.3950 - mean_squared_error: 586.1605\n",
      "Epoch 68/100\n",
      "404/404 [==============================] - 0s 114us/sample - loss: 586.1605 - mean_absolute_error: 22.3950 - mean_squared_error: 586.1605\n",
      "Epoch 69/100\n",
      "404/404 [==============================] - 0s 111us/sample - loss: 586.1605 - mean_absolute_error: 22.3951 - mean_squared_error: 586.1605\n",
      "Epoch 70/100\n",
      "404/404 [==============================] - 0s 129us/sample - loss: 586.1605 - mean_absolute_error: 22.3950 - mean_squared_error: 586.1605\n",
      "Epoch 71/100\n",
      "404/404 [==============================] - 0s 131us/sample - loss: 586.1605 - mean_absolute_error: 22.3950 - mean_squared_error: 586.1605\n",
      "Epoch 72/100\n",
      "404/404 [==============================] - 0s 163us/sample - loss: 586.1605 - mean_absolute_error: 22.3951 - mean_squared_error: 586.1605\n",
      "Epoch 73/100\n",
      "404/404 [==============================] - 0s 111us/sample - loss: 586.1605 - mean_absolute_error: 22.3951 - mean_squared_error: 586.1605\n",
      "Epoch 74/100\n",
      "404/404 [==============================] - 0s 136us/sample - loss: 586.1605 - mean_absolute_error: 22.3951 - mean_squared_error: 586.1605\n",
      "Epoch 75/100\n",
      "404/404 [==============================] - 0s 121us/sample - loss: 586.1605 - mean_absolute_error: 22.3950 - mean_squared_error: 586.1605\n",
      "Epoch 76/100\n",
      "404/404 [==============================] - 0s 106us/sample - loss: 586.1605 - mean_absolute_error: 22.3950 - mean_squared_error: 586.1605\n",
      "Epoch 77/100\n",
      "404/404 [==============================] - 0s 124us/sample - loss: 586.1605 - mean_absolute_error: 22.3950 - mean_squared_error: 586.1605\n",
      "Epoch 78/100\n",
      "404/404 [==============================] - 0s 262us/sample - loss: 586.1605 - mean_absolute_error: 22.3950 - mean_squared_error: 586.1605\n",
      "Epoch 79/100\n",
      "404/404 [==============================] - 0s 126us/sample - loss: 586.1605 - mean_absolute_error: 22.3951 - mean_squared_error: 586.1605\n",
      "Epoch 80/100\n",
      "404/404 [==============================] - 0s 198us/sample - loss: 586.1605 - mean_absolute_error: 22.3951 - mean_squared_error: 586.1605\n",
      "Epoch 81/100\n",
      "404/404 [==============================] - 0s 111us/sample - loss: 586.1605 - mean_absolute_error: 22.3951 - mean_squared_error: 586.1605\n",
      "Epoch 82/100\n",
      "404/404 [==============================] - 0s 116us/sample - loss: 586.1605 - mean_absolute_error: 22.3950 - mean_squared_error: 586.1605\n",
      "Epoch 83/100\n",
      "404/404 [==============================] - 0s 109us/sample - loss: 586.1605 - mean_absolute_error: 22.3951 - mean_squared_error: 586.1605\n",
      "Epoch 84/100\n",
      "404/404 [==============================] - 0s 97us/sample - loss: 586.1605 - mean_absolute_error: 22.3950 - mean_squared_error: 586.1605\n",
      "Epoch 85/100\n",
      "404/404 [==============================] - 0s 139us/sample - loss: 586.1605 - mean_absolute_error: 22.3950 - mean_squared_error: 586.1605\n",
      "Epoch 86/100\n",
      "404/404 [==============================] - 0s 106us/sample - loss: 586.1605 - mean_absolute_error: 22.3950 - mean_squared_error: 586.1605\n",
      "Epoch 87/100\n",
      "404/404 [==============================] - 0s 101us/sample - loss: 586.1605 - mean_absolute_error: 22.3951 - mean_squared_error: 586.1605\n",
      "Epoch 88/100\n",
      "404/404 [==============================] - 0s 193us/sample - loss: 586.1605 - mean_absolute_error: 22.3950 - mean_squared_error: 586.1605\n",
      "Epoch 89/100\n",
      "404/404 [==============================] - 0s 196us/sample - loss: 586.1605 - mean_absolute_error: 22.3951 - mean_squared_error: 586.1605\n",
      "Epoch 90/100\n",
      "404/404 [==============================] - 0s 156us/sample - loss: 586.1605 - mean_absolute_error: 22.3950 - mean_squared_error: 586.1605\n",
      "Epoch 91/100\n",
      "404/404 [==============================] - 0s 243us/sample - loss: 586.1605 - mean_absolute_error: 22.3950 - mean_squared_error: 586.1605\n",
      "Epoch 92/100\n",
      "404/404 [==============================] - 0s 218us/sample - loss: 586.1605 - mean_absolute_error: 22.3950 - mean_squared_error: 586.1605\n",
      "Epoch 93/100\n",
      "404/404 [==============================] - 0s 213us/sample - loss: 586.1605 - mean_absolute_error: 22.3951 - mean_squared_error: 586.1605\n",
      "Epoch 94/100\n",
      "404/404 [==============================] - 0s 166us/sample - loss: 586.1605 - mean_absolute_error: 22.3950 - mean_squared_error: 586.1605\n",
      "Epoch 95/100\n",
      "404/404 [==============================] - 0s 109us/sample - loss: 586.1605 - mean_absolute_error: 22.3950 - mean_squared_error: 586.1605\n",
      "Epoch 96/100\n",
      "404/404 [==============================] - 0s 87us/sample - loss: 586.1605 - mean_absolute_error: 22.3950 - mean_squared_error: 586.1605\n",
      "Epoch 97/100\n",
      "404/404 [==============================] - 0s 116us/sample - loss: 586.1605 - mean_absolute_error: 22.3950 - mean_squared_error: 586.1605\n",
      "Epoch 98/100\n",
      "404/404 [==============================] - 0s 181us/sample - loss: 586.1605 - mean_absolute_error: 22.3951 - mean_squared_error: 586.1605\n",
      "Epoch 99/100\n",
      "404/404 [==============================] - 0s 245us/sample - loss: 586.1605 - mean_absolute_error: 22.3951 - mean_squared_error: 586.1605\n",
      "Epoch 100/100\n",
      "404/404 [==============================] - 0s 339us/sample - loss: 586.1605 - mean_absolute_error: 22.3950 - mean_squared_error: 586.1605\n"
     ]
    },
    {
     "data": {
      "text/plain": [
       "<tensorflow.python.keras.callbacks.History at 0x2063e400e88>"
      ]
     },
     "execution_count": 64,
     "metadata": {},
     "output_type": "execute_result"
    }
   ],
   "source": [
    "mlp_model_2 = Sequential()\n",
    "mlp_model_2.add(Dense(16,input_dim=13, activation='relu'))\n",
    "mlp_model_2.add(Dense(32, activation='relu'))\n",
    "mlp_model_2.add(Dense(8, activation='relu'))\n",
    "mlp_model_2.add(Dense(1, activation='relu'))\n",
    "mlp_model_2.compile(loss='mean_squared_error', optimizer='adam', metrics=['MAE', 'MSE'])\n",
    "mlp_model_2.fit(X_train, y_train, epochs=100)"
   ]
  },
  {
   "cell_type": "code",
   "execution_count": 12,
   "metadata": {},
   "outputs": [
    {
     "name": "stdout",
     "output_type": "stream",
     "text": [
      "102/102 [==============================] - 0s 852us/sample - loss: 615.8578 - mean_absolute_error: 23.0784 - mean_squared_error: 615.8578\n",
      "mean_absolute_error: 23.078432083129883\n"
     ]
    }
   ],
   "source": [
    "scores = mlp_model_2.evaluate(X_test, y_test)\n",
    "print(f\"{mlp_model_2.metrics_names[1]}: {scores[1]}\")"
   ]
  },
  {
   "cell_type": "code",
   "execution_count": 26,
   "metadata": {},
   "outputs": [],
   "source": [
    "import matplotlib.pyplot as plt"
   ]
  },
  {
   "cell_type": "code",
   "execution_count": 29,
   "metadata": {},
   "outputs": [
    {
     "data": {
      "image/png": "[encoded data removed]",
      "text/plain": [
       "<Figure size 432x288 with 1 Axes>"
      ]
     },
     "metadata": {
      "needs_background": "light"
     },
     "output_type": "display_data"
    }
   ],
   "source": [
    "plt.plot(best_history.history['loss'])\n",
    "plt.title('Model loss')\n",
    "plt.ylabel('Loss')\n",
    "plt.xlabel('Epoch')\n",
    "plt.show()"
   ]
  },
  {
   "cell_type": "code",
   "execution_count": 30,
   "metadata": {},
   "outputs": [
    {
     "data": {
      "image/png": "[encoded data removed]",
      "text/plain": [
       "<Figure size 432x288 with 1 Axes>"
      ]
     },
     "metadata": {
      "needs_background": "light"
     },
     "output_type": "display_data"
    }
   ],
   "source": [
    "plt.plot(best_history.history['mean_squared_error'])\n",
    "plt.title('Mean Squared Error')\n",
    "plt.ylabel('MSE')\n",
    "plt.xlabel('Epoch')\n",
    "plt.show()"
   ]
  },
  {
   "cell_type": "code",
   "execution_count": 32,
   "metadata": {},
   "outputs": [
    {
     "data": {
      "image/png": "[encoded data removed]",
      "text/plain": [
       "<Figure size 432x288 with 1 Axes>"
      ]
     },
     "metadata": {
      "needs_background": "light"
     },
     "output_type": "display_data"
    }
   ],
   "source": [
    "plt.plot(best_history.history['mean_absolute_error'])\n",
    "plt.title('Mean Absolute Error')\n",
    "plt.ylabel('MAE')\n",
    "plt.xlabel('Epoch')\n",
    "plt.show()"
   ]
  },
  {
   "cell_type": "code",
   "execution_count": 59,
   "metadata": {},
   "outputs": [],
   "source": [
    "from sklearn.linear_model import LinearRegression\n",
    "from sklearn.metrics import r2_score, mean_absolute_error"
   ]
  },
  {
   "cell_type": "code",
   "execution_count": 60,
   "metadata": {},
   "outputs": [
    {
     "data": {
      "text/plain": [
       "0.7817795450774266"
      ]
     },
     "execution_count": 60,
     "metadata": {},
     "output_type": "execute_result"
    }
   ],
   "source": [
    "lr = LinearRegression()\n",
    "lr.fit(X_train, y_train)\n",
    "r2_score(y_test, lr.predict(X_test))"
   ]
  },
  {
   "cell_type": "code",
   "execution_count": 61,
   "metadata": {},
   "outputs": [
    {
     "data": {
      "text/plain": [
       "3.167870601061832"
      ]
     },
     "execution_count": 61,
     "metadata": {},
     "output_type": "execute_result"
    }
   ],
   "source": [
    "mean_absolute_error(y_test, lr.predict(X_test))"
   ]
  },
  {
   "cell_type": "code",
   "execution_count": 56,
   "metadata": {},
   "outputs": [],
   "source": [
    "y_pred = [x[0] for x in mlp_model_2.predict(X_test)]"
   ]
  },
  {
   "cell_type": "code",
   "execution_count": 58,
   "metadata": {},
   "outputs": [
    {
     "data": {
      "text/plain": [
       "-6.39130278492761"
      ]
     },
     "execution_count": 58,
     "metadata": {},
     "output_type": "execute_result"
    }
   ],
   "source": [
    "r2_score(y_test, y_pred)"
   ]
  },
  {
   "cell_type": "code",
   "execution_count": 62,
   "metadata": {},
   "outputs": [
    {
     "data": {
      "text/plain": [
       "23.06197515650488"
      ]
     },
     "execution_count": 62,
     "metadata": {},
     "output_type": "execute_result"
    }
   ],
   "source": [
    "mean_absolute_error(y_test, y_pred)"
   ]
  },
  {
   "cell_type": "markdown",
   "metadata": {
    "colab_type": "text",
    "id": "SfcFnOONyuNm"
   },
   "source": [
    "## Use the Keras Library to build an image recognition network using the Fashion-MNIST dataset (also comes with keras)\n",
    "\n",
    "- Load and preprocess the image data similar to how we preprocessed the MNIST data in class.\n",
    "- Make sure to one-hot encode your category labels\n",
    "- Make sure to have your final layer have as many nodes as the number of classes that you want to predict.\n",
    "- Try different hyperparameters. What is the highest accuracy that you are able to achieve.\n",
    "- Use the history object that is returned from model.fit to make graphs of the model's loss or train/validation accuracies by epoch. \n",
    "- Remember that neural networks fall prey to randomness so you may need to run your model multiple times (or use Cross Validation) in order to tell if a change to a hyperparameter is truly producing better results."
   ]
  },
  {
   "cell_type": "code",
   "execution_count": 82,
   "metadata": {
    "colab": {},
    "colab_type": "code",
    "id": "szi6-IpuzaH1"
   },
   "outputs": [
    {
     "name": "stdout",
     "output_type": "stream",
     "text": [
      "Downloading data from https://storage.googleapis.com/tensorflow/tf-keras-datasets/train-labels-idx1-ubyte.gz\n",
      "32768/29515 [=================================] - 0s 0us/step\n",
      "Downloading data from https://storage.googleapis.com/tensorflow/tf-keras-datasets/train-images-idx3-ubyte.gz\n",
      "26427392/26421880 [==============================] - 1s 0us/step\n",
      "Downloading data from https://storage.googleapis.com/tensorflow/tf-keras-datasets/t10k-labels-idx1-ubyte.gz\n",
      "8192/5148 [===============================================] - 0s 0us/step\n",
      "Downloading data from https://storage.googleapis.com/tensorflow/tf-keras-datasets/t10k-images-idx3-ubyte.gz\n",
      "4423680/4422102 [==============================] - 0s 0us/step\n"
     ]
    }
   ],
   "source": [
    "from tensorflow.keras.datasets import fashion_mnist as fm\n",
    "(X_train, y_train), (X_test, y_test) = fm.load_data()"
   ]
  },
  {
   "cell_type": "code",
   "execution_count": 91,
   "metadata": {},
   "outputs": [],
   "source": [
    "# Hyper Parameters\n",
    "batch_size = 64\n",
    "num_classes = 10\n",
    "epochs = 10"
   ]
  },
  {
   "cell_type": "code",
   "execution_count": 87,
   "metadata": {},
   "outputs": [],
   "source": [
    "X_train = X_train.reshape(60000, 784)\n",
    "X_test = X_test.reshape(10000, 784)\n",
    "\n",
    "X_train = X_train.astype('float32')\n",
    "X_test = X_test.astype('float32')"
   ]
  },
  {
   "cell_type": "code",
   "execution_count": 92,
   "metadata": {},
   "outputs": [],
   "source": [
    "y_train = keras.utils.to_categorical(y_train, num_classes)\n",
    "y_test = keras.utils.to_categorical(y_test, num_classes)"
   ]
  },
  {
   "cell_type": "code",
   "execution_count": null,
   "metadata": {},
   "outputs": [],
   "source": [
    "model_m_0 = Sequential()\n",
    "\n",
    "# Input => Hidden\n",
    "model_m_0.add(Dense(64, input_dim=784, activation='relu'))\n",
    "# Hidden\n",
    "model_m_0.add(Dense(32, activation='relu'))\n",
    "# Hidden\n",
    "model_m_0.add(Dense(16, activation='relu'))\n",
    "# Output\n",
    "model_m_0.add(Dense(10,activation='softmax'))\n",
    "\n",
    "#Compile\n",
    "model_m_0.compile(loss='categorical_crossentropy',\n",
    "                    optimizer='adam',\n",
    "                    metrics=['accuracy'])"
   ]
  },
  {
   "cell_type": "code",
   "execution_count": 101,
   "metadata": {
    "scrolled": true
   },
   "outputs": [
    {
     "name": "stdout",
     "output_type": "stream",
     "text": [
      "Epoch 1/20\n",
      "60000/60000 [==============================] - 16s 269us/sample - loss: 0.5429 - acc: 0.7720\n",
      "Epoch 2/20\n",
      "60000/60000 [==============================] - 25s 418us/sample - loss: 0.5459 - acc: 0.7710 - lo - ETA: 2s - loss: 0.5450 - acc:  - ETA: 2s - loss: 0.5449 - ETA: 2s - loss: 0.5448 - acc\n",
      "Epoch 3/20\n",
      "60000/60000 [==============================] - 31s 511us/sample - loss: 0.5489 - acc: 0.7728\n",
      "Epoch 4/20\n",
      "60000/60000 [==============================] - 45s 747us/sample - loss: 0.5474 - acc: 0.7714\n",
      "Epoch 5/20\n",
      "60000/60000 [==============================] - 33s 552us/sample - loss: 0.5433 - acc: 0.7735\n",
      "Epoch 6/20\n",
      "60000/60000 [==============================] - 28s 461us/sample - loss: 0.5448 - acc: 0.7758\n",
      "Epoch 7/20\n",
      "60000/60000 [==============================] - 28s 461us/sample - loss: 0.5404 - acc: 0.7771\n",
      "Epoch 8/20\n",
      "60000/60000 [==============================] - 29s 485us/sample - loss: 0.5460 - acc: 0.7769\n",
      "Epoch 9/20\n",
      "60000/60000 [==============================] - 27s 444us/sample - loss: 0.5468 - acc: 0.7738\n",
      "Epoch 10/20\n",
      "60000/60000 [==============================] - 28s 468us/sample - loss: 0.5480 - acc: 0.7710\n",
      "Epoch 11/20\n",
      "60000/60000 [==============================] - 25s 420us/sample - loss: 0.5526 - acc: 0.7721\n",
      "Epoch 12/20\n",
      "60000/60000 [==============================] - 25s 418us/sample - loss: 0.5409 - acc: 0.7724\n",
      "Epoch 13/20\n",
      "60000/60000 [==============================] - 25s 424us/sample - loss: 0.5403 - acc: 0.7738\n",
      "Epoch 14/20\n",
      "60000/60000 [==============================] - 31s 511us/sample - loss: 0.5399 - acc: 0.7749\n",
      "Epoch 15/20\n",
      "60000/60000 [==============================] - 30s 504us/sample - loss: 0.5372 - acc: 0.7779\n",
      "Epoch 16/20\n",
      "60000/60000 [==============================] - 34s 567us/sample - loss: 0.5410 - acc: 0.7746\n",
      "Epoch 17/20\n",
      "60000/60000 [==============================] - 31s 521us/sample - loss: 0.5480 - acc: 0.7686\n",
      "Epoch 18/20\n",
      "60000/60000 [==============================] - 32s 530us/sample - loss: 0.5384 - acc: 0.7755\n",
      "Epoch 19/20\n",
      "60000/60000 [==============================] - 27s 453us/sample - loss: 0.5482 - acc: 0.7721\n",
      "Epoch 20/20\n",
      "60000/60000 [==============================] - 33s 555us/sample - loss: 0.5447 - acc: 0.7748\n",
      "10000/10000 [==============================] - 2s 241us/sample - loss: 0.6283 - acc: 0.7492\n",
      "acc: 74.91999864578247\n"
     ]
    }
   ],
   "source": [
    "history = model_m_0.fit(X_train, y_train, batch_size=16, epochs=epochs, verbose=True)\n",
    "scores = model_m_0.evaluate(X_test, y_test)\n",
    "print(f'{model_m_0.metrics_names[1]}: {scores[1]*100}')"
   ]
  },
  {
   "cell_type": "markdown",
   "metadata": {
    "colab_type": "text",
    "id": "zv_3xNMjzdLI"
   },
   "source": [
    "## Stretch Goals:\n",
    "\n",
    "- Use Hyperparameter Tuning to make the accuracy of your models as high as possible. (error as low as possible)\n",
    "- Use Cross Validation techniques to get more consistent results with your model.\n",
    "- Use GridSearchCV to try different combinations of hyperparameters. \n",
    "- Start looking into other types of Keras layers for CNNs and RNNs maybe try and build a CNN model for fashion-MNIST to see how the results compare."
   ]
  }
 ],
 "metadata": {
  "colab": {
   "name": "LS_DS_433_Keras_Assignment.ipynb",
   "provenance": [],
   "version": "0.3.2"
  },
  "kernelspec": {
   "display_name": "Python 3",
   "language": "python",
   "name": "python3"
  },
  "language_info": {
   "codemirror_mode": {
    "name": "ipython",
    "version": 3
   },
   "file_extension": ".py",
   "mimetype": "text/x-python",
   "name": "python",
   "nbconvert_exporter": "python",
   "pygments_lexer": "ipython3",
   "version": "3.7.6"
  }
 },
 "nbformat": 4,
 "nbformat_minor": 4
}
