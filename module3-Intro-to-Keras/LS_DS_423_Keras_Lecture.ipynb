{
 "cells": [
  {
   "cell_type": "markdown",
   "metadata": {
    "colab_type": "text",
    "id": "HJzTIkYAsLxw"
   },
   "source": [
    "Lambda School Data Science\n",
    "\n",
    "*Unit 4, Sprint 2, Module 3*\n",
    "\n",
    "---"
   ]
  },
  {
   "cell_type": "markdown",
   "metadata": {
    "colab_type": "text",
    "id": "HJzTIkYAsLxw"
   },
   "source": [
    "# Neural Network Frameworks (Prepare)"
   ]
  },
  {
   "cell_type": "markdown",
   "metadata": {
    "colab_type": "text",
    "id": "HJzTIkYAsLxw"
   },
   "source": [
    "## Learning Objectives\n",
    "* <a href=\"#p1\">Part 1</a>: Introduce the Keras Sequential Model API\n",
    "* <a href=\"#p2\">Part 2</a>: Learn How to Select Model Architecture \n",
    "* <a href=\"#p3\">Part 3</a>: Discuss the trade-off between various activation functions\n",
    "\n",
    "## Lets Use Libraries!\n",
    "\n",
    "The objective of the last two days has been to familiarize you with the fundamentals of neural networks: terminology, structure of networks, forward propagation, error/cost functions, backpropagation, epochs, and gradient descent. We have tried to reinforce these topics by requiring to you code some of the simplest neural networks by hand including Perceptrons (single node neural networks) and Multi-Layer Perceptrons also known as Feed-Forward Neural Networks. Continuing to do things by hand would not be the best use of our limited time. You're ready to graduate from doing things by hand and start using some powerful libraries to build cutting-edge predictive models. "
   ]
  },
  {
   "cell_type": "markdown",
   "metadata": {},
   "source": [
    "# Keras Sequential API (Learn)"
   ]
  },
  {
   "cell_type": "markdown",
   "metadata": {
    "toc-hr-collapsed": true
   },
   "source": [
    "## Overview\n",
    "\n",
    "> \"Keras is a high-level neural networks API, written in Python and capable of running on top of TensorFlow, CNTK, or Theano. It was developed with a focus on enabling fast experimentation. Being able to go from idea to result with the least possible delay is key to doing good research. Use Keras if you need a deep learning library that:\n",
    "\n",
    "> Allows for easy and fast prototyping (through user friendliness, modularity, and extensibility).\n",
    "Supports both convolutional networks and recurrent networks, as well as combinations of the two.\n",
    "Runs seamlessly on CPU and GPU.\" "
   ]
  },
  {
   "cell_type": "markdown",
   "metadata": {
    "colab_type": "text",
    "id": "AIJoRBxHy27n"
   },
   "source": [
    "### Keras Perceptron Sample"
   ]
  },
  {
   "cell_type": "code",
   "execution_count": 1,
   "metadata": {},
   "outputs": [],
   "source": [
    "import pandas as pd\n",
    "\n",
    "data = { 'x1': [0,1,0,1],\n",
    "         'x2': [0,0,1,1],\n",
    "         'y':  [1,1,1,0]\n",
    "       }\n",
    "\n",
    "df = pd.DataFrame.from_dict(data).astype('int')\n",
    "X = df[['x1', 'x2']].values\n",
    "y = df['y'].values"
   ]
  },
  {
   "cell_type": "code",
   "execution_count": 2,
   "metadata": {
    "colab": {
     "base_uri": "https://localhost:8080/",
     "height": 5216
    },
    "colab_type": "code",
    "id": "TQxyONqKvFxB",
    "outputId": "12966e66-2297-4f82-85b3-c275a9c38563"
   },
   "outputs": [
    {
     "name": "stderr",
     "output_type": "stream",
     "text": [
      "WARNING: Logging before flag parsing goes to stderr.\n",
      "W0122 11:41:44.272384 14124 deprecation.py:506] From c:\\users\\dylan nason\\anaconda3\\envs\\u4-s2-nn\\lib\\site-packages\\tensorflow\\python\\ops\\init_ops.py:1251: calling VarianceScaling.__init__ (from tensorflow.python.ops.init_ops) with dtype is deprecated and will be removed in a future version.\n",
      "Instructions for updating:\n",
      "Call initializer instance with the dtype argument instead of passing it to the constructor\n",
      "W0122 11:41:44.881386 14124 deprecation.py:323] From c:\\users\\dylan nason\\anaconda3\\envs\\u4-s2-nn\\lib\\site-packages\\tensorflow\\python\\ops\\nn_impl.py:180: add_dispatch_support.<locals>.wrapper (from tensorflow.python.ops.array_ops) is deprecated and will be removed in a future version.\n",
      "Instructions for updating:\n",
      "Use tf.where in 2.0, which has the same broadcast rule as np.where\n"
     ]
    },
    {
     "name": "stdout",
     "output_type": "stream",
     "text": [
      "Epoch 1/5\n",
      "4/4 [==============================] - 1s 336ms/sample - loss: 0.7209 - acc: 0.5000\n",
      "Epoch 2/5\n",
      "4/4 [==============================] - 0s 500us/sample - loss: 0.7204 - acc: 0.7500\n",
      "Epoch 3/5\n",
      "4/4 [==============================] - 0s 249us/sample - loss: 0.7200 - acc: 0.7500\n",
      "Epoch 4/5\n",
      "4/4 [==============================] - 0s 500us/sample - loss: 0.7196 - acc: 0.7500\n",
      "Epoch 5/5\n",
      "4/4 [==============================] - 0s 501us/sample - loss: 0.7191 - acc: 0.7500\n"
     ]
    },
    {
     "data": {
      "text/plain": [
       "<tensorflow.python.keras.callbacks.History at 0x1d3b2774f08>"
      ]
     },
     "execution_count": 2,
     "metadata": {},
     "output_type": "execute_result"
    }
   ],
   "source": [
    "from tensorflow.keras.models import Sequential\n",
    "from tensorflow.keras.layers import Dense\n",
    "\n",
    "# This is our perceptron from Monday's by-hand: \n",
    "model = Sequential()\n",
    "model.add(Dense(1,input_dim=2, activation='sigmoid'))\n",
    "model.compile(loss='binary_crossentropy', optimizer='adam', metrics=['accuracy'])\n",
    "model.fit(X,y, epochs=5)"
   ]
  },
  {
   "cell_type": "code",
   "execution_count": 3,
   "metadata": {
    "colab": {
     "base_uri": "https://localhost:8080/",
     "height": 69
    },
    "colab_type": "code",
    "id": "Z1wfKUxszPKa",
    "outputId": "0cdacd1d-6e5a-4bbe-fabb-568cd94724be"
   },
   "outputs": [
    {
     "name": "stdout",
     "output_type": "stream",
     "text": [
      "4/4 [==============================] - 0s 20ms/sample - loss: 0.7187 - acc: 0.7500\n",
      "acc: 75.0\n"
     ]
    }
   ],
   "source": [
    "# evaluate the model\n",
    "scores = model.evaluate(X, y)\n",
    "print(f\"{model.metrics_names[1]}: {scores[1]*100}\")"
   ]
  },
  {
   "cell_type": "markdown",
   "metadata": {
    "toc-hr-collapsed": true
   },
   "source": [
    "## Follow Along\n",
    "\n",
    "In the `Sequential` api model, you specify a model architecture by 'sequentially specifying layers. This type of specification works well for feed forward neural networks in which the data flows in one direction (forward propagation) and the error flows in the opposite direction (backwards propagation). The Keras `Sequential` API follows a standardarized worklow to estimate a 'net: \n",
    "\n",
    "1. Load Data\n",
    "2. Define Model\n",
    "3. Compile Model\n",
    "4. Fit Model\n",
    "5. Evaluate Model\n",
    "\n",
    "You saw these steps in our Keras Perceptron Sample, but let's walk thru each step in detail."
   ]
  },
  {
   "cell_type": "markdown",
   "metadata": {
    "colab_type": "text",
    "id": "Md5D67XwqVAf",
    "toc-hr-collapsed": false
   },
   "source": [
    "### Load Data\n",
    "\n",
    "Our life is going to be easier if our data is already cleaned up and numeric, so lets use this dataset from Jason Brownlee that is already numeric and has no column headers so we'll need to slice off the last column of data to act as our y values."
   ]
  },
  {
   "cell_type": "code",
   "execution_count": 4,
   "metadata": {
    "colab": {
     "base_uri": "https://localhost:8080/",
     "height": 109,
     "resources": {
      "http://localhost:8080/nbextensions/google.colab/files.js": {
       "data": "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",
       "headers": [
        [
         "content-type",
         "application/javascript"
        ]
       ],
       "ok": true,
       "status": 200,
       "status_text": ""
      }
     }
    },
    "colab_type": "code",
    "id": "bn09phMBpY1J",
    "outputId": "1c45fb6a-e3cb-4ec1-fb85-de52b3c60bae"
   },
   "outputs": [],
   "source": [
    "import pandas as pd\n",
    "\n",
    "url =\"https://raw.githubusercontent.com/jbrownlee/Datasets/master/pima-indians-diabetes.data.csv\"\n",
    "\n",
    "dataset = pd.read_csv(url, header=None)"
   ]
  },
  {
   "cell_type": "code",
   "execution_count": 5,
   "metadata": {},
   "outputs": [
    {
     "data": {
      "text/html": [
       "<div>\n",
       "<style scoped>\n",
       "    .dataframe tbody tr th:only-of-type {\n",
       "        vertical-align: middle;\n",
       "    }\n",
       "\n",
       "    .dataframe tbody tr th {\n",
       "        vertical-align: top;\n",
       "    }\n",
       "\n",
       "    .dataframe thead th {\n",
       "        text-align: right;\n",
       "    }\n",
       "</style>\n",
       "<table border=\"1\" class=\"dataframe\">\n",
       "  <thead>\n",
       "    <tr style=\"text-align: right;\">\n",
       "      <th></th>\n",
       "      <th>0</th>\n",
       "      <th>1</th>\n",
       "      <th>2</th>\n",
       "      <th>3</th>\n",
       "      <th>4</th>\n",
       "      <th>5</th>\n",
       "      <th>6</th>\n",
       "      <th>7</th>\n",
       "      <th>8</th>\n",
       "    </tr>\n",
       "  </thead>\n",
       "  <tbody>\n",
       "    <tr>\n",
       "      <th>0</th>\n",
       "      <td>6</td>\n",
       "      <td>148</td>\n",
       "      <td>72</td>\n",
       "      <td>35</td>\n",
       "      <td>0</td>\n",
       "      <td>33.6</td>\n",
       "      <td>0.627</td>\n",
       "      <td>50</td>\n",
       "      <td>1</td>\n",
       "    </tr>\n",
       "    <tr>\n",
       "      <th>1</th>\n",
       "      <td>1</td>\n",
       "      <td>85</td>\n",
       "      <td>66</td>\n",
       "      <td>29</td>\n",
       "      <td>0</td>\n",
       "      <td>26.6</td>\n",
       "      <td>0.351</td>\n",
       "      <td>31</td>\n",
       "      <td>0</td>\n",
       "    </tr>\n",
       "    <tr>\n",
       "      <th>2</th>\n",
       "      <td>8</td>\n",
       "      <td>183</td>\n",
       "      <td>64</td>\n",
       "      <td>0</td>\n",
       "      <td>0</td>\n",
       "      <td>23.3</td>\n",
       "      <td>0.672</td>\n",
       "      <td>32</td>\n",
       "      <td>1</td>\n",
       "    </tr>\n",
       "    <tr>\n",
       "      <th>3</th>\n",
       "      <td>1</td>\n",
       "      <td>89</td>\n",
       "      <td>66</td>\n",
       "      <td>23</td>\n",
       "      <td>94</td>\n",
       "      <td>28.1</td>\n",
       "      <td>0.167</td>\n",
       "      <td>21</td>\n",
       "      <td>0</td>\n",
       "    </tr>\n",
       "    <tr>\n",
       "      <th>4</th>\n",
       "      <td>0</td>\n",
       "      <td>137</td>\n",
       "      <td>40</td>\n",
       "      <td>35</td>\n",
       "      <td>168</td>\n",
       "      <td>43.1</td>\n",
       "      <td>2.288</td>\n",
       "      <td>33</td>\n",
       "      <td>1</td>\n",
       "    </tr>\n",
       "  </tbody>\n",
       "</table>\n",
       "</div>"
      ],
      "text/plain": [
       "   0    1   2   3    4     5      6   7  8\n",
       "0  6  148  72  35    0  33.6  0.627  50  1\n",
       "1  1   85  66  29    0  26.6  0.351  31  0\n",
       "2  8  183  64   0    0  23.3  0.672  32  1\n",
       "3  1   89  66  23   94  28.1  0.167  21  0\n",
       "4  0  137  40  35  168  43.1  2.288  33  1"
      ]
     },
     "execution_count": 5,
     "metadata": {},
     "output_type": "execute_result"
    }
   ],
   "source": [
    "dataset.head()"
   ]
  },
  {
   "cell_type": "code",
   "execution_count": 6,
   "metadata": {
    "colab": {
     "base_uri": "https://localhost:8080/",
     "height": 725
    },
    "colab_type": "code",
    "id": "FKuofD3Pogil",
    "outputId": "16c2f4fa-93c8-491d-b339-9f35f7918621"
   },
   "outputs": [
    {
     "name": "stdout",
     "output_type": "stream",
     "text": [
      "(768, 8)\n",
      "[[  6.    148.     72.    ...  33.6     0.627  50.   ]\n",
      " [  1.     85.     66.    ...  26.6     0.351  31.   ]\n",
      " [  8.    183.     64.    ...  23.3     0.672  32.   ]\n",
      " ...\n",
      " [  5.    121.     72.    ...  26.2     0.245  30.   ]\n",
      " [  1.    126.     60.    ...  30.1     0.349  47.   ]\n",
      " [  1.     93.     70.    ...  30.4     0.315  23.   ]]\n"
     ]
    }
   ],
   "source": [
    "X = dataset.values[:,0:8]\n",
    "print(X.shape)\n",
    "print(X)"
   ]
  },
  {
   "cell_type": "code",
   "execution_count": 7,
   "metadata": {},
   "outputs": [
    {
     "name": "stdout",
     "output_type": "stream",
     "text": [
      "(768,)\n",
      "[1. 0. 1. 0. 1. 0. 1. 0. 1. 1. 0. 1. 0. 1. 1. 1. 1. 1. 0. 1. 0. 0. 1. 1.\n",
      " 1. 1. 1. 0. 0. 0. 0. 1. 0. 0. 0. 0. 0. 1. 1. 1. 0. 0. 0. 1. 0. 1. 0. 0.\n",
      " 1. 0. 0. 0. 0. 1. 0. 0. 1. 0. 0. 0. 0. 1. 0. 0. 1. 0. 1. 0. 0. 0. 1. 0.\n",
      " 1. 0. 0. 0. 0. 0. 1. 0. 0. 0. 0. 0. 1. 0. 0. 0. 1. 0. 0. 0. 0. 1. 0. 0.\n",
      " 0. 0. 0. 1. 1. 0. 0. 0. 0. 0. 0. 0. 0. 1. 1. 1. 0. 0. 1. 1. 1. 0. 0. 0.\n",
      " 1. 0. 0. 0. 1. 1. 0. 0. 1. 1. 1. 1. 1. 0. 0. 0. 0. 0. 0. 0. 0. 0. 0. 1.\n",
      " 0. 0. 0. 0. 0. 0. 0. 0. 1. 0. 1. 1. 0. 0. 0. 1. 0. 0. 0. 0. 1. 1. 0. 0.\n",
      " 0. 0. 1. 1. 0. 0. 0. 1. 0. 1. 0. 1. 0. 0. 0. 0. 0. 1. 1. 1. 1. 1. 0. 0.\n",
      " 1. 1. 0. 1. 0. 1. 1. 1. 0. 0. 0. 0. 0. 0. 1. 1. 0. 1. 0. 0. 0. 1. 1. 1.\n",
      " 1. 0. 1. 1. 1. 1. 0. 0. 0. 0. 0. 1. 0. 0. 1. 1. 0. 0. 0. 1. 1. 1. 1. 0.\n",
      " 0. 0. 1. 1. 0. 1. 0. 0. 0. 0. 0. 0. 0. 0. 1. 1. 0. 0. 0. 1. 0. 1. 0. 0.\n",
      " 1. 0. 1. 0. 0. 1. 1. 0. 0. 0. 0. 0. 1. 0. 0. 0. 1. 0. 0. 1. 1. 0. 0. 1.\n",
      " 0. 0. 0. 1. 1. 1. 0. 0. 1. 0. 1. 0. 1. 1. 0. 1. 0. 0. 1. 0. 1. 1. 0. 0.\n",
      " 1. 0. 1. 0. 0. 1. 0. 1. 0. 1. 1. 1. 0. 0. 1. 0. 1. 0. 0. 0. 1. 0. 0. 0.\n",
      " 0. 1. 1. 1. 0. 0. 0. 0. 0. 0. 0. 0. 0. 1. 0. 0. 0. 0. 0. 1. 1. 1. 0. 1.\n",
      " 1. 0. 0. 1. 0. 0. 1. 0. 0. 1. 1. 0. 0. 0. 0. 1. 0. 0. 1. 0. 0. 0. 0. 0.\n",
      " 0. 0. 1. 1. 1. 0. 0. 1. 0. 0. 1. 0. 0. 1. 0. 1. 1. 0. 1. 0. 1. 0. 1. 0.\n",
      " 1. 1. 0. 0. 0. 0. 1. 1. 0. 1. 0. 1. 0. 0. 0. 0. 1. 1. 0. 1. 0. 1. 0. 0.\n",
      " 0. 0. 0. 1. 0. 0. 0. 0. 1. 0. 0. 1. 1. 1. 0. 0. 1. 0. 0. 1. 0. 0. 0. 1.\n",
      " 0. 0. 1. 0. 0. 0. 0. 0. 0. 0. 0. 0. 1. 0. 0. 0. 0. 0. 0. 0. 1. 0. 0. 0.\n",
      " 1. 0. 0. 0. 1. 1. 0. 0. 0. 0. 0. 0. 0. 1. 0. 0. 0. 0. 1. 0. 0. 0. 1. 0.\n",
      " 0. 0. 1. 0. 0. 0. 1. 0. 0. 0. 0. 1. 1. 0. 0. 0. 0. 0. 0. 1. 0. 0. 0. 0.\n",
      " 0. 0. 0. 0. 0. 0. 0. 1. 0. 0. 0. 1. 1. 1. 1. 0. 0. 1. 1. 0. 0. 0. 0. 0.\n",
      " 0. 0. 0. 0. 0. 0. 0. 0. 1. 1. 0. 0. 0. 0. 0. 0. 0. 1. 0. 0. 0. 0. 0. 0.\n",
      " 0. 1. 0. 1. 1. 0. 0. 0. 1. 0. 1. 0. 1. 0. 1. 0. 1. 0. 0. 1. 0. 0. 1. 0.\n",
      " 0. 0. 0. 1. 1. 0. 1. 0. 0. 0. 0. 1. 1. 0. 1. 0. 0. 0. 1. 1. 0. 0. 0. 0.\n",
      " 0. 0. 0. 0. 0. 0. 1. 0. 0. 0. 0. 1. 0. 0. 1. 0. 0. 0. 1. 0. 0. 0. 1. 1.\n",
      " 1. 0. 0. 0. 0. 0. 0. 1. 0. 0. 0. 1. 0. 1. 1. 1. 1. 0. 1. 1. 0. 0. 0. 0.\n",
      " 0. 0. 0. 1. 1. 0. 1. 0. 0. 1. 0. 1. 0. 0. 0. 0. 0. 1. 0. 1. 0. 1. 0. 1.\n",
      " 1. 0. 0. 0. 0. 1. 1. 0. 0. 0. 1. 0. 1. 1. 0. 0. 1. 0. 0. 1. 1. 0. 0. 1.\n",
      " 0. 0. 1. 0. 0. 0. 0. 0. 0. 0. 1. 1. 1. 0. 0. 0. 0. 0. 0. 1. 1. 0. 0. 1.\n",
      " 0. 0. 1. 0. 1. 1. 1. 0. 0. 1. 1. 1. 0. 1. 0. 1. 0. 1. 0. 0. 0. 0. 1. 0.]\n"
     ]
    }
   ],
   "source": [
    "y = dataset.values[:,-1]\n",
    "print(y.shape)\n",
    "print(y)"
   ]
  },
  {
   "cell_type": "markdown",
   "metadata": {
    "colab_type": "text",
    "id": "o0xMqOyTs5xt"
   },
   "source": [
    "### Define Model"
   ]
  },
  {
   "cell_type": "code",
   "execution_count": 8,
   "metadata": {
    "colab": {},
    "colab_type": "code",
    "id": "Bp9USczrfu6M"
   },
   "outputs": [],
   "source": [
    "from tensorflow.keras.models import Sequential\n",
    "from tensorflow.keras.layers import Dense\n",
    "\n",
    "import numpy as np\n",
    "\n",
    "np.random.seed(812)"
   ]
  },
  {
   "cell_type": "markdown",
   "metadata": {
    "colab_type": "text",
    "id": "wAzHLg27thoN"
   },
   "source": [
    "I'll instantiate my model as a \"sequential\" model. This just means that I'm going to tell Keras what my model's architecture should be one layer at a time."
   ]
  },
  {
   "cell_type": "code",
   "execution_count": 9,
   "metadata": {
    "colab": {},
    "colab_type": "code",
    "id": "DSNsL49Xp6KI"
   },
   "outputs": [],
   "source": [
    "# https://keras.io/getting-started/sequential-model-guide/\n",
    "model = Sequential()"
   ]
  },
  {
   "cell_type": "markdown",
   "metadata": {
    "colab_type": "text",
    "id": "ZCYX6QzJtvpG"
   },
   "source": [
    "Adding a \"Dense\" layer to our model is how we add \"vanilla\" perceptron-based layers to our neural network. These are also called \"fully-connected\" or \"densely-connected\" layers. They're used as a layer type in lots of other Neural Net Architectures but they're not referred to as perceptrons or multi-layer perceptrons very often in those situations even though that's what they are.\n",
    "\n",
    " > [\"Just your regular densely-connected NN layer.\"](https://keras.io/layers/core/)\n",
    " \n",
    " The first argument is how many neurons we want to have in that layer. To create a perceptron model we will just set it to 1. We will tell it that there will be 8 inputs coming into this layer from our dataset and set it to use the sigmoid activation function."
   ]
  },
  {
   "cell_type": "code",
   "execution_count": 10,
   "metadata": {
    "colab": {
     "base_uri": "https://localhost:8080/",
     "height": 89
    },
    "colab_type": "code",
    "id": "GNzOLidxtvFa",
    "outputId": "35b1457d-0189-49f1-aa6d-3ef15b29bd6e"
   },
   "outputs": [],
   "source": [
    "model.add(Dense(1, input_dim=8, activation=\"sigmoid\")) #Relu is valid option. "
   ]
  },
  {
   "cell_type": "markdown",
   "metadata": {
    "colab_type": "text",
    "id": "EnI3jwKMtBL2",
    "toc-hr-collapsed": false
   },
   "source": [
    "### Compile Model\n",
    "Using binary_crossentropy as the loss function here is just telling keras that I'm doing binary classification so that it can use the appropriate loss function accordingly. If we were predicting non-binary categories we might assign something like `categorical_crossentropy`. We're also telling keras that we want it to report model accuracy as our main error metric for each epoch. We will also be able to see the overall accuracy once the model has finished training.\n",
    "\n",
    "#### Adam Optimizer\n",
    "Check out this links for more background on the Adam optimizer and Stohastic Gradient Descent\n",
    "* [Adam Optimization Algorithm](https://machinelearningmastery.com/adam-optimization-algorithm-for-deep-learning/)\n",
    "* [Adam Optimizer - original paper](https://arxiv.org/abs/1412.6980)"
   ]
  },
  {
   "cell_type": "code",
   "execution_count": 11,
   "metadata": {
    "colab": {},
    "colab_type": "code",
    "id": "qp6xwYaqurRO"
   },
   "outputs": [],
   "source": [
    "model.compile(loss='binary_crossentropy', optimizer='adam', metrics=['accuracy'])"
   ]
  },
  {
   "cell_type": "markdown",
   "metadata": {
    "colab_type": "text",
    "id": "5dW8SZ2Ls9SX",
    "toc-hr-collapsed": false
   },
   "source": [
    "### Fit Model\n",
    "\n",
    "Lets train it up! `model.fit()` has a `batch_size` parameter that we can use if we want to do mini-batch epochs, but since this tabular dataset is pretty small we're just going to delete that parameter. Keras' default `batch_size` is `None` so omiting it will tell Keras to do batch epochs."
   ]
  },
  {
   "cell_type": "code",
   "execution_count": 12,
   "metadata": {
    "scrolled": true
   },
   "outputs": [
    {
     "name": "stdout",
     "output_type": "stream",
     "text": [
      "Epoch 1/150\n",
      "768/768 [==============================] - 0s 392us/sample - loss: 50.3523 - acc: 0.3516\n",
      "Epoch 2/150\n",
      "768/768 [==============================] - 0s 64us/sample - loss: 45.4061 - acc: 0.3516\n",
      "Epoch 3/150\n",
      "768/768 [==============================] - 0s 64us/sample - loss: 40.6271 - acc: 0.3555\n",
      "Epoch 4/150\n",
      "768/768 [==============================] - 0s 68us/sample - loss: 36.2625 - acc: 0.3542\n",
      "Epoch 5/150\n",
      "768/768 [==============================] - 0s 69us/sample - loss: 32.1520 - acc: 0.3581\n",
      "Epoch 6/150\n",
      "768/768 [==============================] - 0s 68us/sample - loss: 28.4535 - acc: 0.3620\n",
      "Epoch 7/150\n",
      "768/768 [==============================] - 0s 68us/sample - loss: 25.2380 - acc: 0.3880\n",
      "Epoch 8/150\n",
      "768/768 [==============================] - 0s 76us/sample - loss: 22.6486 - acc: 0.3997\n",
      "Epoch 9/150\n",
      "768/768 [==============================] - 0s 61us/sample - loss: 20.5338 - acc: 0.4128\n",
      "Epoch 10/150\n",
      "768/768 [==============================] - 0s 108us/sample - loss: 18.7262 - acc: 0.4388\n",
      "Epoch 11/150\n",
      "768/768 [==============================] - 0s 60us/sample - loss: 17.1538 - acc: 0.4557\n",
      "Epoch 12/150\n",
      "768/768 [==============================] - 0s 83us/sample - loss: 15.8213 - acc: 0.4753\n",
      "Epoch 13/150\n",
      "768/768 [==============================] - 0s 68us/sample - loss: 14.5635 - acc: 0.4818\n",
      "Epoch 14/150\n",
      "768/768 [==============================] - 0s 68us/sample - loss: 13.4622 - acc: 0.5000\n",
      "Epoch 15/150\n",
      "768/768 [==============================] - 0s 72us/sample - loss: 12.3650 - acc: 0.5156\n",
      "Epoch 16/150\n",
      "768/768 [==============================] - 0s 76us/sample - loss: 11.3551 - acc: 0.5391\n",
      "Epoch 17/150\n",
      "768/768 [==============================] - 0s 90us/sample - loss: 10.4317 - acc: 0.5495\n",
      "Epoch 18/150\n",
      "768/768 [==============================] - 0s 66us/sample - loss: 9.5936 - acc: 0.5677\n",
      "Epoch 19/150\n",
      "768/768 [==============================] - 0s 68us/sample - loss: 8.8174 - acc: 0.5859\n",
      "Epoch 20/150\n",
      "768/768 [==============================] - 0s 66us/sample - loss: 8.1462 - acc: 0.5990\n",
      "Epoch 21/150\n",
      "768/768 [==============================] - 0s 65us/sample - loss: 7.5528 - acc: 0.6068\n",
      "Epoch 22/150\n",
      "768/768 [==============================] - 0s 63us/sample - loss: 7.0132 - acc: 0.6133\n",
      "Epoch 23/150\n",
      "768/768 [==============================] - 0s 64us/sample - loss: 6.5286 - acc: 0.6211\n",
      "Epoch 24/150\n",
      "768/768 [==============================] - 0s 86us/sample - loss: 6.1084 - acc: 0.6198\n",
      "Epoch 25/150\n",
      "768/768 [==============================] - 0s 69us/sample - loss: 5.7540 - acc: 0.6367\n",
      "Epoch 26/150\n",
      "768/768 [==============================] - 0s 69us/sample - loss: 5.4807 - acc: 0.6458\n",
      "Epoch 27/150\n",
      "768/768 [==============================] - 0s 68us/sample - loss: 5.2645 - acc: 0.6523\n",
      "Epoch 28/150\n",
      "768/768 [==============================] - 0s 57us/sample - loss: 5.1059 - acc: 0.6589\n",
      "Epoch 29/150\n",
      "768/768 [==============================] - 0s 70us/sample - loss: 4.9701 - acc: 0.6562\n",
      "Epoch 30/150\n",
      "768/768 [==============================] - 0s 69us/sample - loss: 4.8660 - acc: 0.6562\n",
      "Epoch 31/150\n",
      "768/768 [==============================] - 0s 64us/sample - loss: 4.7826 - acc: 0.6628\n",
      "Epoch 32/150\n",
      "768/768 [==============================] - 0s 118us/sample - loss: 4.7161 - acc: 0.6693\n",
      "Epoch 33/150\n",
      "768/768 [==============================] - 0s 56us/sample - loss: 4.6558 - acc: 0.6706\n",
      "Epoch 34/150\n",
      "768/768 [==============================] - 0s 78us/sample - loss: 4.6010 - acc: 0.6680\n",
      "Epoch 35/150\n",
      "768/768 [==============================] - 0s 64us/sample - loss: 4.5539 - acc: 0.6654\n",
      "Epoch 36/150\n",
      "768/768 [==============================] - 0s 59us/sample - loss: 4.5117 - acc: 0.6693\n",
      "Epoch 37/150\n",
      "768/768 [==============================] - 0s 62us/sample - loss: 4.4681 - acc: 0.6680\n",
      "Epoch 38/150\n",
      "768/768 [==============================] - 0s 69us/sample - loss: 4.4323 - acc: 0.6719\n",
      "Epoch 39/150\n",
      "768/768 [==============================] - 0s 65us/sample - loss: 4.3995 - acc: 0.6732\n",
      "Epoch 40/150\n",
      "768/768 [==============================] - 0s 60us/sample - loss: 4.3563 - acc: 0.6745\n",
      "Epoch 41/150\n",
      "768/768 [==============================] - 0s 62us/sample - loss: 4.3218 - acc: 0.6745\n",
      "Epoch 42/150\n",
      "768/768 [==============================] - 0s 55us/sample - loss: 4.2887 - acc: 0.6745\n",
      "Epoch 43/150\n",
      "768/768 [==============================] - 0s 68us/sample - loss: 4.2540 - acc: 0.6758\n",
      "Epoch 44/150\n",
      "768/768 [==============================] - 0s 65us/sample - loss: 4.2322 - acc: 0.6758\n",
      "Epoch 45/150\n",
      "768/768 [==============================] - 0s 65us/sample - loss: 4.1844 - acc: 0.6758\n",
      "Epoch 46/150\n",
      "768/768 [==============================] - 0s 59us/sample - loss: 4.1537 - acc: 0.6784\n",
      "Epoch 47/150\n",
      "768/768 [==============================] - 0s 57us/sample - loss: 4.1171 - acc: 0.6797\n",
      "Epoch 48/150\n",
      "768/768 [==============================] - 0s 65us/sample - loss: 4.0862 - acc: 0.6784\n",
      "Epoch 49/150\n",
      "768/768 [==============================] - 0s 62us/sample - loss: 4.0478 - acc: 0.6797\n",
      "Epoch 50/150\n",
      "768/768 [==============================] - 0s 61us/sample - loss: 4.0140 - acc: 0.6771\n",
      "Epoch 51/150\n",
      "768/768 [==============================] - 0s 64us/sample - loss: 3.9799 - acc: 0.6758\n",
      "Epoch 52/150\n",
      "768/768 [==============================] - 0s 66us/sample - loss: 3.9442 - acc: 0.6771\n",
      "Epoch 53/150\n",
      "768/768 [==============================] - 0s 64us/sample - loss: 3.9192 - acc: 0.6771\n",
      "Epoch 54/150\n",
      "768/768 [==============================] - 0s 65us/sample - loss: 3.8845 - acc: 0.6784\n",
      "Epoch 55/150\n",
      "768/768 [==============================] - 0s 56us/sample - loss: 3.8564 - acc: 0.6732\n",
      "Epoch 56/150\n",
      "768/768 [==============================] - 0s 61us/sample - loss: 3.8265 - acc: 0.6797\n",
      "Epoch 57/150\n",
      "768/768 [==============================] - 0s 60us/sample - loss: 3.7739 - acc: 0.6771\n",
      "Epoch 58/150\n",
      "768/768 [==============================] - 0s 65us/sample - loss: 3.7467 - acc: 0.6810\n",
      "Epoch 59/150\n",
      "768/768 [==============================] - 0s 61us/sample - loss: 3.7169 - acc: 0.6810\n",
      "Epoch 60/150\n",
      "768/768 [==============================] - 0s 61us/sample - loss: 3.6789 - acc: 0.6810\n",
      "Epoch 61/150\n",
      "768/768 [==============================] - 0s 60us/sample - loss: 3.6370 - acc: 0.6849\n",
      "Epoch 62/150\n",
      "768/768 [==============================] - 0s 57us/sample - loss: 3.6089 - acc: 0.6823\n",
      "Epoch 63/150\n",
      "768/768 [==============================] - 0s 61us/sample - loss: 3.5762 - acc: 0.6836\n",
      "Epoch 64/150\n",
      "768/768 [==============================] - 0s 64us/sample - loss: 3.5394 - acc: 0.6875\n",
      "Epoch 65/150\n",
      "768/768 [==============================] - 0s 79us/sample - loss: 3.5142 - acc: 0.6797\n",
      "Epoch 66/150\n",
      "768/768 [==============================] - 0s 70us/sample - loss: 3.4699 - acc: 0.6849\n",
      "Epoch 67/150\n",
      "768/768 [==============================] - 0s 62us/sample - loss: 3.4466 - acc: 0.6862\n",
      "Epoch 68/150\n",
      "768/768 [==============================] - 0s 61us/sample - loss: 3.4104 - acc: 0.6901\n",
      "Epoch 69/150\n",
      "768/768 [==============================] - 0s 60us/sample - loss: 3.3851 - acc: 0.6862\n",
      "Epoch 70/150\n",
      "768/768 [==============================] - 0s 81us/sample - loss: 3.3511 - acc: 0.6823\n",
      "Epoch 71/150\n",
      "768/768 [==============================] - 0s 63us/sample - loss: 3.3311 - acc: 0.6810\n",
      "Epoch 72/150\n",
      "768/768 [==============================] - 0s 57us/sample - loss: 3.2849 - acc: 0.6862\n",
      "Epoch 73/150\n",
      "768/768 [==============================] - 0s 62us/sample - loss: 3.2551 - acc: 0.6862\n",
      "Epoch 74/150\n",
      "768/768 [==============================] - 0s 60us/sample - loss: 3.2141 - acc: 0.6836\n",
      "Epoch 75/150\n",
      "768/768 [==============================] - 0s 64us/sample - loss: 3.1934 - acc: 0.6862\n",
      "Epoch 76/150\n",
      "768/768 [==============================] - 0s 57us/sample - loss: 3.1543 - acc: 0.6875\n",
      "Epoch 77/150\n",
      "768/768 [==============================] - 0s 65us/sample - loss: 3.1241 - acc: 0.6888\n",
      "Epoch 78/150\n",
      "768/768 [==============================] - 0s 63us/sample - loss: 3.0919 - acc: 0.6784\n",
      "Epoch 79/150\n",
      "768/768 [==============================] - 0s 60us/sample - loss: 3.0590 - acc: 0.6849\n",
      "Epoch 80/150\n",
      "768/768 [==============================] - 0s 64us/sample - loss: 3.0268 - acc: 0.6901\n",
      "Epoch 81/150\n",
      "768/768 [==============================] - 0s 57us/sample - loss: 2.9982 - acc: 0.6771\n",
      "Epoch 82/150\n",
      "768/768 [==============================] - 0s 60us/sample - loss: 2.9854 - acc: 0.6901\n",
      "Epoch 83/150\n",
      "768/768 [==============================] - 0s 59us/sample - loss: 2.9383 - acc: 0.6784\n",
      "Epoch 84/150\n",
      "768/768 [==============================] - 0s 59us/sample - loss: 2.9055 - acc: 0.6797\n",
      "Epoch 85/150\n",
      "768/768 [==============================] - 0s 64us/sample - loss: 2.8770 - acc: 0.6745\n",
      "Epoch 86/150\n",
      "768/768 [==============================] - 0s 55us/sample - loss: 2.8424 - acc: 0.6771\n",
      "Epoch 87/150\n",
      "768/768 [==============================] - 0s 55us/sample - loss: 2.8116 - acc: 0.6797\n",
      "Epoch 88/150\n",
      "768/768 [==============================] - 0s 60us/sample - loss: 2.7755 - acc: 0.6784\n",
      "Epoch 89/150\n",
      "768/768 [==============================] - 0s 61us/sample - loss: 2.7437 - acc: 0.6745\n",
      "Epoch 90/150\n",
      "768/768 [==============================] - 0s 73us/sample - loss: 2.7176 - acc: 0.6719\n",
      "Epoch 91/150\n",
      "768/768 [==============================] - 0s 59us/sample - loss: 2.6825 - acc: 0.6758\n",
      "Epoch 92/150\n",
      "768/768 [==============================] - 0s 60us/sample - loss: 2.6535 - acc: 0.6732\n",
      "Epoch 93/150\n",
      "768/768 [==============================] - 0s 59us/sample - loss: 2.6211 - acc: 0.6758\n",
      "Epoch 94/150\n",
      "768/768 [==============================] - 0s 55us/sample - loss: 2.5930 - acc: 0.6745\n",
      "Epoch 95/150\n",
      "768/768 [==============================] - 0s 59us/sample - loss: 2.5664 - acc: 0.6758\n",
      "Epoch 96/150\n",
      "768/768 [==============================] - 0s 60us/sample - loss: 2.5284 - acc: 0.6732\n",
      "Epoch 97/150\n",
      "768/768 [==============================] - 0s 65us/sample - loss: 2.5063 - acc: 0.6745\n",
      "Epoch 98/150\n",
      "768/768 [==============================] - 0s 60us/sample - loss: 2.4695 - acc: 0.6732\n",
      "Epoch 99/150\n",
      "768/768 [==============================] - 0s 83us/sample - loss: 2.4379 - acc: 0.6771\n",
      "Epoch 100/150\n",
      "768/768 [==============================] - 0s 64us/sample - loss: 2.4027 - acc: 0.6732\n",
      "Epoch 101/150\n",
      "768/768 [==============================] - 0s 59us/sample - loss: 2.3758 - acc: 0.6732\n",
      "Epoch 102/150\n",
      "768/768 [==============================] - 0s 61us/sample - loss: 2.3468 - acc: 0.6732\n",
      "Epoch 103/150\n",
      "768/768 [==============================] - 0s 63us/sample - loss: 2.3184 - acc: 0.6771\n",
      "Epoch 104/150\n",
      "768/768 [==============================] - 0s 64us/sample - loss: 2.2821 - acc: 0.6706\n",
      "Epoch 105/150\n",
      "768/768 [==============================] - 0s 61us/sample - loss: 2.2548 - acc: 0.6758\n",
      "Epoch 106/150\n",
      "768/768 [==============================] - 0s 64us/sample - loss: 2.2271 - acc: 0.6758\n",
      "Epoch 107/150\n",
      "768/768 [==============================] - 0s 57us/sample - loss: 2.1921 - acc: 0.6706\n",
      "Epoch 108/150\n",
      "768/768 [==============================] - 0s 66us/sample - loss: 2.1615 - acc: 0.6784\n",
      "Epoch 109/150\n",
      "768/768 [==============================] - 0s 66us/sample - loss: 2.1348 - acc: 0.6745\n",
      "Epoch 110/150\n",
      "768/768 [==============================] - 0s 55us/sample - loss: 2.1023 - acc: 0.6771\n",
      "Epoch 111/150\n",
      "768/768 [==============================] - 0s 61us/sample - loss: 2.0749 - acc: 0.6693\n",
      "Epoch 112/150\n",
      "768/768 [==============================] - 0s 57us/sample - loss: 2.0416 - acc: 0.6654\n",
      "Epoch 113/150\n",
      "768/768 [==============================] - 0s 59us/sample - loss: 2.0175 - acc: 0.6823\n",
      "Epoch 114/150\n",
      "768/768 [==============================] - 0s 60us/sample - loss: 1.9838 - acc: 0.6693\n",
      "Epoch 115/150\n",
      "768/768 [==============================] - 0s 59us/sample - loss: 1.9540 - acc: 0.6667\n",
      "Epoch 116/150\n",
      "768/768 [==============================] - 0s 61us/sample - loss: 1.9210 - acc: 0.6823\n",
      "Epoch 117/150\n",
      "768/768 [==============================] - 0s 56us/sample - loss: 1.8957 - acc: 0.6654\n",
      "Epoch 118/150\n",
      "768/768 [==============================] - 0s 61us/sample - loss: 1.8623 - acc: 0.6745\n",
      "Epoch 119/150\n",
      "768/768 [==============================] - 0s 57us/sample - loss: 1.8334 - acc: 0.6680\n",
      "Epoch 120/150\n",
      "768/768 [==============================] - 0s 52us/sample - loss: 1.8038 - acc: 0.6602\n",
      "Epoch 121/150\n",
      "768/768 [==============================] - 0s 55us/sample - loss: 1.7734 - acc: 0.6693\n",
      "Epoch 122/150\n",
      "768/768 [==============================] - 0s 59us/sample - loss: 1.7436 - acc: 0.6758\n",
      "Epoch 123/150\n",
      "768/768 [==============================] - 0s 56us/sample - loss: 1.7178 - acc: 0.6706\n",
      "Epoch 124/150\n",
      "768/768 [==============================] - 0s 59us/sample - loss: 1.6888 - acc: 0.6745\n",
      "Epoch 125/150\n",
      "768/768 [==============================] - 0s 57us/sample - loss: 1.6670 - acc: 0.6667\n",
      "Epoch 126/150\n",
      "768/768 [==============================] - 0s 57us/sample - loss: 1.6280 - acc: 0.6576\n",
      "Epoch 127/150\n",
      "768/768 [==============================] - 0s 55us/sample - loss: 1.5989 - acc: 0.6680\n",
      "Epoch 128/150\n",
      "768/768 [==============================] - 0s 57us/sample - loss: 1.5699 - acc: 0.6667\n",
      "Epoch 129/150\n",
      "768/768 [==============================] - 0s 56us/sample - loss: 1.5405 - acc: 0.6628\n",
      "Epoch 130/150\n",
      "768/768 [==============================] - 0s 78us/sample - loss: 1.5269 - acc: 0.6654\n",
      "Epoch 131/150\n",
      "768/768 [==============================] - 0s 66us/sample - loss: 1.5071 - acc: 0.6628\n",
      "Epoch 132/150\n",
      "768/768 [==============================] - 0s 64us/sample - loss: 1.4650 - acc: 0.6615\n",
      "Epoch 133/150\n",
      "768/768 [==============================] - 0s 55us/sample - loss: 1.4377 - acc: 0.6732\n",
      "Epoch 134/150\n",
      "768/768 [==============================] - 0s 59us/sample - loss: 1.4088 - acc: 0.6549\n",
      "Epoch 135/150\n",
      "768/768 [==============================] - 0s 56us/sample - loss: 1.3839 - acc: 0.6680\n",
      "Epoch 136/150\n",
      "768/768 [==============================] - 0s 59us/sample - loss: 1.3543 - acc: 0.6680\n",
      "Epoch 137/150\n",
      "768/768 [==============================] - 0s 66us/sample - loss: 1.3277 - acc: 0.6562\n",
      "Epoch 138/150\n",
      "768/768 [==============================] - 0s 64us/sample - loss: 1.3135 - acc: 0.6680\n",
      "Epoch 139/150\n",
      "768/768 [==============================] - 0s 55us/sample - loss: 1.2786 - acc: 0.6615\n",
      "Epoch 140/150\n",
      "768/768 [==============================] - 0s 55us/sample - loss: 1.2550 - acc: 0.6732\n",
      "Epoch 141/150\n",
      "768/768 [==============================] - 0s 53us/sample - loss: 1.2319 - acc: 0.6654\n",
      "Epoch 142/150\n",
      "768/768 [==============================] - 0s 52us/sample - loss: 1.2138 - acc: 0.6719\n",
      "Epoch 143/150\n",
      "768/768 [==============================] - 0s 57us/sample - loss: 1.1870 - acc: 0.6719\n",
      "Epoch 144/150\n",
      "768/768 [==============================] - 0s 64us/sample - loss: 1.1719 - acc: 0.6536\n",
      "Epoch 145/150\n",
      "768/768 [==============================] - 0s 62us/sample - loss: 1.1512 - acc: 0.6602\n",
      "Epoch 146/150\n",
      "768/768 [==============================] - 0s 59us/sample - loss: 1.1301 - acc: 0.6615\n",
      "Epoch 147/150\n",
      "768/768 [==============================] - 0s 56us/sample - loss: 1.0964 - acc: 0.6654\n",
      "Epoch 148/150\n",
      "768/768 [==============================] - 0s 55us/sample - loss: 1.0759 - acc: 0.6576\n",
      "Epoch 149/150\n",
      "768/768 [==============================] - 0s 55us/sample - loss: 1.0551 - acc: 0.6615\n",
      "Epoch 150/150\n",
      "768/768 [==============================] - 0s 64us/sample - loss: 1.0350 - acc: 0.6589\n"
     ]
    },
    {
     "data": {
      "text/plain": [
       "<tensorflow.python.keras.callbacks.History at 0x1d3b3ad2ec8>"
      ]
     },
     "execution_count": 12,
     "metadata": {},
     "output_type": "execute_result"
    }
   ],
   "source": [
    "model.fit(X, y, epochs=150)"
   ]
  },
  {
   "cell_type": "code",
   "execution_count": 13,
   "metadata": {},
   "outputs": [
    {
     "data": {
      "text/plain": [
       "(768,)"
      ]
     },
     "execution_count": 13,
     "metadata": {},
     "output_type": "execute_result"
    }
   ],
   "source": [
    "y.shape"
   ]
  },
  {
   "cell_type": "markdown",
   "metadata": {},
   "source": [
    "### Evaluate Model"
   ]
  },
  {
   "cell_type": "code",
   "execution_count": 14,
   "metadata": {},
   "outputs": [
    {
     "data": {
      "text/plain": [
       "array([1., 0., 1., 0., 1., 0., 1., 0., 1., 1., 0., 1., 0., 1., 1., 1., 1.,\n",
       "       1., 0., 1., 0., 0., 1., 1., 1., 1., 1., 0., 0., 0., 0., 1., 0., 0.,\n",
       "       0., 0., 0., 1., 1., 1., 0., 0., 0., 1., 0., 1., 0., 0., 1., 0.])"
      ]
     },
     "execution_count": 14,
     "metadata": {},
     "output_type": "execute_result"
    }
   ],
   "source": [
    "y[:50]"
   ]
  },
  {
   "cell_type": "code",
   "execution_count": 15,
   "metadata": {},
   "outputs": [
    {
     "data": {
      "text/plain": [
       "0.3489583333333333"
      ]
     },
     "execution_count": 15,
     "metadata": {},
     "output_type": "execute_result"
    }
   ],
   "source": [
    "# Predicting never diabetes\n",
    "sum(y) / len(y) "
   ]
  },
  {
   "cell_type": "code",
   "execution_count": 20,
   "metadata": {
    "scrolled": true
   },
   "outputs": [
    {
     "name": "stdout",
     "output_type": "stream",
     "text": [
      "768/1 [================================================================================================================================================================================================================================================================================================================================================================================================================================================================================================================================================================================================================================================================================================================================================================================================================================================================================================================================================================================================================================================================================================================================================================================================================================================================================================================================================================================================================================================================================================================================================================================================================================================================================================================================================================================================================================================================================================================================================================================================================================================================================================================================================================================================================================================================================================================================================================================================================================================================================================================================================================================================================================================================================================================================================================================================================================================================================================================================================================================================================================================================================================================================================================================================================================================================================================================================================================================================================================================================================================================================================================================================================================================================================================================================================================================================================================================================================================================================================================================================================================================================================================================================================================================================================================================================================================================================================================================================================================================================================================================================================================================================================================================================================================================================================================================================================================================================================================================================================================================================================================================================================================================================================================================================================================================================================================================================================================================================================================================================================================================================================================================================================================================================================================================================================================================================================================================================================================================================================================================================================================================================================================================================================================================================================================================================================================================================================================================================================================================================================================================================================================================================================================================================================================================================================================================================================================================================================================================================================================================================================================================================================================================================================================================================================================================================================================================================================================================================================================================================================================================================================================================================================================================================================================================================================================================================================================================================================================================================================================================================================================================================================================================================================================================================================================================================================================================================================================================================================================================================================================================================================================================================================================================================================================================================================================================================================================================================================================================================================================================================================================================================================================================================================================================================================================================================================================================================================================================================================================================================================================================================================================================================================================================================================================================================================================================================================================================================================================================================================================================================================================================================================================================================================================================================================================================================================================================================================================================================================================================================================================================================================================================================================================================================================================================================================================================================================================================================================================================================================================================================================================================================================================================================================================================================================================================================================================================================================================================================================================================================================================================================================================================================================================================================================================================================================================================================================================================================================================================================================================================================================================================================================================================================================================================================================================================================================================================================================================================================================================================================================================================================================================================================================================================================================================================================================================================================================================================================================================================================================================================================================================================================================================================================================================================================================================================================================================================================================================================================================================================================================================================================================================================================================================================================================================================================================================================================================================================================================================================================================================================================================================================================================================================================================================================================================================================================================================================================================================================================================================================================================================================================================================================================================================================================================================================================================================================================================================================================================================================================================================================================================================================================================================================================================================================================================================================================================================================================================================================================================================================================================================================================================================================================================================================================================================================================================================================================================================================================================================================================================================================================================================================================================================================================================================================================================================================================================================================================================================================================================================================================================================================================================================================================================================================================================================================================================================================================================================================================================================================================================================================================================================================================================================================================================================================================================================================================================================================================================================================================================================================================================================================================================================================================================================================================================================================================================================================================================================================================================================================================================================================================================================================================================================================================================================================================================================================================================================================================================================================================================================================================================================================================================================================================================================================================================================================================================================================================================================================================================================================================================================================================================================================================================================================================================================================================================================================================================================================================================================================================================================================================================================================================================================================================================================================================================================================================================================================================================================================================================================================================================================================================================================================================================================================================================================================================================================================================================================================================================================================================================================================================================================================================================================================================================================================================================================================================================================================================================================================================================================================================================================================================================================================================================================================================================================================================================================================================================================================================================================================================================================================================================================================================================================================================================================================================================================================================================================================================================================================================================================================================================================================================================================================================================================================================================================================================================================================================================================================================================================================================================================================================================================================================================================================================================================================================================================================================================================================================================================================================================================================================================================================================================================================================================================================================================================================================================================================================================================================================================================================================================================================================================================================================================================================================================================================================================================================================================================================================================================================================================================================================================================================================] - 0s 142us/sample - loss: 0.6205 - accuracy: 0.6510\n",
      "accuracy: 65.10416865348816\n"
     ]
    }
   ],
   "source": [
    "scores = model.evaluate(X,y)\n",
    "print(f\"{model.metrics_names[1]}: {scores[1]*100}\")"
   ]
  },
  {
   "cell_type": "markdown",
   "metadata": {
    "colab_type": "text",
    "id": "zHYB7k9q3O8T"
   },
   "source": [
    "### Unstable Results\n",
    "\n",
    "You'll notice that if we rerun the results might differ from the origin run. This can be explain by a bunch of factors. Check out some of them in this article: \n",
    "\n",
    "<https://machinelearningmastery.com/randomness-in-machine-learning/>"
   ]
  },
  {
   "cell_type": "markdown",
   "metadata": {},
   "source": [
    "## Challenge\n",
    "\n",
    "You will be expected to leverage the Keras `Sequential`api to estimate a feed forward neural networks on a dataset."
   ]
  },
  {
   "cell_type": "markdown",
   "metadata": {
    "colab_type": "text",
    "id": "ueDVpctAzvy8"
   },
   "source": [
    "# Choosing Architecture (Learn)"
   ]
  },
  {
   "cell_type": "markdown",
   "metadata": {},
   "source": [
    "## Overview\n",
    "\n",
    "Choosing an architecture for a neural network is almost more an art than a science. Let's do a few experiments:"
   ]
  },
  {
   "cell_type": "markdown",
   "metadata": {},
   "source": [
    "## Follow Along"
   ]
  },
  {
   "cell_type": "code",
   "execution_count": 2,
   "metadata": {
    "colab": {},
    "colab_type": "code",
    "id": "6W2Sc7-LzQo_"
   },
   "outputs": [
    {
     "name": "stderr",
     "output_type": "stream",
     "text": [
      "W0122 17:10:24.774418 14568 deprecation.py:323] From c:\\users\\dylan nason\\anaconda3\\envs\\u4-s2-nn\\lib\\site-packages\\tensorflow\\python\\ops\\nn_impl.py:180: add_dispatch_support.<locals>.wrapper (from tensorflow.python.ops.array_ops) is deprecated and will be removed in a future version.\n",
      "Instructions for updating:\n",
      "Use tf.where in 2.0, which has the same broadcast rule as np.where\n"
     ]
    },
    {
     "name": "stdout",
     "output_type": "stream",
     "text": [
      "Model: \"3LayerJunk\"\n",
      "_________________________________________________________________\n",
      "Layer (type)                 Output Shape              Param #   \n",
      "=================================================================\n",
      "Dense1 (Dense)               (None, 16)                144       \n",
      "_________________________________________________________________\n",
      "dense_3 (Dense)              (None, 8)                 136       \n",
      "_________________________________________________________________\n",
      "dense_4 (Dense)              (None, 1)                 9         \n",
      "=================================================================\n",
      "Total params: 289\n",
      "Trainable params: 289\n",
      "Non-trainable params: 0\n",
      "_________________________________________________________________\n"
     ]
    }
   ],
   "source": [
    "# Tell me your ideas\n",
    "\n",
    "model_improved = Sequential(name=\"3LayerJunk\")\n",
    "\n",
    "model_improved.add(Dense(4, input_dim=8, activation='relu', name=\"Dense1\"))\n",
    "model_improved.add(Dense(3, activation='sigmoid'))\n",
    "model_improved.add(Dense(1, activation='sigmoid'))\n",
    "\n",
    "model_improved.compile(loss='binary_crossentropy', optimizer='adam',\n",
    "              metrics=['accuracy'])\n",
    "\n",
    "# Let's inspect our new architecture\n",
    "model_improved.summary()"
   ]
  },
  {
   "cell_type": "code",
   "execution_count": 16,
   "metadata": {},
   "outputs": [
    {
     "data": {
      "text/plain": [
       "<tensorflow.python.keras.callbacks.History at 0x1d3b3fb23c8>"
      ]
     },
     "execution_count": 16,
     "metadata": {},
     "output_type": "execute_result"
    }
   ],
   "source": [
    "model_improved.fit(X, y, epochs=150, verbose=False) # What parameters can I specify here?"
   ]
  },
  {
   "cell_type": "code",
   "execution_count": 17,
   "metadata": {
    "scrolled": true
   },
   "outputs": [
    {
     "name": "stdout",
     "output_type": "stream",
     "text": [
      "768/768 [==============================] - 0s 233us/sample - loss: 0.6396 - acc: 0.6576\n",
      "acc: 65.75520634651184\n"
     ]
    }
   ],
   "source": [
    "scores = model_improved.evaluate(X,y)\n",
    "print(f\"{model_improved.metrics_names[1]}: {scores[1]*100}\")"
   ]
  },
  {
   "cell_type": "markdown",
   "metadata": {},
   "source": [
    "### Experiment with 1 Additional Layer & Change Activation F(x)s"
   ]
  },
  {
   "cell_type": "code",
   "execution_count": 18,
   "metadata": {},
   "outputs": [
    {
     "name": "stdout",
     "output_type": "stream",
     "text": [
      "Model: \"4LayerJunk\"\n",
      "_________________________________________________________________\n",
      "Layer (type)                 Output Shape              Param #   \n",
      "=================================================================\n",
      "Dense1 (Dense)               (None, 4)                 36        \n",
      "_________________________________________________________________\n",
      "dense_4 (Dense)              (None, 3)                 15        \n",
      "_________________________________________________________________\n",
      "dense_5 (Dense)              (None, 3)                 12        \n",
      "_________________________________________________________________\n",
      "dense_6 (Dense)              (None, 1)                 4         \n",
      "=================================================================\n",
      "Total params: 67\n",
      "Trainable params: 67\n",
      "Non-trainable params: 0\n",
      "_________________________________________________________________\n"
     ]
    }
   ],
   "source": [
    "# Tell me your ideas\n",
    "\n",
    "model_improved = Sequential(name=\"4LayerJunk\")\n",
    "\n",
    "model_improved.add(Dense(4, input_dim=8, activation='relu', name=\"Dense1\"))\n",
    "model_improved.add(Dense(3, activation='relu'))\n",
    "model_improved.add(Dense(3, activation='relu'))\n",
    "model_improved.add(Dense(1, activation='sigmoid'))\n",
    "\n",
    "model_improved.compile(loss='binary_crossentropy', optimizer='adam',\n",
    "              metrics=['accuracy'])\n",
    "\n",
    "# Let's inspect our new architecture\n",
    "model_improved.summary()"
   ]
  },
  {
   "cell_type": "code",
   "execution_count": 19,
   "metadata": {},
   "outputs": [
    {
     "data": {
      "text/plain": [
       "<tensorflow.python.keras.callbacks.History at 0x1d3b51f0e88>"
      ]
     },
     "execution_count": 19,
     "metadata": {},
     "output_type": "execute_result"
    }
   ],
   "source": [
    "model_improved.fit(X,y, epochs=250, verbose=False)"
   ]
  },
  {
   "cell_type": "code",
   "execution_count": 20,
   "metadata": {
    "scrolled": true
   },
   "outputs": [
    {
     "name": "stdout",
     "output_type": "stream",
     "text": [
      "768/768 [==============================] - 0s 210us/sample - loss: 0.6185 - acc: 0.6510\n"
     ]
    },
    {
     "data": {
      "text/plain": [
       "[0.6184563264250755, 0.6510417]"
      ]
     },
     "execution_count": 20,
     "metadata": {},
     "output_type": "execute_result"
    }
   ],
   "source": [
    "model_improved.evaluate(X,y)\n",
    "#print(f\"{model_improved.metrics_names[1]}: {scores[1]*100}\")"
   ]
  },
  {
   "cell_type": "markdown",
   "metadata": {},
   "source": [
    "### New Experiment with Identical Neuron Numbers"
   ]
  },
  {
   "cell_type": "code",
   "execution_count": 21,
   "metadata": {},
   "outputs": [
    {
     "name": "stdout",
     "output_type": "stream",
     "text": [
      "Model: \"EvenNuerons4LayerJunk\"\n",
      "_________________________________________________________________\n",
      "Layer (type)                 Output Shape              Param #   \n",
      "=================================================================\n",
      "Dense1 (Dense)               (None, 8)                 72        \n",
      "_________________________________________________________________\n",
      "dense_7 (Dense)              (None, 8)                 72        \n",
      "_________________________________________________________________\n",
      "dense_8 (Dense)              (None, 8)                 72        \n",
      "_________________________________________________________________\n",
      "dense_9 (Dense)              (None, 1)                 9         \n",
      "=================================================================\n",
      "Total params: 225\n",
      "Trainable params: 225\n",
      "Non-trainable params: 0\n",
      "_________________________________________________________________\n"
     ]
    }
   ],
   "source": [
    "# Tell me your ideas\n",
    "\n",
    "model_improved = Sequential(name=\"EvenNuerons4LayerJunk\")\n",
    "\n",
    "model_improved.add(Dense(8, input_dim=8, activation='relu', name=\"Dense1\"))\n",
    "model_improved.add(Dense(8, activation='relu'))\n",
    "model_improved.add(Dense(8, activation='relu'))\n",
    "model_improved.add(Dense(1, activation='sigmoid'))\n",
    "\n",
    "model_improved.compile(loss='binary_crossentropy', optimizer='adam',\n",
    "              metrics=['accuracy'])\n",
    "\n",
    "# Let's inspect our new architecture\n",
    "model_improved.summary()"
   ]
  },
  {
   "cell_type": "code",
   "execution_count": 22,
   "metadata": {
    "scrolled": true
   },
   "outputs": [
    {
     "name": "stdout",
     "output_type": "stream",
     "text": [
      "Train on 691 samples, validate on 77 samples\n",
      "Epoch 1/250\n",
      "691/691 [==============================] - 1s 1ms/sample - loss: 0.7098 - acc: 0.6440 - val_loss: 0.6498 - val_acc: 0.6234\n",
      "Epoch 2/250\n",
      "691/691 [==============================] - 0s 162us/sample - loss: 0.6494 - acc: 0.6179 - val_loss: 0.6392 - val_acc: 0.6104\n",
      "Epoch 3/250\n",
      "691/691 [==============================] - 0s 146us/sample - loss: 0.6385 - acc: 0.6585 - val_loss: 0.6318 - val_acc: 0.6104\n",
      "Epoch 4/250\n",
      "691/691 [==============================] - 0s 139us/sample - loss: 0.6336 - acc: 0.6541 - val_loss: 0.6314 - val_acc: 0.6104\n",
      "Epoch 5/250\n",
      "691/691 [==============================] - 0s 122us/sample - loss: 0.6309 - acc: 0.6570 - val_loss: 0.6312 - val_acc: 0.5974\n",
      "Epoch 6/250\n",
      "691/691 [==============================] - 0s 133us/sample - loss: 0.6178 - acc: 0.6614 - val_loss: 0.6251 - val_acc: 0.5974\n",
      "Epoch 7/250\n",
      "691/691 [==============================] - 0s 117us/sample - loss: 0.6180 - acc: 0.6570 - val_loss: 0.6284 - val_acc: 0.6104\n",
      "Epoch 8/250\n",
      "691/691 [==============================] - 0s 117us/sample - loss: 0.6203 - acc: 0.6585 - val_loss: 0.6361 - val_acc: 0.5974\n",
      "Epoch 9/250\n",
      "691/691 [==============================] - 0s 110us/sample - loss: 0.6070 - acc: 0.6614 - val_loss: 0.6344 - val_acc: 0.6234\n",
      "Epoch 10/250\n",
      "691/691 [==============================] - 0s 130us/sample - loss: 0.6098 - acc: 0.6570 - val_loss: 0.6415 - val_acc: 0.6234\n",
      "Epoch 11/250\n",
      "691/691 [==============================] - 0s 122us/sample - loss: 0.6054 - acc: 0.6628 - val_loss: 0.6327 - val_acc: 0.6104\n",
      "Epoch 12/250\n",
      "691/691 [==============================] - 0s 165us/sample - loss: 0.6060 - acc: 0.6585 - val_loss: 0.6386 - val_acc: 0.6104\n",
      "Epoch 13/250\n",
      "691/691 [==============================] - 0s 168us/sample - loss: 0.6028 - acc: 0.6556 - val_loss: 0.6315 - val_acc: 0.6104\n",
      "Epoch 14/250\n",
      "691/691 [==============================] - 0s 106us/sample - loss: 0.6008 - acc: 0.6599 - val_loss: 0.6336 - val_acc: 0.6104\n",
      "Epoch 15/250\n",
      "691/691 [==============================] - 0s 103us/sample - loss: 0.6011 - acc: 0.6599 - val_loss: 0.6331 - val_acc: 0.6234\n",
      "Epoch 16/250\n",
      "691/691 [==============================] - 0s 101us/sample - loss: 0.5994 - acc: 0.6570 - val_loss: 0.6316 - val_acc: 0.6104\n",
      "Epoch 17/250\n",
      "691/691 [==============================] - 0s 143us/sample - loss: 0.5987 - acc: 0.6570 - val_loss: 0.6371 - val_acc: 0.6234\n",
      "Epoch 18/250\n",
      "691/691 [==============================] - 0s 194us/sample - loss: 0.6015 - acc: 0.6570 - val_loss: 0.6362 - val_acc: 0.6104\n",
      "Epoch 19/250\n",
      "691/691 [==============================] - 0s 142us/sample - loss: 0.6063 - acc: 0.6570 - val_loss: 0.6435 - val_acc: 0.6104\n",
      "Epoch 20/250\n",
      "691/691 [==============================] - 0s 169us/sample - loss: 0.5994 - acc: 0.6599 - val_loss: 0.6456 - val_acc: 0.5844\n",
      "Epoch 21/250\n",
      "691/691 [==============================] - 0s 130us/sample - loss: 0.5978 - acc: 0.6628 - val_loss: 0.6453 - val_acc: 0.5974\n",
      "Epoch 22/250\n",
      "691/691 [==============================] - 0s 122us/sample - loss: 0.6009 - acc: 0.6599 - val_loss: 0.6359 - val_acc: 0.5974\n",
      "Epoch 23/250\n",
      "691/691 [==============================] - 0s 152us/sample - loss: 0.5956 - acc: 0.6599 - val_loss: 0.6421 - val_acc: 0.5974\n",
      "Epoch 24/250\n",
      "691/691 [==============================] - 0s 111us/sample - loss: 0.5939 - acc: 0.6614 - val_loss: 0.6355 - val_acc: 0.5974\n",
      "Epoch 25/250\n",
      "691/691 [==============================] - 0s 120us/sample - loss: 0.5940 - acc: 0.6585 - val_loss: 0.6433 - val_acc: 0.5974\n",
      "Epoch 26/250\n",
      "691/691 [==============================] - 0s 106us/sample - loss: 0.5947 - acc: 0.6585 - val_loss: 0.6396 - val_acc: 0.6234\n",
      "Epoch 27/250\n",
      "691/691 [==============================] - 0s 101us/sample - loss: 0.5946 - acc: 0.6599 - val_loss: 0.6342 - val_acc: 0.5974\n",
      "Epoch 28/250\n",
      "691/691 [==============================] - 0s 127us/sample - loss: 0.5916 - acc: 0.6585 - val_loss: 0.6399 - val_acc: 0.6104\n",
      "Epoch 29/250\n",
      "691/691 [==============================] - 0s 168us/sample - loss: 0.5920 - acc: 0.6585 - val_loss: 0.6379 - val_acc: 0.6104\n",
      "Epoch 30/250\n",
      "691/691 [==============================] - 0s 126us/sample - loss: 0.5921 - acc: 0.6599 - val_loss: 0.6367 - val_acc: 0.5844\n",
      "Epoch 31/250\n",
      "691/691 [==============================] - 0s 177us/sample - loss: 0.5939 - acc: 0.6614 - val_loss: 0.6320 - val_acc: 0.6104\n",
      "Epoch 32/250\n",
      "691/691 [==============================] - 0s 158us/sample - loss: 0.5887 - acc: 0.6614 - val_loss: 0.6320 - val_acc: 0.6104\n",
      "Epoch 33/250\n",
      "691/691 [==============================] - 0s 161us/sample - loss: 0.5863 - acc: 0.6599 - val_loss: 0.6266 - val_acc: 0.6104\n",
      "Epoch 34/250\n",
      "691/691 [==============================] - 0s 153us/sample - loss: 0.5850 - acc: 0.6614 - val_loss: 0.6275 - val_acc: 0.6104\n",
      "Epoch 35/250\n",
      "691/691 [==============================] - 0s 159us/sample - loss: 0.5837 - acc: 0.6657 - val_loss: 0.6427 - val_acc: 0.5974\n",
      "Epoch 36/250\n",
      "691/691 [==============================] - 0s 130us/sample - loss: 0.5871 - acc: 0.6657 - val_loss: 0.6283 - val_acc: 0.6104\n",
      "Epoch 37/250\n",
      "691/691 [==============================] - 0s 136us/sample - loss: 0.5891 - acc: 0.6643 - val_loss: 0.6323 - val_acc: 0.6104\n",
      "Epoch 38/250\n",
      "691/691 [==============================] - 0s 122us/sample - loss: 0.5826 - acc: 0.6614 - val_loss: 0.6246 - val_acc: 0.6104\n",
      "Epoch 39/250\n",
      "691/691 [==============================] - 0s 113us/sample - loss: 0.5796 - acc: 0.6643 - val_loss: 0.6336 - val_acc: 0.6104\n",
      "Epoch 40/250\n",
      "691/691 [==============================] - 0s 192us/sample - loss: 0.5798 - acc: 0.6671 - val_loss: 0.6341 - val_acc: 0.5974\n",
      "Epoch 41/250\n",
      "691/691 [==============================] - 0s 391us/sample - loss: 0.5833 - acc: 0.6700 - val_loss: 0.6431 - val_acc: 0.6104\n",
      "Epoch 42/250\n",
      "691/691 [==============================] - 0s 110us/sample - loss: 0.5793 - acc: 0.6657 - val_loss: 0.6293 - val_acc: 0.5974\n",
      "Epoch 43/250\n",
      "691/691 [==============================] - 0s 117us/sample - loss: 0.5808 - acc: 0.6686 - val_loss: 0.6338 - val_acc: 0.6104\n",
      "Epoch 44/250\n",
      "691/691 [==============================] - 0s 111us/sample - loss: 0.5775 - acc: 0.6643 - val_loss: 0.6447 - val_acc: 0.6104\n",
      "Epoch 45/250\n",
      "691/691 [==============================] - 0s 126us/sample - loss: 0.5752 - acc: 0.6671 - val_loss: 0.6210 - val_acc: 0.6234\n",
      "Epoch 46/250\n",
      "691/691 [==============================] - 0s 155us/sample - loss: 0.5801 - acc: 0.6657 - val_loss: 0.6381 - val_acc: 0.6104\n",
      "Epoch 47/250\n",
      "691/691 [==============================] - 0s 190us/sample - loss: 0.5773 - acc: 0.6671 - val_loss: 0.6415 - val_acc: 0.6104\n",
      "Epoch 48/250\n",
      "691/691 [==============================] - 0s 151us/sample - loss: 0.5852 - acc: 0.6614 - val_loss: 0.6370 - val_acc: 0.5974\n",
      "Epoch 49/250\n",
      "691/691 [==============================] - 0s 230us/sample - loss: 0.5790 - acc: 0.6628 - val_loss: 0.6204 - val_acc: 0.6234\n",
      "Epoch 50/250\n",
      "691/691 [==============================] - 0s 221us/sample - loss: 0.5770 - acc: 0.6700 - val_loss: 0.6606 - val_acc: 0.6104\n",
      "Epoch 51/250\n",
      "691/691 [==============================] - 0s 151us/sample - loss: 0.5777 - acc: 0.6614 - val_loss: 0.6162 - val_acc: 0.6234\n",
      "Epoch 52/250\n",
      "691/691 [==============================] - 0s 122us/sample - loss: 0.5742 - acc: 0.6686 - val_loss: 0.6388 - val_acc: 0.6104\n",
      "Epoch 53/250\n",
      "691/691 [==============================] - 0s 146us/sample - loss: 0.5829 - acc: 0.6570 - val_loss: 0.6240 - val_acc: 0.6104\n",
      "Epoch 54/250\n",
      "691/691 [==============================] - 0s 120us/sample - loss: 0.5815 - acc: 0.6643 - val_loss: 0.6190 - val_acc: 0.6234\n",
      "Epoch 55/250\n",
      "691/691 [==============================] - 0s 117us/sample - loss: 0.5804 - acc: 0.6614 - val_loss: 0.6171 - val_acc: 0.6234\n",
      "Epoch 56/250\n",
      "691/691 [==============================] - 0s 117us/sample - loss: 0.5806 - acc: 0.6643 - val_loss: 0.6417 - val_acc: 0.5844\n",
      "Epoch 57/250\n",
      "691/691 [==============================] - 0s 164us/sample - loss: 0.5775 - acc: 0.6686 - val_loss: 0.6318 - val_acc: 0.6104\n",
      "Epoch 58/250\n",
      "691/691 [==============================] - 0s 403us/sample - loss: 0.5790 - acc: 0.6686 - val_loss: 0.6484 - val_acc: 0.6104\n",
      "Epoch 59/250\n",
      "691/691 [==============================] - 0s 229us/sample - loss: 0.5764 - acc: 0.6643 - val_loss: 0.6106 - val_acc: 0.6104\n",
      "Epoch 60/250\n",
      "691/691 [==============================] - 0s 132us/sample - loss: 0.5717 - acc: 0.6643 - val_loss: 0.6401 - val_acc: 0.5974\n",
      "Epoch 61/250\n",
      "691/691 [==============================] - 0s 259us/sample - loss: 0.5719 - acc: 0.6671 - val_loss: 0.6383 - val_acc: 0.5974\n",
      "Epoch 62/250\n",
      "691/691 [==============================] - 0s 164us/sample - loss: 0.5738 - acc: 0.6643 - val_loss: 0.6312 - val_acc: 0.6104\n",
      "Epoch 63/250\n",
      "691/691 [==============================] - 0s 136us/sample - loss: 0.5712 - acc: 0.6657 - val_loss: 0.6306 - val_acc: 0.5974\n",
      "Epoch 64/250\n",
      "691/691 [==============================] - 0s 131us/sample - loss: 0.5684 - acc: 0.6715 - val_loss: 0.6168 - val_acc: 0.6104\n",
      "Epoch 65/250\n",
      "691/691 [==============================] - 0s 239us/sample - loss: 0.5694 - acc: 0.6671 - val_loss: 0.6338 - val_acc: 0.6104\n",
      "Epoch 66/250\n",
      "691/691 [==============================] - 0s 301us/sample - loss: 0.5698 - acc: 0.6686 - val_loss: 0.6310 - val_acc: 0.6104\n",
      "Epoch 67/250\n",
      "691/691 [==============================] - 0s 158us/sample - loss: 0.5701 - acc: 0.6700 - val_loss: 0.6271 - val_acc: 0.6104\n",
      "Epoch 68/250\n",
      "691/691 [==============================] - 0s 140us/sample - loss: 0.5723 - acc: 0.6628 - val_loss: 0.6446 - val_acc: 0.5974\n",
      "Epoch 69/250\n",
      "691/691 [==============================] - 0s 127us/sample - loss: 0.5725 - acc: 0.6671 - val_loss: 0.6368 - val_acc: 0.5974\n",
      "Epoch 70/250\n",
      "691/691 [==============================] - 0s 127us/sample - loss: 0.5711 - acc: 0.6628 - val_loss: 0.6347 - val_acc: 0.5974\n",
      "Epoch 71/250\n",
      "691/691 [==============================] - 0s 113us/sample - loss: 0.5827 - acc: 0.6643 - val_loss: 0.6327 - val_acc: 0.6104\n",
      "Epoch 72/250\n",
      "691/691 [==============================] - 0s 139us/sample - loss: 0.5798 - acc: 0.6643 - val_loss: 0.6694 - val_acc: 0.6104\n",
      "Epoch 73/250\n",
      "691/691 [==============================] - 0s 260us/sample - loss: 0.5698 - acc: 0.6628 - val_loss: 0.6130 - val_acc: 0.6104\n",
      "Epoch 74/250\n",
      "691/691 [==============================] - 0s 214us/sample - loss: 0.5695 - acc: 0.6686 - val_loss: 0.6337 - val_acc: 0.5974\n",
      "Epoch 75/250\n",
      "691/691 [==============================] - 0s 182us/sample - loss: 0.5685 - acc: 0.6671 - val_loss: 0.6350 - val_acc: 0.5974\n",
      "Epoch 76/250\n",
      "691/691 [==============================] - 0s 191us/sample - loss: 0.5652 - acc: 0.6700 - val_loss: 0.6140 - val_acc: 0.6234\n",
      "Epoch 77/250\n",
      "691/691 [==============================] - 0s 139us/sample - loss: 0.5684 - acc: 0.6686 - val_loss: 0.6310 - val_acc: 0.5974\n",
      "Epoch 78/250\n",
      "691/691 [==============================] - 0s 129us/sample - loss: 0.5673 - acc: 0.6671 - val_loss: 0.6324 - val_acc: 0.5974\n",
      "Epoch 79/250\n",
      "691/691 [==============================] - 0s 168us/sample - loss: 0.5652 - acc: 0.6686 - val_loss: 0.6245 - val_acc: 0.6234\n",
      "Epoch 80/250\n",
      "691/691 [==============================] - 0s 161us/sample - loss: 0.5729 - acc: 0.6657 - val_loss: 0.6340 - val_acc: 0.5974\n",
      "Epoch 81/250\n",
      "691/691 [==============================] - 0s 124us/sample - loss: 0.5699 - acc: 0.6729 - val_loss: 0.6341 - val_acc: 0.5974\n",
      "Epoch 82/250\n",
      "691/691 [==============================] - 0s 140us/sample - loss: 0.5656 - acc: 0.6700 - val_loss: 0.6178 - val_acc: 0.6234\n",
      "Epoch 83/250\n",
      "691/691 [==============================] - 0s 158us/sample - loss: 0.5640 - acc: 0.6671 - val_loss: 0.6328 - val_acc: 0.7013\n",
      "Epoch 84/250\n",
      "691/691 [==============================] - 0s 136us/sample - loss: 0.5643 - acc: 0.7149 - val_loss: 0.6253 - val_acc: 0.7013\n",
      "Epoch 85/250\n",
      "691/691 [==============================] - 0s 148us/sample - loss: 0.5652 - acc: 0.7236 - val_loss: 0.6311 - val_acc: 0.7013\n",
      "Epoch 86/250\n",
      "691/691 [==============================] - 0s 197us/sample - loss: 0.5646 - acc: 0.7106 - val_loss: 0.6224 - val_acc: 0.7143\n",
      "Epoch 87/250\n",
      "691/691 [==============================] - 0s 145us/sample - loss: 0.5739 - acc: 0.7077 - val_loss: 0.6418 - val_acc: 0.6753\n",
      "Epoch 88/250\n",
      "691/691 [==============================] - 0s 132us/sample - loss: 0.5637 - acc: 0.7135 - val_loss: 0.6335 - val_acc: 0.7013\n",
      "Epoch 89/250\n",
      "691/691 [==============================] - 0s 181us/sample - loss: 0.5641 - acc: 0.7135 - val_loss: 0.6191 - val_acc: 0.7403\n",
      "Epoch 90/250\n",
      "691/691 [==============================] - 0s 136us/sample - loss: 0.5635 - acc: 0.7091 - val_loss: 0.6261 - val_acc: 0.7013\n",
      "Epoch 91/250\n",
      "691/691 [==============================] - 0s 146us/sample - loss: 0.5631 - acc: 0.7135 - val_loss: 0.6372 - val_acc: 0.7013\n",
      "Epoch 92/250\n",
      "691/691 [==============================] - 0s 314us/sample - loss: 0.5644 - acc: 0.7048 - val_loss: 0.6321 - val_acc: 0.7143\n",
      "Epoch 93/250\n",
      "691/691 [==============================] - 0s 168us/sample - loss: 0.5625 - acc: 0.7178 - val_loss: 0.6373 - val_acc: 0.6883\n",
      "Epoch 94/250\n",
      "691/691 [==============================] - 0s 194us/sample - loss: 0.5620 - acc: 0.7106 - val_loss: 0.6291 - val_acc: 0.7013\n",
      "Epoch 95/250\n",
      "691/691 [==============================] - 0s 158us/sample - loss: 0.5642 - acc: 0.7236 - val_loss: 0.6204 - val_acc: 0.6883\n",
      "Epoch 96/250\n",
      "691/691 [==============================] - 0s 191us/sample - loss: 0.5631 - acc: 0.7135 - val_loss: 0.6699 - val_acc: 0.7013\n",
      "Epoch 97/250\n",
      "691/691 [==============================] - 0s 132us/sample - loss: 0.5724 - acc: 0.7091 - val_loss: 0.6064 - val_acc: 0.7532\n",
      "Epoch 98/250\n",
      "691/691 [==============================] - ETA: 0s - loss: 0.5789 - acc: 0.693 - 0s 145us/sample - loss: 0.5745 - acc: 0.7120 - val_loss: 0.6386 - val_acc: 0.7143\n",
      "Epoch 99/250\n",
      "691/691 [==============================] - 0s 162us/sample - loss: 0.5651 - acc: 0.7149 - val_loss: 0.6267 - val_acc: 0.7403\n",
      "Epoch 100/250\n",
      "691/691 [==============================] - 0s 232us/sample - loss: 0.5641 - acc: 0.7207 - val_loss: 0.6283 - val_acc: 0.7273\n",
      "Epoch 101/250\n",
      "691/691 [==============================] - 0s 158us/sample - loss: 0.5589 - acc: 0.7120 - val_loss: 0.6366 - val_acc: 0.7013\n",
      "Epoch 102/250\n",
      "691/691 [==============================] - 0s 169us/sample - loss: 0.5642 - acc: 0.7192 - val_loss: 0.6189 - val_acc: 0.7013\n",
      "Epoch 103/250\n",
      "691/691 [==============================] - 0s 120us/sample - loss: 0.5597 - acc: 0.7106 - val_loss: 0.6331 - val_acc: 0.6883\n",
      "Epoch 104/250\n",
      "691/691 [==============================] - 0s 165us/sample - loss: 0.5604 - acc: 0.7091 - val_loss: 0.6425 - val_acc: 0.6883\n",
      "Epoch 105/250\n",
      "691/691 [==============================] - 0s 159us/sample - loss: 0.5603 - acc: 0.7207 - val_loss: 0.6243 - val_acc: 0.7143\n",
      "Epoch 106/250\n",
      "691/691 [==============================] - 0s 142us/sample - loss: 0.5646 - acc: 0.7149 - val_loss: 0.6299 - val_acc: 0.7143\n",
      "Epoch 107/250\n",
      "691/691 [==============================] - 0s 217us/sample - loss: 0.5675 - acc: 0.7236 - val_loss: 0.6497 - val_acc: 0.6883\n",
      "Epoch 108/250\n",
      "691/691 [==============================] - 0s 142us/sample - loss: 0.5841 - acc: 0.6918 - val_loss: 0.6411 - val_acc: 0.6753\n",
      "Epoch 109/250\n",
      "691/691 [==============================] - 0s 224us/sample - loss: 0.5595 - acc: 0.7135 - val_loss: 0.6385 - val_acc: 0.6883\n",
      "Epoch 110/250\n",
      "691/691 [==============================] - 0s 119us/sample - loss: 0.5587 - acc: 0.7279 - val_loss: 0.6311 - val_acc: 0.6883\n",
      "Epoch 111/250\n",
      "691/691 [==============================] - 0s 190us/sample - loss: 0.5623 - acc: 0.7106 - val_loss: 0.6409 - val_acc: 0.6883\n",
      "Epoch 112/250\n",
      "691/691 [==============================] - 0s 126us/sample - loss: 0.5606 - acc: 0.7207 - val_loss: 0.6174 - val_acc: 0.7143\n",
      "Epoch 113/250\n",
      "691/691 [==============================] - 0s 166us/sample - loss: 0.5584 - acc: 0.7164 - val_loss: 0.6393 - val_acc: 0.6753\n",
      "Epoch 114/250\n",
      "691/691 [==============================] - 0s 194us/sample - loss: 0.5580 - acc: 0.7221 - val_loss: 0.6372 - val_acc: 0.7013\n",
      "Epoch 115/250\n",
      "691/691 [==============================] - 0s 198us/sample - loss: 0.5580 - acc: 0.7236 - val_loss: 0.6392 - val_acc: 0.6883\n",
      "Epoch 116/250\n",
      "691/691 [==============================] - 0s 122us/sample - loss: 0.5575 - acc: 0.7164 - val_loss: 0.6376 - val_acc: 0.7143\n",
      "Epoch 117/250\n",
      "691/691 [==============================] - 0s 207us/sample - loss: 0.5598 - acc: 0.7265 - val_loss: 0.6261 - val_acc: 0.7143\n",
      "Epoch 118/250\n",
      "691/691 [==============================] - 0s 145us/sample - loss: 0.5573 - acc: 0.7120 - val_loss: 0.6303 - val_acc: 0.7013\n",
      "Epoch 119/250\n",
      "691/691 [==============================] - 0s 135us/sample - loss: 0.5638 - acc: 0.7091 - val_loss: 0.6279 - val_acc: 0.7013\n",
      "Epoch 120/250\n",
      "691/691 [==============================] - 0s 184us/sample - loss: 0.5566 - acc: 0.7294 - val_loss: 0.6564 - val_acc: 0.6883\n",
      "Epoch 121/250\n",
      "691/691 [==============================] - 0s 158us/sample - loss: 0.5642 - acc: 0.7135 - val_loss: 0.6258 - val_acc: 0.7143\n",
      "Epoch 122/250\n",
      "691/691 [==============================] - 0s 130us/sample - loss: 0.5734 - acc: 0.6903 - val_loss: 0.6423 - val_acc: 0.7013\n",
      "Epoch 123/250\n",
      "691/691 [==============================] - 0s 129us/sample - loss: 0.5635 - acc: 0.7106 - val_loss: 0.6115 - val_acc: 0.7403\n",
      "Epoch 124/250\n",
      "691/691 [==============================] - 0s 161us/sample - loss: 0.5557 - acc: 0.7250 - val_loss: 0.6357 - val_acc: 0.7013\n",
      "Epoch 125/250\n",
      "691/691 [==============================] - 0s 168us/sample - loss: 0.5598 - acc: 0.7178 - val_loss: 0.6456 - val_acc: 0.6753\n",
      "Epoch 126/250\n",
      "691/691 [==============================] - 0s 172us/sample - loss: 0.5547 - acc: 0.7149 - val_loss: 0.6173 - val_acc: 0.7273\n",
      "Epoch 127/250\n",
      "691/691 [==============================] - 0s 146us/sample - loss: 0.5545 - acc: 0.7250 - val_loss: 0.6290 - val_acc: 0.6883\n",
      "Epoch 128/250\n",
      "691/691 [==============================] - 0s 133us/sample - loss: 0.5554 - acc: 0.7091 - val_loss: 0.6186 - val_acc: 0.7273\n",
      "Epoch 129/250\n",
      "691/691 [==============================] - 0s 119us/sample - loss: 0.5668 - acc: 0.7164 - val_loss: 0.6327 - val_acc: 0.7143\n",
      "Epoch 130/250\n",
      "691/691 [==============================] - 0s 229us/sample - loss: 0.5573 - acc: 0.7265 - val_loss: 0.6182 - val_acc: 0.7273\n",
      "Epoch 131/250\n",
      "691/691 [==============================] - 0s 127us/sample - loss: 0.5522 - acc: 0.7207 - val_loss: 0.6410 - val_acc: 0.6623\n",
      "Epoch 132/250\n",
      "691/691 [==============================] - 0s 207us/sample - loss: 0.5570 - acc: 0.7164 - val_loss: 0.6654 - val_acc: 0.6753\n",
      "Epoch 133/250\n",
      "691/691 [==============================] - 0s 143us/sample - loss: 0.5719 - acc: 0.7033 - val_loss: 0.6684 - val_acc: 0.6883\n",
      "Epoch 134/250\n",
      "691/691 [==============================] - 0s 195us/sample - loss: 0.5578 - acc: 0.7164 - val_loss: 0.6264 - val_acc: 0.7273\n",
      "Epoch 135/250\n",
      "691/691 [==============================] - 0s 188us/sample - loss: 0.5542 - acc: 0.7149 - val_loss: 0.6277 - val_acc: 0.7013\n",
      "Epoch 136/250\n",
      "691/691 [==============================] - 0s 137us/sample - loss: 0.5531 - acc: 0.7207 - val_loss: 0.6310 - val_acc: 0.7143\n",
      "Epoch 137/250\n",
      "691/691 [==============================] - 0s 137us/sample - loss: 0.5548 - acc: 0.7221 - val_loss: 0.6348 - val_acc: 0.7143\n",
      "Epoch 138/250\n",
      "691/691 [==============================] - 0s 137us/sample - loss: 0.5550 - acc: 0.7192 - val_loss: 0.6240 - val_acc: 0.7143\n",
      "Epoch 139/250\n",
      "691/691 [==============================] - 0s 172us/sample - loss: 0.5578 - acc: 0.7135 - val_loss: 0.6234 - val_acc: 0.7403\n",
      "Epoch 140/250\n",
      "691/691 [==============================] - 0s 124us/sample - loss: 0.5549 - acc: 0.7135 - val_loss: 0.6222 - val_acc: 0.7013\n",
      "Epoch 141/250\n",
      "691/691 [==============================] - 0s 143us/sample - loss: 0.5522 - acc: 0.7250 - val_loss: 0.6455 - val_acc: 0.6753\n",
      "Epoch 142/250\n",
      "691/691 [==============================] - 0s 174us/sample - loss: 0.5612 - acc: 0.7019 - val_loss: 0.6303 - val_acc: 0.7143\n",
      "Epoch 143/250\n",
      "691/691 [==============================] - 0s 158us/sample - loss: 0.5516 - acc: 0.7236 - val_loss: 0.6417 - val_acc: 0.6623\n",
      "Epoch 144/250\n",
      "691/691 [==============================] - 0s 165us/sample - loss: 0.5522 - acc: 0.7192 - val_loss: 0.6282 - val_acc: 0.7013\n",
      "Epoch 145/250\n",
      "691/691 [==============================] - 0s 132us/sample - loss: 0.5518 - acc: 0.7178 - val_loss: 0.6360 - val_acc: 0.7143\n",
      "Epoch 146/250\n",
      "691/691 [==============================] - 0s 126us/sample - loss: 0.5621 - acc: 0.7062 - val_loss: 0.6063 - val_acc: 0.7403\n",
      "Epoch 147/250\n",
      "691/691 [==============================] - 0s 119us/sample - loss: 0.5605 - acc: 0.7178 - val_loss: 0.6335 - val_acc: 0.7143\n",
      "Epoch 148/250\n",
      "691/691 [==============================] - 0s 175us/sample - loss: 0.5624 - acc: 0.7164 - val_loss: 0.6326 - val_acc: 0.7143\n",
      "Epoch 149/250\n",
      "691/691 [==============================] - 0s 129us/sample - loss: 0.5536 - acc: 0.7221 - val_loss: 0.6494 - val_acc: 0.6753\n",
      "Epoch 150/250\n",
      "691/691 [==============================] - 0s 122us/sample - loss: 0.5499 - acc: 0.7236 - val_loss: 0.6156 - val_acc: 0.7273\n",
      "Epoch 151/250\n",
      "691/691 [==============================] - 0s 136us/sample - loss: 0.5495 - acc: 0.7149 - val_loss: 0.6503 - val_acc: 0.6883\n",
      "Epoch 152/250\n",
      "691/691 [==============================] - 0s 124us/sample - loss: 0.5629 - acc: 0.7091 - val_loss: 0.6388 - val_acc: 0.6883\n",
      "Epoch 153/250\n",
      "691/691 [==============================] - 0s 357us/sample - loss: 0.5536 - acc: 0.7149 - val_loss: 0.6682 - val_acc: 0.7013\n",
      "Epoch 154/250\n",
      "691/691 [==============================] - 0s 259us/sample - loss: 0.5551 - acc: 0.7192 - val_loss: 0.6480 - val_acc: 0.7013\n",
      "Epoch 155/250\n",
      "691/691 [==============================] - 0s 114us/sample - loss: 0.5510 - acc: 0.7236 - val_loss: 0.6239 - val_acc: 0.7143\n",
      "Epoch 156/250\n",
      "691/691 [==============================] - 0s 139us/sample - loss: 0.5495 - acc: 0.7236 - val_loss: 0.6331 - val_acc: 0.7143\n",
      "Epoch 157/250\n",
      "691/691 [==============================] - 0s 153us/sample - loss: 0.5557 - acc: 0.7192 - val_loss: 0.6228 - val_acc: 0.7013\n",
      "Epoch 158/250\n",
      "691/691 [==============================] - 0s 156us/sample - loss: 0.5491 - acc: 0.7294 - val_loss: 0.6582 - val_acc: 0.7273\n",
      "Epoch 159/250\n",
      "691/691 [==============================] - 0s 137us/sample - loss: 0.5579 - acc: 0.7149 - val_loss: 0.6490 - val_acc: 0.6623\n",
      "Epoch 160/250\n",
      "691/691 [==============================] - 0s 119us/sample - loss: 0.5577 - acc: 0.7135 - val_loss: 0.6541 - val_acc: 0.7013\n",
      "Epoch 161/250\n",
      "691/691 [==============================] - ETA: 0s - loss: 0.5500 - acc: 0.730 - 0s 114us/sample - loss: 0.5478 - acc: 0.7308 - val_loss: 0.6302 - val_acc: 0.7143\n",
      "Epoch 162/250\n",
      "691/691 [==============================] - 0s 135us/sample - loss: 0.5570 - acc: 0.7091 - val_loss: 0.6275 - val_acc: 0.6883\n",
      "Epoch 163/250\n",
      "691/691 [==============================] - 0s 114us/sample - loss: 0.5477 - acc: 0.7178 - val_loss: 0.6323 - val_acc: 0.7143\n",
      "Epoch 164/250\n",
      "691/691 [==============================] - 0s 120us/sample - loss: 0.5553 - acc: 0.7207 - val_loss: 0.6422 - val_acc: 0.6883\n",
      "Epoch 165/250\n",
      "691/691 [==============================] - 0s 149us/sample - loss: 0.5479 - acc: 0.7294 - val_loss: 0.6610 - val_acc: 0.7013\n",
      "Epoch 166/250\n",
      "691/691 [==============================] - 0s 122us/sample - loss: 0.5543 - acc: 0.7164 - val_loss: 0.6344 - val_acc: 0.7143\n",
      "Epoch 167/250\n",
      "691/691 [==============================] - 0s 217us/sample - loss: 0.5507 - acc: 0.7265 - val_loss: 0.6336 - val_acc: 0.7143\n",
      "Epoch 168/250\n",
      "691/691 [==============================] - 0s 197us/sample - loss: 0.5465 - acc: 0.7250 - val_loss: 0.6324 - val_acc: 0.6753\n",
      "Epoch 169/250\n",
      "691/691 [==============================] - 0s 130us/sample - loss: 0.5513 - acc: 0.7164 - val_loss: 0.6497 - val_acc: 0.6883\n",
      "Epoch 170/250\n",
      "691/691 [==============================] - 0s 126us/sample - loss: 0.5480 - acc: 0.7410 - val_loss: 0.6553 - val_acc: 0.6883\n",
      "Epoch 171/250\n",
      "691/691 [==============================] - 0s 153us/sample - loss: 0.5478 - acc: 0.7192 - val_loss: 0.6298 - val_acc: 0.7143\n",
      "Epoch 172/250\n",
      "691/691 [==============================] - 0s 156us/sample - loss: 0.5451 - acc: 0.7265 - val_loss: 0.6371 - val_acc: 0.7143\n",
      "Epoch 173/250\n",
      "691/691 [==============================] - 0s 129us/sample - loss: 0.5472 - acc: 0.7337 - val_loss: 0.6425 - val_acc: 0.7143\n",
      "Epoch 174/250\n",
      "691/691 [==============================] - 0s 114us/sample - loss: 0.5461 - acc: 0.7265 - val_loss: 0.6279 - val_acc: 0.7143\n",
      "Epoch 175/250\n",
      "691/691 [==============================] - 0s 119us/sample - loss: 0.5445 - acc: 0.7250 - val_loss: 0.6339 - val_acc: 0.7143\n",
      "Epoch 176/250\n",
      "691/691 [==============================] - 0s 117us/sample - loss: 0.5482 - acc: 0.7236 - val_loss: 0.6240 - val_acc: 0.7273\n",
      "Epoch 177/250\n",
      "691/691 [==============================] - 0s 127us/sample - loss: 0.5478 - acc: 0.7294 - val_loss: 0.6458 - val_acc: 0.7143\n",
      "Epoch 178/250\n",
      "691/691 [==============================] - 0s 132us/sample - loss: 0.5472 - acc: 0.7221 - val_loss: 0.6215 - val_acc: 0.7273\n",
      "Epoch 179/250\n",
      "691/691 [==============================] - 0s 113us/sample - loss: 0.5431 - acc: 0.7308 - val_loss: 0.6331 - val_acc: 0.7143\n",
      "Epoch 180/250\n",
      "691/691 [==============================] - 0s 110us/sample - loss: 0.5487 - acc: 0.7265 - val_loss: 0.6196 - val_acc: 0.7273\n",
      "Epoch 181/250\n",
      "691/691 [==============================] - 0s 111us/sample - loss: 0.5441 - acc: 0.7323 - val_loss: 0.6698 - val_acc: 0.6883\n",
      "Epoch 182/250\n",
      "691/691 [==============================] - 0s 137us/sample - loss: 0.5487 - acc: 0.7250 - val_loss: 0.6374 - val_acc: 0.7143\n",
      "Epoch 183/250\n",
      "691/691 [==============================] - 0s 171us/sample - loss: 0.5462 - acc: 0.7250 - val_loss: 0.6291 - val_acc: 0.7143\n",
      "Epoch 184/250\n",
      "691/691 [==============================] - 0s 149us/sample - loss: 0.5446 - acc: 0.7279 - val_loss: 0.6844 - val_acc: 0.7273\n",
      "Epoch 185/250\n",
      "691/691 [==============================] - 0s 120us/sample - loss: 0.5539 - acc: 0.7265 - val_loss: 0.6199 - val_acc: 0.7273\n",
      "Epoch 186/250\n",
      "691/691 [==============================] - 0s 124us/sample - loss: 0.5467 - acc: 0.7192 - val_loss: 0.6984 - val_acc: 0.6883\n",
      "Epoch 187/250\n",
      "691/691 [==============================] - 0s 142us/sample - loss: 0.5569 - acc: 0.7178 - val_loss: 0.6509 - val_acc: 0.6883\n",
      "Epoch 188/250\n",
      "691/691 [==============================] - 0s 101us/sample - loss: 0.5511 - acc: 0.7178 - val_loss: 0.6171 - val_acc: 0.7273\n",
      "Epoch 189/250\n",
      "691/691 [==============================] - 0s 123us/sample - loss: 0.5448 - acc: 0.7294 - val_loss: 0.6313 - val_acc: 0.7143\n",
      "Epoch 190/250\n",
      "691/691 [==============================] - 0s 113us/sample - loss: 0.5419 - acc: 0.7250 - val_loss: 0.6499 - val_acc: 0.6753\n",
      "Epoch 191/250\n",
      "691/691 [==============================] - 0s 110us/sample - loss: 0.5447 - acc: 0.7279 - val_loss: 0.6336 - val_acc: 0.7013\n",
      "Epoch 192/250\n",
      "691/691 [==============================] - 0s 106us/sample - loss: 0.5424 - acc: 0.7265 - val_loss: 0.6590 - val_acc: 0.7273\n",
      "Epoch 193/250\n",
      "691/691 [==============================] - 0s 177us/sample - loss: 0.5450 - acc: 0.7294 - val_loss: 0.6258 - val_acc: 0.7143\n",
      "Epoch 194/250\n",
      "691/691 [==============================] - 0s 174us/sample - loss: 0.5423 - acc: 0.7236 - val_loss: 0.6312 - val_acc: 0.7143\n",
      "Epoch 195/250\n",
      "691/691 [==============================] - 0s 171us/sample - loss: 0.5424 - acc: 0.7308 - val_loss: 0.6447 - val_acc: 0.7143\n",
      "Epoch 196/250\n",
      "691/691 [==============================] - 0s 200us/sample - loss: 0.5454 - acc: 0.7250 - val_loss: 0.6193 - val_acc: 0.7273\n",
      "Epoch 197/250\n",
      "691/691 [==============================] - 0s 137us/sample - loss: 0.5474 - acc: 0.7135 - val_loss: 0.6362 - val_acc: 0.6883\n",
      "Epoch 198/250\n",
      "691/691 [==============================] - 0s 179us/sample - loss: 0.5573 - acc: 0.7164 - val_loss: 0.6226 - val_acc: 0.7273\n",
      "Epoch 199/250\n",
      "691/691 [==============================] - 0s 117us/sample - loss: 0.5469 - acc: 0.7135 - val_loss: 0.6448 - val_acc: 0.7143\n",
      "Epoch 200/250\n",
      "691/691 [==============================] - 0s 133us/sample - loss: 0.5396 - acc: 0.7294 - val_loss: 0.6378 - val_acc: 0.7013\n",
      "Epoch 201/250\n",
      "691/691 [==============================] - 0s 123us/sample - loss: 0.5430 - acc: 0.7207 - val_loss: 0.6351 - val_acc: 0.7013\n",
      "Epoch 202/250\n",
      "691/691 [==============================] - 0s 151us/sample - loss: 0.5416 - acc: 0.7308 - val_loss: 0.6267 - val_acc: 0.7143\n",
      "Epoch 203/250\n",
      "691/691 [==============================] - 0s 122us/sample - loss: 0.5393 - acc: 0.7337 - val_loss: 0.6388 - val_acc: 0.7143\n",
      "Epoch 204/250\n",
      "691/691 [==============================] - 0s 127us/sample - loss: 0.5408 - acc: 0.7337 - val_loss: 0.6247 - val_acc: 0.7013\n",
      "Epoch 205/250\n",
      "691/691 [==============================] - 0s 123us/sample - loss: 0.5417 - acc: 0.7294 - val_loss: 0.6316 - val_acc: 0.7013\n",
      "Epoch 206/250\n",
      "691/691 [==============================] - 0s 114us/sample - loss: 0.5415 - acc: 0.7323 - val_loss: 0.6419 - val_acc: 0.7143\n",
      "Epoch 207/250\n",
      "691/691 [==============================] - 0s 114us/sample - loss: 0.5394 - acc: 0.7337 - val_loss: 0.6310 - val_acc: 0.6883\n",
      "Epoch 208/250\n",
      "691/691 [==============================] - 0s 124us/sample - loss: 0.5436 - acc: 0.7207 - val_loss: 0.6254 - val_acc: 0.7143\n",
      "Epoch 209/250\n",
      "691/691 [==============================] - 0s 133us/sample - loss: 0.5461 - acc: 0.7236 - val_loss: 0.6232 - val_acc: 0.7143\n",
      "Epoch 210/250\n",
      "691/691 [==============================] - 0s 109us/sample - loss: 0.5470 - acc: 0.7192 - val_loss: 0.6454 - val_acc: 0.6883\n",
      "Epoch 211/250\n",
      "691/691 [==============================] - 0s 122us/sample - loss: 0.5406 - acc: 0.7308 - val_loss: 0.6473 - val_acc: 0.6883\n",
      "Epoch 212/250\n",
      "691/691 [==============================] - 0s 130us/sample - loss: 0.5405 - acc: 0.7279 - val_loss: 0.6389 - val_acc: 0.7273\n",
      "Epoch 213/250\n",
      "691/691 [==============================] - 0s 140us/sample - loss: 0.5408 - acc: 0.7250 - val_loss: 0.6358 - val_acc: 0.7273\n",
      "Epoch 214/250\n",
      "691/691 [==============================] - 0s 110us/sample - loss: 0.5447 - acc: 0.7279 - val_loss: 0.6406 - val_acc: 0.6883\n",
      "Epoch 215/250\n",
      "691/691 [==============================] - 0s 116us/sample - loss: 0.5458 - acc: 0.7294 - val_loss: 0.6753 - val_acc: 0.7013\n",
      "Epoch 216/250\n",
      "691/691 [==============================] - 0s 110us/sample - loss: 0.5494 - acc: 0.7308 - val_loss: 0.6157 - val_acc: 0.7403\n",
      "Epoch 217/250\n",
      "691/691 [==============================] - 0s 117us/sample - loss: 0.5400 - acc: 0.7352 - val_loss: 0.6604 - val_acc: 0.7143\n",
      "Epoch 218/250\n",
      "691/691 [==============================] - 0s 120us/sample - loss: 0.5414 - acc: 0.7192 - val_loss: 0.6320 - val_acc: 0.6883\n",
      "Epoch 219/250\n",
      "691/691 [==============================] - 0s 122us/sample - loss: 0.5364 - acc: 0.7366 - val_loss: 0.6343 - val_acc: 0.7273\n",
      "Epoch 220/250\n",
      "691/691 [==============================] - 0s 135us/sample - loss: 0.5436 - acc: 0.7308 - val_loss: 0.6337 - val_acc: 0.7013\n",
      "Epoch 221/250\n",
      "691/691 [==============================] - 0s 106us/sample - loss: 0.5344 - acc: 0.7467 - val_loss: 0.6299 - val_acc: 0.7273\n",
      "Epoch 222/250\n",
      "691/691 [==============================] - 0s 117us/sample - loss: 0.5386 - acc: 0.7265 - val_loss: 0.6223 - val_acc: 0.7273\n",
      "Epoch 223/250\n",
      "691/691 [==============================] - 0s 117us/sample - loss: 0.5442 - acc: 0.7236 - val_loss: 0.6304 - val_acc: 0.7013\n",
      "Epoch 224/250\n",
      "691/691 [==============================] - 0s 124us/sample - loss: 0.5421 - acc: 0.7236 - val_loss: 0.6333 - val_acc: 0.6883\n",
      "Epoch 225/250\n",
      "691/691 [==============================] - 0s 139us/sample - loss: 0.5385 - acc: 0.7366 - val_loss: 0.6604 - val_acc: 0.7273\n",
      "Epoch 226/250\n",
      "691/691 [==============================] - 0s 122us/sample - loss: 0.5470 - acc: 0.7250 - val_loss: 0.6065 - val_acc: 0.7273\n",
      "Epoch 227/250\n",
      "691/691 [==============================] - 0s 113us/sample - loss: 0.5473 - acc: 0.7236 - val_loss: 0.6307 - val_acc: 0.7403\n",
      "Epoch 228/250\n",
      "691/691 [==============================] - 0s 117us/sample - loss: 0.5404 - acc: 0.7279 - val_loss: 0.6165 - val_acc: 0.7143\n",
      "Epoch 229/250\n",
      "691/691 [==============================] - 0s 116us/sample - loss: 0.5359 - acc: 0.7236 - val_loss: 0.6525 - val_acc: 0.7013\n",
      "Epoch 230/250\n",
      "691/691 [==============================] - 0s 106us/sample - loss: 0.5362 - acc: 0.7352 - val_loss: 0.6347 - val_acc: 0.7143\n",
      "Epoch 231/250\n",
      "691/691 [==============================] - 0s 133us/sample - loss: 0.5365 - acc: 0.7308 - val_loss: 0.6055 - val_acc: 0.7143\n",
      "Epoch 232/250\n",
      "691/691 [==============================] - 0s 106us/sample - loss: 0.5441 - acc: 0.7207 - val_loss: 0.6355 - val_acc: 0.7143\n",
      "Epoch 233/250\n",
      "691/691 [==============================] - 0s 126us/sample - loss: 0.5459 - acc: 0.7178 - val_loss: 0.6304 - val_acc: 0.7273\n",
      "Epoch 234/250\n",
      "691/691 [==============================] - 0s 123us/sample - loss: 0.5329 - acc: 0.7395 - val_loss: 0.6277 - val_acc: 0.7013\n",
      "Epoch 235/250\n",
      "691/691 [==============================] - 0s 126us/sample - loss: 0.5340 - acc: 0.7381 - val_loss: 0.6425 - val_acc: 0.7013\n",
      "Epoch 236/250\n",
      "691/691 [==============================] - 0s 111us/sample - loss: 0.5335 - acc: 0.7265 - val_loss: 0.6045 - val_acc: 0.7273\n",
      "Epoch 237/250\n",
      "691/691 [==============================] - 0s 113us/sample - loss: 0.5458 - acc: 0.7323 - val_loss: 0.6321 - val_acc: 0.7273\n",
      "Epoch 238/250\n",
      "691/691 [==============================] - 0s 110us/sample - loss: 0.5318 - acc: 0.7410 - val_loss: 0.6210 - val_acc: 0.7273\n",
      "Epoch 239/250\n",
      "691/691 [==============================] - ETA: 0s - loss: 0.5369 - acc: 0.722 - 0s 135us/sample - loss: 0.5385 - acc: 0.7265 - val_loss: 0.6386 - val_acc: 0.7013\n",
      "Epoch 240/250\n",
      "691/691 [==============================] - 0s 111us/sample - loss: 0.5343 - acc: 0.7424 - val_loss: 0.6094 - val_acc: 0.7403\n",
      "Epoch 241/250\n",
      "691/691 [==============================] - 0s 113us/sample - loss: 0.5396 - acc: 0.7337 - val_loss: 0.6347 - val_acc: 0.6883\n",
      "Epoch 242/250\n",
      "691/691 [==============================] - 0s 109us/sample - loss: 0.5392 - acc: 0.7192 - val_loss: 0.6230 - val_acc: 0.7273\n",
      "Epoch 243/250\n",
      "691/691 [==============================] - 0s 119us/sample - loss: 0.5363 - acc: 0.7366 - val_loss: 0.6491 - val_acc: 0.7143\n",
      "Epoch 244/250\n",
      "691/691 [==============================] - 0s 114us/sample - loss: 0.5369 - acc: 0.7337 - val_loss: 0.5901 - val_acc: 0.7403\n",
      "Epoch 245/250\n",
      "691/691 [==============================] - 0s 116us/sample - loss: 0.5455 - acc: 0.7221 - val_loss: 0.6294 - val_acc: 0.7143\n",
      "Epoch 246/250\n",
      "691/691 [==============================] - 0s 122us/sample - loss: 0.5368 - acc: 0.7352 - val_loss: 0.6327 - val_acc: 0.7403\n",
      "Epoch 247/250\n",
      "691/691 [==============================] - 0s 111us/sample - loss: 0.5420 - acc: 0.7077 - val_loss: 0.6249 - val_acc: 0.7273\n",
      "Epoch 248/250\n",
      "691/691 [==============================] - 0s 122us/sample - loss: 0.5420 - acc: 0.7236 - val_loss: 0.6423 - val_acc: 0.7013\n",
      "Epoch 249/250\n",
      "691/691 [==============================] - 0s 117us/sample - loss: 0.5375 - acc: 0.7438 - val_loss: 0.6323 - val_acc: 0.7013\n",
      "Epoch 250/250\n",
      "691/691 [==============================] - 0s 123us/sample - loss: 0.5361 - acc: 0.7250 - val_loss: 0.6166 - val_acc: 0.7273\n"
     ]
    },
    {
     "data": {
      "text/plain": [
       "<tensorflow.python.keras.callbacks.History at 0x1d3b571a688>"
      ]
     },
     "execution_count": 22,
     "metadata": {},
     "output_type": "execute_result"
    }
   ],
   "source": [
    "model_improved.fit(X,y, epochs=250, validation_split=.10)"
   ]
  },
  {
   "cell_type": "code",
   "execution_count": 23,
   "metadata": {
    "scrolled": true
   },
   "outputs": [
    {
     "name": "stdout",
     "output_type": "stream",
     "text": [
      "768/768 [==============================] - 0s 44us/sample - loss: 0.5413 - acc: 0.7422\n"
     ]
    },
    {
     "data": {
      "text/plain": [
       "[0.5413497959574064, 0.7421875]"
      ]
     },
     "execution_count": 23,
     "metadata": {},
     "output_type": "execute_result"
    }
   ],
   "source": [
    "model_improved.evaluate(X,y)\n",
    "#print(f\"{model_improved.metrics_names[1]}: {scores[1]*100}\")"
   ]
  },
  {
   "cell_type": "markdown",
   "metadata": {},
   "source": [
    "## Challenge\n",
    "\n",
    "You will have to choose your own architectures in today's module project. "
   ]
  },
  {
   "cell_type": "markdown",
   "metadata": {
    "colab_type": "text",
    "id": "tcjMuxtn6wIQ",
    "toc-hr-collapsed": false
   },
   "source": [
    "# Activation Functions (Learn)"
   ]
  },
  {
   "cell_type": "markdown",
   "metadata": {
    "colab_type": "text",
    "id": "tcjMuxtn6wIQ",
    "toc-hr-collapsed": false
   },
   "source": [
    "## Overview\n",
    "What is an activation function and how does it work?\n",
    "\n",
    "- Takes in a weighted sum of inputs + a bias from the previous layer and outputs an \"activation\" value.\n",
    "- Based its inputs the neuron decides how 'activated' it should be. This can be thought of as the neuron deciding how strongly to fire. You can also think of it as if the neuron is deciding how much of the signal that it has received to pass onto the next layer. \n",
    "- Our choice of activation function does not only affect signal that is passed forward but also affects the backpropagation algorithm. It affects how we update weights in reverse order since activated weight/input sums become the inputs of the next layer. "
   ]
  },
  {
   "cell_type": "markdown",
   "metadata": {
    "toc-hr-collapsed": true
   },
   "source": [
    "## Follow Along"
   ]
  },
  {
   "cell_type": "markdown",
   "metadata": {
    "colab_type": "text",
    "id": "n_b0u8Ch60bA"
   },
   "source": [
    "### Step Function\n",
    "\n",
    "![Heaviside Step Function](https://upload.wikimedia.org/wikipedia/commons/thumb/d/d9/Dirac_distribution_CDF.svg/325px-Dirac_distribution_CDF.svg.png)\n",
    "\n",
    "All or nothing, a little extreme, which is fine, but makes updating weights through backpropagation impossible. Why? remember that during backpropagation we use derivatives in order to determine how much to update or not update weights. What is the derivative of the step function?"
   ]
  },
  {
   "cell_type": "markdown",
   "metadata": {
    "colab_type": "text",
    "id": "vKR0YhIVEnXZ"
   },
   "source": [
    "### Linear Function\n",
    "\n",
    "![Linear Function](http://www.roconnell.net/Parent%20function/linear.gif)\n",
    "\n",
    "The linear function takes the opposite tact from the step function and passes the signal onto the next layer by a constant factor. There are problems with this but the biggest problems again lie in backpropagation. The derivative of any linear function is a horizontal line which would indicate that we should update all weights by a constant amount every time -which on balance wouldn't change the behavior of our network. Linear functions are typically only used for very simple tasks where interpretability is important, but if interpretability is your highest priority, you probably shouldn't be using neural networks in the first place."
   ]
  },
  {
   "cell_type": "markdown",
   "metadata": {
    "colab_type": "text",
    "id": "JFurIVL6EkQ8"
   },
   "source": [
    "### Sigmoid Function\n",
    "\n",
    "![Sigmoid Function](https://upload.wikimedia.org/wikipedia/commons/thumb/8/88/Logistic-curve.svg/480px-Logistic-curve.svg.png)\n",
    "\n",
    "The sigmoid function works great as an activation function! it's continuously differentiable, its derivative doesn't have a constant slope, and having the higher slope in the middle pushes y value predictions towards extremes which is particularly useful for binary classification problems. I mean, this is why we use it as the squishifier in logistic regression as well. It constrains output, but over repeated epochs pushes predictions towards a strong binary prediction. \n",
    "\n",
    "What's the biggest problem with the sigmoid function? The fact that its slope gets pretty flat so quickly after its departure from zero. This means that updating weights based on its gradient really diminishes the size of our weight updates as our model gets more confident about its classifications. This is why even after so many iterations with our test score example we couldn't reach the levels of fit that our gradient descent based model could reach in just a few epochs."
   ]
  },
  {
   "cell_type": "markdown",
   "metadata": {
    "colab_type": "text",
    "id": "hm6p1HWbEhYi"
   },
   "source": [
    "### Tanh Function\n",
    "\n",
    "![Tanh Function](http://mathworld.wolfram.com/images/interactive/TanhReal.gif)\n",
    "\n",
    "What if the sigmoid function didn't get so flat quite as soon when moving away from zero and was a little bit steeper in the middle? That's basically the Tanh function. The Tanh function can actually be created by scaling the sigmoid function by 2 in the y dimension and subtracting 1 from all values. It has basically the same properties as the sigmoid, still struggles from diminishingly flat gradients as we move away from 0, but its derivative is higher around 0 causing weights to move to the extremes a little faster. "
   ]
  },
  {
   "cell_type": "markdown",
   "metadata": {
    "colab_type": "text",
    "id": "sFOn_L6gEcz1"
   },
   "source": [
    "### ReLU Function\n",
    "\n",
    "![ReLU Function](https://cdn-images-1.medium.com/max/937/1*oePAhrm74RNnNEolprmTaQ.png)\n",
    "\n",
    "ReLU stands for Rectified Linear Units it is by far the most commonly used activation function in modern neural networks. It doesn't activate neurons that are being passed a negative signal and passes on positive signals. Think about why this might be useful. Remember how a lot of our initial weights got set to negative numbers by chance? This would have dealt with those negative weights a lot faster than the sigmoid function updating. What does the derivative of this function look like? It looks like the step function! This means that not all neurons are activated. With sigmoid basically all of our neurons are passing some amount of signal even if it's small making it hard for the network to differentiate important and less important connections. ReLU turns off a portion of our less important neurons which decreases computational load, but also helps the network learn what the most important connections are faster. \n",
    "\n",
    "What's the problem with relu? Well the left half of its derivative function shows that for neurons that are initialized with weights that cause them to have no activation, our gradient will not update those neuron's weights, this can lead to dead neurons that never fire and whose weights never get updated. We would probably want to update the weights of neurons that didn't fire even if it's just by a little bit in case we got unlucky with our initial weights and want to give those neurons a chance of turning back on in the future."
   ]
  },
  {
   "cell_type": "markdown",
   "metadata": {
    "colab_type": "text",
    "id": "XWdvWOBIETwk"
   },
   "source": [
    "### Leaky ReLU\n",
    "\n",
    "![Leaky ReLU](https://cdn-images-1.medium.com/max/1600/1*ypsvQH7kvtI2BhzR2eT_Sw.png)\n",
    "\n",
    "Leaky ReLU accomplishes exactly that! it avoids having a gradient of 0 on the left side of its derivative function. This means that even \"dead\" neurons have a chance of being revived over enough iterations. In some specifications the slope of the leaky left-hand side can also be experimented with as a hyperparameter of the model!"
   ]
  },
  {
   "cell_type": "markdown",
   "metadata": {
    "colab_type": "text",
    "id": "FcAxkNFREMFb"
   },
   "source": [
    "### Softmax Function\n",
    "\n",
    "![Softmax Function](https://cdn-images-1.medium.com/max/800/1*670CdxchunD-yAuUWdI7Bw.png)\n",
    "\n",
    "Like the sigmoid function but more useful for multi-class classification problems. The softmax function can take any set of inputs and translate them into probabilities that sum up to 1. This means that we can throw any list of outputs at it and it will translate them into probabilities, this is extremely useful for multi-class classification problems. Like MNIST for example..."
   ]
  },
  {
   "cell_type": "markdown",
   "metadata": {
    "colab_type": "text",
    "id": "23-XRRXKHs34"
   },
   "source": [
    "### Major takeaways\n",
    "\n",
    "- ReLU is generally better at obtaining the optimal model fit.\n",
    "- Sigmoid and its derivatives are usually better at classification problems.\n",
    "- Softmax for multi-class classification problems. \n",
    "\n",
    "You'll typically see ReLU used for all initial layers and then the final layer being sigmoid or softmax for classification problems. But you can experiment and tune these selections as hyperparameters as well!"
   ]
  },
  {
   "cell_type": "markdown",
   "metadata": {
    "colab_type": "text",
    "id": "TWuoXZCCKCI7"
   },
   "source": [
    "### MNIST with Keras \n",
    "\n",
    "#### This will be a good chance to bring up dropout regularization. :)"
   ]
  },
  {
   "cell_type": "code",
   "execution_count": 24,
   "metadata": {
    "colab": {},
    "colab_type": "code",
    "id": "jmJ_5azs04pU"
   },
   "outputs": [],
   "source": [
    "### Let's do it!\n",
    "\n",
    "from tensorflow import keras\n",
    "from tensorflow.keras.datasets import mnist\n",
    "from tensorflow.keras.models import Sequential\n",
    "from tensorflow.keras.layers import Dense, Dropout\n",
    "\n",
    "# Stretch - use dropout \n",
    "import numpy as np"
   ]
  },
  {
   "cell_type": "code",
   "execution_count": 25,
   "metadata": {},
   "outputs": [],
   "source": [
    "# Hyper Parameters\n",
    "batch_size = 64\n",
    "num_classes = 10\n",
    "epochs = 20"
   ]
  },
  {
   "cell_type": "code",
   "execution_count": 26,
   "metadata": {},
   "outputs": [],
   "source": [
    "# Load the Data\n",
    "(X_train, y_train), (X_test, y_test) = mnist.load_data()"
   ]
  },
  {
   "cell_type": "code",
   "execution_count": 27,
   "metadata": {},
   "outputs": [
    {
     "data": {
      "text/plain": [
       "(28, 28)"
      ]
     },
     "execution_count": 27,
     "metadata": {},
     "output_type": "execute_result"
    }
   ],
   "source": [
    "X_train[0].shape"
   ]
  },
  {
   "cell_type": "code",
   "execution_count": 28,
   "metadata": {},
   "outputs": [
    {
     "data": {
      "text/plain": [
       "(60000, 28, 28)"
      ]
     },
     "execution_count": 28,
     "metadata": {},
     "output_type": "execute_result"
    }
   ],
   "source": [
    "X_train.shape"
   ]
  },
  {
   "cell_type": "code",
   "execution_count": 30,
   "metadata": {
    "scrolled": true
   },
   "outputs": [
    {
     "data": {
      "text/plain": [
       "array([[  0,   0,   0,   0,   0,   0,   0,   0,   0,   0,   0,   0,   0,\n",
       "          0,   0,   0,   0,   0,   0,   0,   0,   0,   0,   0,   0,   0,\n",
       "          0,   0],\n",
       "       [  0,   0,   0,   0,   0,   0,   0,   0,   0,   0,   0,   0,   0,\n",
       "          0,   0,   0,   0,   0,   0,   0,   0,   0,   0,   0,   0,   0,\n",
       "          0,   0],\n",
       "       [  0,   0,   0,   0,   0,   0,   0,   0,   0,   0,   0,   0,   0,\n",
       "          0,   0,   0,   0,   0,   0,   0,   0,   0,   0,   0,   0,   0,\n",
       "          0,   0],\n",
       "       [  0,   0,   0,   0,   0,   0,   0,   0,   0,   0,   0,   0,   0,\n",
       "          0,   0,   0,   0,   0,   0,   0,   0,   0,   0,   0,   0,   0,\n",
       "          0,   0],\n",
       "       [  0,   0,   0,   0,   0,   0,   0,   0,   0,   0,   0,   0,   0,\n",
       "          0,   0,   0,   0,   0,   0,   0,   0,   0,   0,   0,   0,   0,\n",
       "          0,   0],\n",
       "       [  0,   0,   0,   0,   0,   0,   0,   0,   0,   0,   0,   0,   3,\n",
       "         18,  18,  18, 126, 136, 175,  26, 166, 255, 247, 127,   0,   0,\n",
       "          0,   0],\n",
       "       [  0,   0,   0,   0,   0,   0,   0,   0,  30,  36,  94, 154, 170,\n",
       "        253, 253, 253, 253, 253, 225, 172, 253, 242, 195,  64,   0,   0,\n",
       "          0,   0],\n",
       "       [  0,   0,   0,   0,   0,   0,   0,  49, 238, 253, 253, 253, 253,\n",
       "        253, 253, 253, 253, 251,  93,  82,  82,  56,  39,   0,   0,   0,\n",
       "          0,   0],\n",
       "       [  0,   0,   0,   0,   0,   0,   0,  18, 219, 253, 253, 253, 253,\n",
       "        253, 198, 182, 247, 241,   0,   0,   0,   0,   0,   0,   0,   0,\n",
       "          0,   0],\n",
       "       [  0,   0,   0,   0,   0,   0,   0,   0,  80, 156, 107, 253, 253,\n",
       "        205,  11,   0,  43, 154,   0,   0,   0,   0,   0,   0,   0,   0,\n",
       "          0,   0],\n",
       "       [  0,   0,   0,   0,   0,   0,   0,   0,   0,  14,   1, 154, 253,\n",
       "         90,   0,   0,   0,   0,   0,   0,   0,   0,   0,   0,   0,   0,\n",
       "          0,   0],\n",
       "       [  0,   0,   0,   0,   0,   0,   0,   0,   0,   0,   0, 139, 253,\n",
       "        190,   2,   0,   0,   0,   0,   0,   0,   0,   0,   0,   0,   0,\n",
       "          0,   0],\n",
       "       [  0,   0,   0,   0,   0,   0,   0,   0,   0,   0,   0,  11, 190,\n",
       "        253,  70,   0,   0,   0,   0,   0,   0,   0,   0,   0,   0,   0,\n",
       "          0,   0],\n",
       "       [  0,   0,   0,   0,   0,   0,   0,   0,   0,   0,   0,   0,  35,\n",
       "        241, 225, 160, 108,   1,   0,   0,   0,   0,   0,   0,   0,   0,\n",
       "          0,   0],\n",
       "       [  0,   0,   0,   0,   0,   0,   0,   0,   0,   0,   0,   0,   0,\n",
       "         81, 240, 253, 253, 119,  25,   0,   0,   0,   0,   0,   0,   0,\n",
       "          0,   0],\n",
       "       [  0,   0,   0,   0,   0,   0,   0,   0,   0,   0,   0,   0,   0,\n",
       "          0,  45, 186, 253, 253, 150,  27,   0,   0,   0,   0,   0,   0,\n",
       "          0,   0],\n",
       "       [  0,   0,   0,   0,   0,   0,   0,   0,   0,   0,   0,   0,   0,\n",
       "          0,   0,  16,  93, 252, 253, 187,   0,   0,   0,   0,   0,   0,\n",
       "          0,   0],\n",
       "       [  0,   0,   0,   0,   0,   0,   0,   0,   0,   0,   0,   0,   0,\n",
       "          0,   0,   0,   0, 249, 253, 249,  64,   0,   0,   0,   0,   0,\n",
       "          0,   0],\n",
       "       [  0,   0,   0,   0,   0,   0,   0,   0,   0,   0,   0,   0,   0,\n",
       "          0,  46, 130, 183, 253, 253, 207,   2,   0,   0,   0,   0,   0,\n",
       "          0,   0],\n",
       "       [  0,   0,   0,   0,   0,   0,   0,   0,   0,   0,   0,   0,  39,\n",
       "        148, 229, 253, 253, 253, 250, 182,   0,   0,   0,   0,   0,   0,\n",
       "          0,   0],\n",
       "       [  0,   0,   0,   0,   0,   0,   0,   0,   0,   0,  24, 114, 221,\n",
       "        253, 253, 253, 253, 201,  78,   0,   0,   0,   0,   0,   0,   0,\n",
       "          0,   0],\n",
       "       [  0,   0,   0,   0,   0,   0,   0,   0,  23,  66, 213, 253, 253,\n",
       "        253, 253, 198,  81,   2,   0,   0,   0,   0,   0,   0,   0,   0,\n",
       "          0,   0],\n",
       "       [  0,   0,   0,   0,   0,   0,  18, 171, 219, 253, 253, 253, 253,\n",
       "        195,  80,   9,   0,   0,   0,   0,   0,   0,   0,   0,   0,   0,\n",
       "          0,   0],\n",
       "       [  0,   0,   0,   0,  55, 172, 226, 253, 253, 253, 253, 244, 133,\n",
       "         11,   0,   0,   0,   0,   0,   0,   0,   0,   0,   0,   0,   0,\n",
       "          0,   0],\n",
       "       [  0,   0,   0,   0, 136, 253, 253, 253, 212, 135, 132,  16,   0,\n",
       "          0,   0,   0,   0,   0,   0,   0,   0,   0,   0,   0,   0,   0,\n",
       "          0,   0],\n",
       "       [  0,   0,   0,   0,   0,   0,   0,   0,   0,   0,   0,   0,   0,\n",
       "          0,   0,   0,   0,   0,   0,   0,   0,   0,   0,   0,   0,   0,\n",
       "          0,   0],\n",
       "       [  0,   0,   0,   0,   0,   0,   0,   0,   0,   0,   0,   0,   0,\n",
       "          0,   0,   0,   0,   0,   0,   0,   0,   0,   0,   0,   0,   0,\n",
       "          0,   0],\n",
       "       [  0,   0,   0,   0,   0,   0,   0,   0,   0,   0,   0,   0,   0,\n",
       "          0,   0,   0,   0,   0,   0,   0,   0,   0,   0,   0,   0,   0,\n",
       "          0,   0]], dtype=uint8)"
      ]
     },
     "execution_count": 30,
     "metadata": {},
     "output_type": "execute_result"
    }
   ],
   "source": [
    "X_train[0]"
   ]
  },
  {
   "cell_type": "code",
   "execution_count": 31,
   "metadata": {},
   "outputs": [],
   "source": [
    "# Reshape the data\n",
    "X_train = X_train.reshape(60000, 784)\n",
    "X_test = X_test.reshape(10000, 784)"
   ]
  },
  {
   "cell_type": "code",
   "execution_count": 32,
   "metadata": {},
   "outputs": [],
   "source": [
    "# X Variable Types\n",
    "X_train = X_train.astype('float32')\n",
    "X_test = X_test.astype('float32')"
   ]
  },
  {
   "cell_type": "code",
   "execution_count": 33,
   "metadata": {},
   "outputs": [
    {
     "data": {
      "text/plain": [
       "4"
      ]
     },
     "execution_count": 33,
     "metadata": {},
     "output_type": "execute_result"
    }
   ],
   "source": [
    "y_train[2] "
   ]
  },
  {
   "cell_type": "code",
   "execution_count": 34,
   "metadata": {},
   "outputs": [
    {
     "data": {
      "text/plain": [
       "4"
      ]
     },
     "execution_count": 34,
     "metadata": {},
     "output_type": "execute_result"
    }
   ],
   "source": [
    "y_train[2]"
   ]
  },
  {
   "cell_type": "code",
   "execution_count": 35,
   "metadata": {},
   "outputs": [],
   "source": [
    "# Correct Encoding on Y\n",
    "# What softmax expects = [0,0,0,0,0,1,0,0,0,0]\n",
    "\n",
    "y_train = keras.utils.to_categorical(y_train, num_classes)\n",
    "y_test = keras.utils.to_categorical(y_test, num_classes)"
   ]
  },
  {
   "cell_type": "code",
   "execution_count": 36,
   "metadata": {},
   "outputs": [
    {
     "data": {
      "text/plain": [
       "array([0., 0., 0., 0., 1., 0., 0., 0., 0., 0.], dtype=float32)"
      ]
     },
     "execution_count": 36,
     "metadata": {},
     "output_type": "execute_result"
    }
   ],
   "source": [
    "y_train[2]"
   ]
  },
  {
   "cell_type": "code",
   "execution_count": 37,
   "metadata": {},
   "outputs": [
    {
     "name": "stdout",
     "output_type": "stream",
     "text": [
      "Model: \"sequential_2\"\n",
      "_________________________________________________________________\n",
      "Layer (type)                 Output Shape              Param #   \n",
      "=================================================================\n",
      "dense_10 (Dense)             (None, 16)                12560     \n",
      "_________________________________________________________________\n",
      "dense_11 (Dense)             (None, 16)                272       \n",
      "_________________________________________________________________\n",
      "dense_12 (Dense)             (None, 16)                272       \n",
      "_________________________________________________________________\n",
      "dense_13 (Dense)             (None, 16)                272       \n",
      "_________________________________________________________________\n",
      "dense_14 (Dense)             (None, 10)                170       \n",
      "=================================================================\n",
      "Total params: 13,546\n",
      "Trainable params: 13,546\n",
      "Non-trainable params: 0\n",
      "_________________________________________________________________\n"
     ]
    }
   ],
   "source": [
    "mnist_model = Sequential()\n",
    "\n",
    "# Input => Hidden\n",
    "mnist_model.add(Dense(16, input_dim=784, activation='relu'))\n",
    "# Hidden\n",
    "mnist_model.add(Dense(16, activation='relu'))\n",
    "# Hidden\n",
    "mnist_model.add(Dense(16, activation='relu'))\n",
    "# Hidden\n",
    "mnist_model.add(Dense(16, activation='relu'))\n",
    "# Output\n",
    "mnist_model.add(Dense(10,activation='softmax'))\n",
    "\n",
    "#Compile\n",
    "mnist_model.compile(loss='categorical_crossentropy',\n",
    "                    optimizer='adam',\n",
    "                    metrics=['accuracy'])\n",
    "\n",
    "mnist_model.summary()"
   ]
  },
  {
   "cell_type": "code",
   "execution_count": 38,
   "metadata": {},
   "outputs": [],
   "source": [
    "def neural_network(X):\n",
    "    \n",
    "    dense1 = Dense(8, activation='relu', input=X)\n",
    "    dense2 = Dense(8, activation='relu')(X)\n",
    "    \n",
    "    \n",
    "    return dense2 #or return model"
   ]
  },
  {
   "cell_type": "code",
   "execution_count": 39,
   "metadata": {},
   "outputs": [
    {
     "data": {
      "text/plain": [
       "12544"
      ]
     },
     "execution_count": 39,
     "metadata": {},
     "output_type": "execute_result"
    }
   ],
   "source": [
    "16 *  784"
   ]
  },
  {
   "cell_type": "code",
   "execution_count": 40,
   "metadata": {},
   "outputs": [
    {
     "data": {
      "text/plain": [
       "(10000, 10)"
      ]
     },
     "execution_count": 40,
     "metadata": {},
     "output_type": "execute_result"
    }
   ],
   "source": [
    "y_test.shape"
   ]
  },
  {
   "cell_type": "code",
   "execution_count": 41,
   "metadata": {},
   "outputs": [
    {
     "name": "stdout",
     "output_type": "stream",
     "text": [
      "10000/10000 [==============================] - 1s 69us/sample - loss: 0.2999 - acc: 0.9254\n"
     ]
    }
   ],
   "source": [
    "history = mnist_model.fit(X_train, y_train, batch_size=32, epochs=100, verbose=False)\n",
    "scores = mnist_model.evaluate(X_test, y_test)\n",
    "#print(f'{mnist_model.metrics_names[1]}: {scores[1]*100}')"
   ]
  },
  {
   "cell_type": "markdown",
   "metadata": {
    "colab_type": "text",
    "id": "CKmx8153w9Ci"
   },
   "source": [
    "### Dropout Regularization\n",
    "\n",
    "![Regularization](https://upload.wikimedia.org/wikipedia/commons/thumb/0/02/Regularization.svg/354px-Regularization.svg.png)"
   ]
  },
  {
   "cell_type": "code",
   "execution_count": 1,
   "metadata": {},
   "outputs": [
    {
     "name": "stderr",
     "output_type": "stream",
     "text": [
      "WARNING: Logging before flag parsing goes to stderr.\n",
      "W0122 16:31:23.965911 14568 deprecation.py:506] From c:\\users\\dylan nason\\anaconda3\\envs\\u4-s2-nn\\lib\\site-packages\\tensorflow\\python\\ops\\init_ops.py:1251: calling VarianceScaling.__init__ (from tensorflow.python.ops.init_ops) with dtype is deprecated and will be removed in a future version.\n",
      "Instructions for updating:\n",
      "Call initializer instance with the dtype argument instead of passing it to the constructor\n"
     ]
    },
    {
     "name": "stdout",
     "output_type": "stream",
     "text": [
      "Model: \"sequential\"\n",
      "_________________________________________________________________\n",
      "Layer (type)                 Output Shape              Param #   \n",
      "=================================================================\n",
      "dense (Dense)                (None, 32)                25120     \n",
      "_________________________________________________________________\n",
      "dropout (Dropout)            (None, 32)                0         \n",
      "_________________________________________________________________\n",
      "dense_1 (Dense)              (None, 16)                528       \n",
      "_________________________________________________________________\n",
      "dropout_1 (Dropout)          (None, 16)                0         \n",
      "_________________________________________________________________\n",
      "dense_2 (Dense)              (None, 10)                170       \n",
      "=================================================================\n",
      "Total params: 25,818\n",
      "Trainable params: 25,818\n",
      "Non-trainable params: 0\n",
      "_________________________________________________________________\n"
     ]
    }
   ],
   "source": [
    "### Let's do it!\n",
    "from tensorflow import keras \n",
    "from tensorflow.keras.datasets import mnist\n",
    "from tensorflow.keras.models import Sequential\n",
    "from tensorflow.keras.layers import Dense, Dropout\n",
    "\n",
    "import numpy as np\n",
    "\n",
    "mnist_model = Sequential()\n",
    "\n",
    "# Hidden\n",
    "mnist_model.add(Dense(32, input_dim=784, activation='relu'))\n",
    "mnist_model.add(Dropout(0.2))\n",
    "mnist_model.add(Dense(16, activation='relu'))\n",
    "mnist_model.add(Dropout(0.2))\n",
    "# Output Layer\n",
    "mnist_model.add(Dense(10, activation='softmax'))\n",
    "\n",
    "mnist_model.compile(loss='categorical_crossentropy',\n",
    "                    optimizer='adam', \n",
    "                    metrics=['accuracy'])\n",
    "mnist_model.summary()"
   ]
  },
  {
   "cell_type": "code",
   "execution_count": null,
   "metadata": {},
   "outputs": [],
   "source": [
    "history = mnist_model.fit(X_train, y_train, batch_size=32, epochs=epochs, validation_split=.1, verbose=0)\n",
    "scores = mnist_model.evaluate(X_test, y_test)\n",
    "print(f'{mnist_model.metrics_names[1]}: {scores[1]*100}')"
   ]
  },
  {
   "cell_type": "markdown",
   "metadata": {},
   "source": [
    "## Challenge\n",
    "\n",
    "You will apply your choice of activation function inside two Keras Seqeuntial models today. "
   ]
  }
 ],
 "metadata": {
  "colab": {
   "collapsed_sections": [],
   "name": "LS_DS_433_Keras_Lecture.ipynb",
   "provenance": [],
   "version": "0.3.2"
  },
  "kernelspec": {
   "display_name": "Python 3",
   "language": "python",
   "name": "python3"
  },
  "language_info": {
   "codemirror_mode": {
    "name": "ipython",
    "version": 3
   },
   "file_extension": ".py",
   "mimetype": "text/x-python",
   "name": "python",
   "nbconvert_exporter": "python",
   "pygments_lexer": "ipython3",
   "version": "3.7.6"
  },
  "toc-autonumbering": false,
  "toc-showmarkdowntxt": false
 },
 "nbformat": 4,
 "nbformat_minor": 4
}
